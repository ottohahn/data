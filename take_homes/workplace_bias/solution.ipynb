{
 "cells": [
  {
   "cell_type": "code",
   "execution_count": 213,
   "metadata": {
    "collapsed": false
   },
   "outputs": [],
   "source": [
    "import pandas as pd\n",
    "import numpy as np\n",
    "import statsmodels.api as sm\n",
    "from sklearn.ensemble import RandomForestRegressor\n",
    "from sklearn.cross_validation import train_test_split\n",
    "from matplotlib import pyplot as plt\n",
    "%matplotlib inline\n",
    "# remove employee 8473"
   ]
  },
  {
   "cell_type": "code",
   "execution_count": 65,
   "metadata": {
    "collapsed": true
   },
   "outputs": [],
   "source": [
    "co = pd.read_csv(\"HR/company_hierarchy_mod.csv\")\n",
    "emp = pd.read_csv(\"HR/employee_mod.csv\")"
   ]
  },
  {
   "cell_type": "code",
   "execution_count": 94,
   "metadata": {
    "collapsed": false
   },
   "outputs": [
    {
     "data": {
      "text/html": [
       "<div>\n",
       "<table border=\"1\" class=\"dataframe\">\n",
       "  <thead>\n",
       "    <tr style=\"text-align: right;\">\n",
       "      <th></th>\n",
       "      <th>employee_id</th>\n",
       "      <th>signing_bonus</th>\n",
       "      <th>salary</th>\n",
       "      <th>degree_level</th>\n",
       "      <th>sex</th>\n",
       "      <th>yrs_experience</th>\n",
       "    </tr>\n",
       "  </thead>\n",
       "  <tbody>\n",
       "    <tr>\n",
       "      <th>0</th>\n",
       "      <td>138719</td>\n",
       "      <td>0</td>\n",
       "      <td>273000.0</td>\n",
       "      <td>Master</td>\n",
       "      <td>M</td>\n",
       "      <td>2</td>\n",
       "    </tr>\n",
       "    <tr>\n",
       "      <th>1</th>\n",
       "      <td>3192</td>\n",
       "      <td>0</td>\n",
       "      <td>301000.0</td>\n",
       "      <td>Bachelor</td>\n",
       "      <td>F</td>\n",
       "      <td>1</td>\n",
       "    </tr>\n",
       "    <tr>\n",
       "      <th>2</th>\n",
       "      <td>114657</td>\n",
       "      <td>0</td>\n",
       "      <td>261000.0</td>\n",
       "      <td>Master</td>\n",
       "      <td>F</td>\n",
       "      <td>2</td>\n",
       "    </tr>\n",
       "    <tr>\n",
       "      <th>3</th>\n",
       "      <td>29039</td>\n",
       "      <td>0</td>\n",
       "      <td>86000.0</td>\n",
       "      <td>High_School</td>\n",
       "      <td>F</td>\n",
       "      <td>4</td>\n",
       "    </tr>\n",
       "    <tr>\n",
       "      <th>4</th>\n",
       "      <td>118607</td>\n",
       "      <td>0</td>\n",
       "      <td>126000.0</td>\n",
       "      <td>Bachelor</td>\n",
       "      <td>F</td>\n",
       "      <td>3</td>\n",
       "    </tr>\n",
       "  </tbody>\n",
       "</table>\n",
       "</div>"
      ],
      "text/plain": [
       "   employee_id  signing_bonus    salary degree_level sex  yrs_experience\n",
       "0       138719              0  273000.0       Master   M               2\n",
       "1         3192              0  301000.0     Bachelor   F               1\n",
       "2       114657              0  261000.0       Master   F               2\n",
       "3        29039              0   86000.0  High_School   F               4\n",
       "4       118607              0  126000.0     Bachelor   F               3"
      ]
     },
     "execution_count": 94,
     "metadata": {},
     "output_type": "execute_result"
    }
   ],
   "source": [
    "emp.head()"
   ]
  },
  {
   "cell_type": "code",
   "execution_count": 149,
   "metadata": {
    "collapsed": false
   },
   "outputs": [
    {
     "data": {
      "text/plain": [
       "(9999, 9999, 9999, 9999)"
      ]
     },
     "execution_count": 149,
     "metadata": {},
     "output_type": "execute_result"
    }
   ],
   "source": [
    "len(emp), len(emp['employee_id'].unique()), len(co), len(co['employee_id'].unique())"
   ]
  },
  {
   "cell_type": "code",
   "execution_count": 67,
   "metadata": {
    "collapsed": false
   },
   "outputs": [
    {
     "data": {
      "text/plain": [
       "employee_id    0\n",
       "boss_id        1\n",
       "dept           0\n",
       "dtype: int64"
      ]
     },
     "execution_count": 67,
     "metadata": {},
     "output_type": "execute_result"
    }
   ],
   "source": [
    "co.isnull().sum()"
   ]
  },
  {
   "cell_type": "code",
   "execution_count": 68,
   "metadata": {
    "collapsed": false
   },
   "outputs": [
    {
     "data": {
      "text/plain": [
       "(9999, 9999)"
      ]
     },
     "execution_count": 68,
     "metadata": {},
     "output_type": "execute_result"
    }
   ],
   "source": [
    "len(co), len(co['employee_id'].unique())"
   ]
  },
  {
   "cell_type": "code",
   "execution_count": 69,
   "metadata": {
    "collapsed": false
   },
   "outputs": [],
   "source": [
    "boss = co['boss_id'].dropna().unique()\n",
    "co['IC'] = co['employee_id'].apply(lambda x: True if x not in boss else False)"
   ]
  },
  {
   "cell_type": "code",
   "execution_count": 70,
   "metadata": {
    "collapsed": false
   },
   "outputs": [
    {
     "data": {
      "text/plain": [
       "9000"
      ]
     },
     "execution_count": 70,
     "metadata": {},
     "output_type": "execute_result"
    }
   ],
   "source": [
    "len(co) - len(boss)"
   ]
  },
  {
   "cell_type": "code",
   "execution_count": 71,
   "metadata": {
    "collapsed": false
   },
   "outputs": [
    {
     "data": {
      "text/html": [
       "<div>\n",
       "<table border=\"1\" class=\"dataframe\">\n",
       "  <thead>\n",
       "    <tr style=\"text-align: right;\">\n",
       "      <th></th>\n",
       "      <th>employee_id</th>\n",
       "      <th>boss_id</th>\n",
       "      <th>dept</th>\n",
       "      <th>IC</th>\n",
       "    </tr>\n",
       "  </thead>\n",
       "  <tbody>\n",
       "    <tr>\n",
       "      <th>0</th>\n",
       "      <td>46456</td>\n",
       "      <td>175361.0</td>\n",
       "      <td>sales</td>\n",
       "      <td>True</td>\n",
       "    </tr>\n",
       "    <tr>\n",
       "      <th>1</th>\n",
       "      <td>104708</td>\n",
       "      <td>29733.0</td>\n",
       "      <td>HR</td>\n",
       "      <td>True</td>\n",
       "    </tr>\n",
       "    <tr>\n",
       "      <th>2</th>\n",
       "      <td>120853</td>\n",
       "      <td>41991.0</td>\n",
       "      <td>sales</td>\n",
       "      <td>True</td>\n",
       "    </tr>\n",
       "    <tr>\n",
       "      <th>3</th>\n",
       "      <td>142630</td>\n",
       "      <td>171266.0</td>\n",
       "      <td>HR</td>\n",
       "      <td>False</td>\n",
       "    </tr>\n",
       "    <tr>\n",
       "      <th>4</th>\n",
       "      <td>72711</td>\n",
       "      <td>198240.0</td>\n",
       "      <td>sales</td>\n",
       "      <td>True</td>\n",
       "    </tr>\n",
       "  </tbody>\n",
       "</table>\n",
       "</div>"
      ],
      "text/plain": [
       "   employee_id   boss_id   dept     IC\n",
       "0        46456  175361.0  sales   True\n",
       "1       104708   29733.0     HR   True\n",
       "2       120853   41991.0  sales   True\n",
       "3       142630  171266.0     HR  False\n",
       "4        72711  198240.0  sales   True"
      ]
     },
     "execution_count": 71,
     "metadata": {},
     "output_type": "execute_result"
    }
   ],
   "source": [
    "co.head()"
   ]
  },
  {
   "cell_type": "code",
   "execution_count": 72,
   "metadata": {
    "collapsed": true
   },
   "outputs": [],
   "source": [
    "mm = (co['boss_id'][co['IC']==True]).dropna().unique()\n",
    "co['MM'] = co['employee_id'].apply(lambda x: True if x in mm else False)"
   ]
  },
  {
   "cell_type": "code",
   "execution_count": 73,
   "metadata": {
    "collapsed": false
   },
   "outputs": [
    {
     "data": {
      "text/plain": [
       "800"
      ]
     },
     "execution_count": 73,
     "metadata": {},
     "output_type": "execute_result"
    }
   ],
   "source": [
    "len(mm)"
   ]
  },
  {
   "cell_type": "code",
   "execution_count": 74,
   "metadata": {
    "collapsed": true
   },
   "outputs": [],
   "source": [
    "d = (co['boss_id'][co['MM']==True]).dropna().unique()\n",
    "co['D'] = co['employee_id'].apply(lambda x: True if x in d else False)"
   ]
  },
  {
   "cell_type": "code",
   "execution_count": 75,
   "metadata": {
    "collapsed": false
   },
   "outputs": [
    {
     "data": {
      "text/plain": [
       "159"
      ]
     },
     "execution_count": 75,
     "metadata": {},
     "output_type": "execute_result"
    }
   ],
   "source": [
    "len(d)"
   ]
  },
  {
   "cell_type": "code",
   "execution_count": 76,
   "metadata": {
    "collapsed": true
   },
   "outputs": [],
   "source": [
    "vp = (co['boss_id'][co['D']==True]).dropna().unique()\n",
    "co['VP'] = co['employee_id'].apply(lambda x: True if x in vp else False)"
   ]
  },
  {
   "cell_type": "code",
   "execution_count": 77,
   "metadata": {
    "collapsed": false
   },
   "outputs": [
    {
     "data": {
      "text/plain": [
       "35"
      ]
     },
     "execution_count": 77,
     "metadata": {},
     "output_type": "execute_result"
    }
   ],
   "source": [
    "len(vp)"
   ]
  },
  {
   "cell_type": "code",
   "execution_count": 78,
   "metadata": {
    "collapsed": true
   },
   "outputs": [],
   "source": [
    "e = (co['boss_id'][co['VP']==True]).dropna().unique()\n",
    "co['E'] = co['employee_id'].apply(lambda x: True if x in e else False)"
   ]
  },
  {
   "cell_type": "code",
   "execution_count": 79,
   "metadata": {
    "collapsed": false
   },
   "outputs": [
    {
     "data": {
      "text/plain": [
       "4"
      ]
     },
     "execution_count": 79,
     "metadata": {},
     "output_type": "execute_result"
    }
   ],
   "source": [
    "len(e)"
   ]
  },
  {
   "cell_type": "code",
   "execution_count": 80,
   "metadata": {
    "collapsed": true
   },
   "outputs": [],
   "source": [
    "ceo = (co['boss_id'][co['E']==True]).dropna().unique()\n",
    "co['CEO'] = co['employee_id'].apply(lambda x: True if x in ceo else False)"
   ]
  },
  {
   "cell_type": "code",
   "execution_count": 81,
   "metadata": {
    "collapsed": false
   },
   "outputs": [
    {
     "data": {
      "text/plain": [
       "1"
      ]
     },
     "execution_count": 81,
     "metadata": {},
     "output_type": "execute_result"
    }
   ],
   "source": [
    "len(ceo)"
   ]
  },
  {
   "cell_type": "code",
   "execution_count": 82,
   "metadata": {
    "collapsed": false
   },
   "outputs": [
    {
     "data": {
      "text/html": [
       "<div>\n",
       "<table border=\"1\" class=\"dataframe\">\n",
       "  <thead>\n",
       "    <tr style=\"text-align: right;\">\n",
       "      <th></th>\n",
       "      <th>employee_id</th>\n",
       "      <th>boss_id</th>\n",
       "      <th>dept</th>\n",
       "      <th>IC</th>\n",
       "      <th>MM</th>\n",
       "      <th>D</th>\n",
       "      <th>VP</th>\n",
       "      <th>E</th>\n",
       "      <th>CEO</th>\n",
       "    </tr>\n",
       "  </thead>\n",
       "  <tbody>\n",
       "    <tr>\n",
       "      <th>0</th>\n",
       "      <td>46456</td>\n",
       "      <td>175361.0</td>\n",
       "      <td>sales</td>\n",
       "      <td>True</td>\n",
       "      <td>False</td>\n",
       "      <td>False</td>\n",
       "      <td>False</td>\n",
       "      <td>False</td>\n",
       "      <td>False</td>\n",
       "    </tr>\n",
       "    <tr>\n",
       "      <th>1</th>\n",
       "      <td>104708</td>\n",
       "      <td>29733.0</td>\n",
       "      <td>HR</td>\n",
       "      <td>True</td>\n",
       "      <td>False</td>\n",
       "      <td>False</td>\n",
       "      <td>False</td>\n",
       "      <td>False</td>\n",
       "      <td>False</td>\n",
       "    </tr>\n",
       "    <tr>\n",
       "      <th>2</th>\n",
       "      <td>120853</td>\n",
       "      <td>41991.0</td>\n",
       "      <td>sales</td>\n",
       "      <td>True</td>\n",
       "      <td>False</td>\n",
       "      <td>False</td>\n",
       "      <td>False</td>\n",
       "      <td>False</td>\n",
       "      <td>False</td>\n",
       "    </tr>\n",
       "    <tr>\n",
       "      <th>3</th>\n",
       "      <td>142630</td>\n",
       "      <td>171266.0</td>\n",
       "      <td>HR</td>\n",
       "      <td>False</td>\n",
       "      <td>True</td>\n",
       "      <td>False</td>\n",
       "      <td>False</td>\n",
       "      <td>False</td>\n",
       "      <td>False</td>\n",
       "    </tr>\n",
       "    <tr>\n",
       "      <th>4</th>\n",
       "      <td>72711</td>\n",
       "      <td>198240.0</td>\n",
       "      <td>sales</td>\n",
       "      <td>True</td>\n",
       "      <td>False</td>\n",
       "      <td>False</td>\n",
       "      <td>False</td>\n",
       "      <td>False</td>\n",
       "      <td>False</td>\n",
       "    </tr>\n",
       "  </tbody>\n",
       "</table>\n",
       "</div>"
      ],
      "text/plain": [
       "   employee_id   boss_id   dept     IC     MM      D     VP      E    CEO\n",
       "0        46456  175361.0  sales   True  False  False  False  False  False\n",
       "1       104708   29733.0     HR   True  False  False  False  False  False\n",
       "2       120853   41991.0  sales   True  False  False  False  False  False\n",
       "3       142630  171266.0     HR  False   True  False  False  False  False\n",
       "4        72711  198240.0  sales   True  False  False  False  False  False"
      ]
     },
     "execution_count": 82,
     "metadata": {},
     "output_type": "execute_result"
    }
   ],
   "source": [
    "co.head()"
   ]
  },
  {
   "cell_type": "code",
   "execution_count": 83,
   "metadata": {
    "collapsed": false
   },
   "outputs": [
    {
     "data": {
      "text/plain": [
       "IC     9000\n",
       "MM      800\n",
       "D       159\n",
       "VP       35\n",
       "E         4\n",
       "CEO       1\n",
       "dtype: int64"
      ]
     },
     "execution_count": 83,
     "metadata": {},
     "output_type": "execute_result"
    }
   ],
   "source": [
    "co[['IC','MM','D','VP','E','CEO']].sum()"
   ]
  },
  {
   "cell_type": "code",
   "execution_count": 84,
   "metadata": {
    "collapsed": false
   },
   "outputs": [
    {
     "data": {
      "text/plain": [
       "9999"
      ]
     },
     "execution_count": 84,
     "metadata": {},
     "output_type": "execute_result"
    }
   ],
   "source": [
    "np.sum(co[['IC','MM','D','VP','E','CEO']].sum())"
   ]
  },
  {
   "cell_type": "code",
   "execution_count": 87,
   "metadata": {
    "collapsed": false
   },
   "outputs": [],
   "source": [
    "co['IC'] = co['IC'].apply(lambda x: 'IC' if x else None)\n",
    "co['MM'] = co['MM'].apply(lambda x: 'MM' if x else None)\n",
    "co['D'] = co['D'].apply(lambda x: 'D' if x else None)\n",
    "co['VP'] = co['VP'].apply(lambda x: 'VP' if x else None)\n",
    "co['E'] = co['E'].apply(lambda x: 'E' if x else None)\n",
    "co['CEO'] = co['CEO'].apply(lambda x: 'CEO' if x else None)"
   ]
  },
  {
   "cell_type": "code",
   "execution_count": 88,
   "metadata": {
    "collapsed": false
   },
   "outputs": [
    {
     "data": {
      "text/html": [
       "<div>\n",
       "<table border=\"1\" class=\"dataframe\">\n",
       "  <thead>\n",
       "    <tr style=\"text-align: right;\">\n",
       "      <th></th>\n",
       "      <th>employee_id</th>\n",
       "      <th>boss_id</th>\n",
       "      <th>dept</th>\n",
       "      <th>IC</th>\n",
       "      <th>MM</th>\n",
       "      <th>D</th>\n",
       "      <th>VP</th>\n",
       "      <th>E</th>\n",
       "      <th>CEO</th>\n",
       "    </tr>\n",
       "  </thead>\n",
       "  <tbody>\n",
       "    <tr>\n",
       "      <th>0</th>\n",
       "      <td>46456</td>\n",
       "      <td>175361.0</td>\n",
       "      <td>sales</td>\n",
       "      <td>IC</td>\n",
       "      <td>None</td>\n",
       "      <td>None</td>\n",
       "      <td>None</td>\n",
       "      <td>None</td>\n",
       "      <td>None</td>\n",
       "    </tr>\n",
       "    <tr>\n",
       "      <th>1</th>\n",
       "      <td>104708</td>\n",
       "      <td>29733.0</td>\n",
       "      <td>HR</td>\n",
       "      <td>IC</td>\n",
       "      <td>None</td>\n",
       "      <td>None</td>\n",
       "      <td>None</td>\n",
       "      <td>None</td>\n",
       "      <td>None</td>\n",
       "    </tr>\n",
       "    <tr>\n",
       "      <th>2</th>\n",
       "      <td>120853</td>\n",
       "      <td>41991.0</td>\n",
       "      <td>sales</td>\n",
       "      <td>IC</td>\n",
       "      <td>None</td>\n",
       "      <td>None</td>\n",
       "      <td>None</td>\n",
       "      <td>None</td>\n",
       "      <td>None</td>\n",
       "    </tr>\n",
       "    <tr>\n",
       "      <th>3</th>\n",
       "      <td>142630</td>\n",
       "      <td>171266.0</td>\n",
       "      <td>HR</td>\n",
       "      <td>None</td>\n",
       "      <td>MM</td>\n",
       "      <td>None</td>\n",
       "      <td>None</td>\n",
       "      <td>None</td>\n",
       "      <td>None</td>\n",
       "    </tr>\n",
       "    <tr>\n",
       "      <th>4</th>\n",
       "      <td>72711</td>\n",
       "      <td>198240.0</td>\n",
       "      <td>sales</td>\n",
       "      <td>IC</td>\n",
       "      <td>None</td>\n",
       "      <td>None</td>\n",
       "      <td>None</td>\n",
       "      <td>None</td>\n",
       "      <td>None</td>\n",
       "    </tr>\n",
       "  </tbody>\n",
       "</table>\n",
       "</div>"
      ],
      "text/plain": [
       "   employee_id   boss_id   dept    IC    MM     D    VP     E   CEO\n",
       "0        46456  175361.0  sales    IC  None  None  None  None  None\n",
       "1       104708   29733.0     HR    IC  None  None  None  None  None\n",
       "2       120853   41991.0  sales    IC  None  None  None  None  None\n",
       "3       142630  171266.0     HR  None    MM  None  None  None  None\n",
       "4        72711  198240.0  sales    IC  None  None  None  None  None"
      ]
     },
     "execution_count": 88,
     "metadata": {},
     "output_type": "execute_result"
    }
   ],
   "source": [
    "co.head()"
   ]
  },
  {
   "cell_type": "code",
   "execution_count": 89,
   "metadata": {
    "collapsed": true
   },
   "outputs": [],
   "source": [
    "co['level'] = co[['IC','MM','D','VP','E','CEO']].fillna('').sum(axis=1)"
   ]
  },
  {
   "cell_type": "code",
   "execution_count": 91,
   "metadata": {
    "collapsed": false
   },
   "outputs": [
    {
     "data": {
      "text/plain": [
       "9999"
      ]
     },
     "execution_count": 91,
     "metadata": {},
     "output_type": "execute_result"
    }
   ],
   "source": [
    "np.sum(co['level'].value_counts())"
   ]
  },
  {
   "cell_type": "code",
   "execution_count": 139,
   "metadata": {
    "collapsed": false
   },
   "outputs": [
    {
     "data": {
      "text/html": [
       "<div>\n",
       "<table border=\"1\" class=\"dataframe\">\n",
       "  <thead>\n",
       "    <tr style=\"text-align: right;\">\n",
       "      <th></th>\n",
       "      <th>employee_id</th>\n",
       "      <th>boss_id</th>\n",
       "      <th>dept</th>\n",
       "      <th>IC</th>\n",
       "      <th>MM</th>\n",
       "      <th>D</th>\n",
       "      <th>VP</th>\n",
       "      <th>E</th>\n",
       "      <th>CEO</th>\n",
       "      <th>level</th>\n",
       "    </tr>\n",
       "  </thead>\n",
       "  <tbody>\n",
       "    <tr>\n",
       "      <th>0</th>\n",
       "      <td>46456</td>\n",
       "      <td>175361.0</td>\n",
       "      <td>sales</td>\n",
       "      <td>IC</td>\n",
       "      <td>None</td>\n",
       "      <td>None</td>\n",
       "      <td>None</td>\n",
       "      <td>None</td>\n",
       "      <td>None</td>\n",
       "      <td>IC</td>\n",
       "    </tr>\n",
       "    <tr>\n",
       "      <th>1</th>\n",
       "      <td>104708</td>\n",
       "      <td>29733.0</td>\n",
       "      <td>HR</td>\n",
       "      <td>IC</td>\n",
       "      <td>None</td>\n",
       "      <td>None</td>\n",
       "      <td>None</td>\n",
       "      <td>None</td>\n",
       "      <td>None</td>\n",
       "      <td>IC</td>\n",
       "    </tr>\n",
       "    <tr>\n",
       "      <th>2</th>\n",
       "      <td>120853</td>\n",
       "      <td>41991.0</td>\n",
       "      <td>sales</td>\n",
       "      <td>IC</td>\n",
       "      <td>None</td>\n",
       "      <td>None</td>\n",
       "      <td>None</td>\n",
       "      <td>None</td>\n",
       "      <td>None</td>\n",
       "      <td>IC</td>\n",
       "    </tr>\n",
       "    <tr>\n",
       "      <th>3</th>\n",
       "      <td>142630</td>\n",
       "      <td>171266.0</td>\n",
       "      <td>HR</td>\n",
       "      <td>None</td>\n",
       "      <td>MM</td>\n",
       "      <td>None</td>\n",
       "      <td>None</td>\n",
       "      <td>None</td>\n",
       "      <td>None</td>\n",
       "      <td>MM</td>\n",
       "    </tr>\n",
       "    <tr>\n",
       "      <th>4</th>\n",
       "      <td>72711</td>\n",
       "      <td>198240.0</td>\n",
       "      <td>sales</td>\n",
       "      <td>IC</td>\n",
       "      <td>None</td>\n",
       "      <td>None</td>\n",
       "      <td>None</td>\n",
       "      <td>None</td>\n",
       "      <td>None</td>\n",
       "      <td>IC</td>\n",
       "    </tr>\n",
       "  </tbody>\n",
       "</table>\n",
       "</div>"
      ],
      "text/plain": [
       "   employee_id   boss_id   dept    IC    MM     D    VP     E   CEO level\n",
       "0        46456  175361.0  sales    IC  None  None  None  None  None    IC\n",
       "1       104708   29733.0     HR    IC  None  None  None  None  None    IC\n",
       "2       120853   41991.0  sales    IC  None  None  None  None  None    IC\n",
       "3       142630  171266.0     HR  None    MM  None  None  None  None    MM\n",
       "4        72711  198240.0  sales    IC  None  None  None  None  None    IC"
      ]
     },
     "execution_count": 139,
     "metadata": {},
     "output_type": "execute_result"
    }
   ],
   "source": [
    "co.head()"
   ]
  },
  {
   "cell_type": "code",
   "execution_count": 101,
   "metadata": {
    "collapsed": false
   },
   "outputs": [
    {
     "data": {
      "text/plain": [
       "5"
      ]
     },
     "execution_count": 101,
     "metadata": {},
     "output_type": "execute_result"
    }
   ],
   "source": [
    "len(co['employee_id'][co['boss_id']==171266.0])"
   ]
  },
  {
   "cell_type": "code",
   "execution_count": 119,
   "metadata": {
    "collapsed": false
   },
   "outputs": [],
   "source": [
    "ic = list(co['employee_id'][co['level'] == 'IC'])\n",
    "mm = list(co['employee_id'][co['level'] == 'MM'])\n",
    "d = list(co['employee_id'][co['level'] == 'D'])\n",
    "vp = list(co['employee_id'][co['level'] == 'VP'])\n",
    "e = list(co['employee_id'][co['level'] == 'E'])\n",
    "ceo = list(co['employee_id'][co['level'] == 'CEO'])"
   ]
  },
  {
   "cell_type": "code",
   "execution_count": 131,
   "metadata": {
    "collapsed": false
   },
   "outputs": [
    {
     "data": {
      "text/plain": [
       "[61554]"
      ]
     },
     "execution_count": 131,
     "metadata": {},
     "output_type": "execute_result"
    }
   ],
   "source": [
    "ceo"
   ]
  },
  {
   "cell_type": "code",
   "execution_count": 137,
   "metadata": {
    "collapsed": false
   },
   "outputs": [],
   "source": [
    "def count_subs(employee_id):\n",
    "    if employee_id in ic:\n",
    "        return 0\n",
    "    elif employee_id in mm:\n",
    "        return len(co['employee_id'][co['boss_id']==employee_id])\n",
    "    else:\n",
    "        return len(co['employee_id'][co['boss_id']==employee_id]) + \\\n",
    "        np.sum([count_subs(x) for x in list(co['employee_id'][co['boss_id']==employee_id])])"
   ]
  },
  {
   "cell_type": "code",
   "execution_count": 138,
   "metadata": {
    "collapsed": false
   },
   "outputs": [
    {
     "data": {
      "text/plain": [
       "9998"
      ]
     },
     "execution_count": 138,
     "metadata": {},
     "output_type": "execute_result"
    }
   ],
   "source": [
    "count_subs(61554)"
   ]
  },
  {
   "cell_type": "code",
   "execution_count": 140,
   "metadata": {
    "collapsed": true
   },
   "outputs": [],
   "source": [
    "co['managing'] = co['employee_id'].apply(lambda x: count_subs(x))"
   ]
  },
  {
   "cell_type": "code",
   "execution_count": 147,
   "metadata": {
    "collapsed": false
   },
   "outputs": [
    {
     "data": {
      "text/html": [
       "<div>\n",
       "<table border=\"1\" class=\"dataframe\">\n",
       "  <thead>\n",
       "    <tr style=\"text-align: right;\">\n",
       "      <th></th>\n",
       "      <th>employee_id</th>\n",
       "      <th>boss_id</th>\n",
       "      <th>dept</th>\n",
       "      <th>IC</th>\n",
       "      <th>MM</th>\n",
       "      <th>D</th>\n",
       "      <th>VP</th>\n",
       "      <th>E</th>\n",
       "      <th>CEO</th>\n",
       "      <th>level</th>\n",
       "      <th>managing</th>\n",
       "    </tr>\n",
       "  </thead>\n",
       "  <tbody>\n",
       "    <tr>\n",
       "      <th>0</th>\n",
       "      <td>46456</td>\n",
       "      <td>175361.0</td>\n",
       "      <td>sales</td>\n",
       "      <td>IC</td>\n",
       "      <td>None</td>\n",
       "      <td>None</td>\n",
       "      <td>None</td>\n",
       "      <td>None</td>\n",
       "      <td>None</td>\n",
       "      <td>IC</td>\n",
       "      <td>0</td>\n",
       "    </tr>\n",
       "    <tr>\n",
       "      <th>1</th>\n",
       "      <td>104708</td>\n",
       "      <td>29733.0</td>\n",
       "      <td>HR</td>\n",
       "      <td>IC</td>\n",
       "      <td>None</td>\n",
       "      <td>None</td>\n",
       "      <td>None</td>\n",
       "      <td>None</td>\n",
       "      <td>None</td>\n",
       "      <td>IC</td>\n",
       "      <td>0</td>\n",
       "    </tr>\n",
       "    <tr>\n",
       "      <th>2</th>\n",
       "      <td>120853</td>\n",
       "      <td>41991.0</td>\n",
       "      <td>sales</td>\n",
       "      <td>IC</td>\n",
       "      <td>None</td>\n",
       "      <td>None</td>\n",
       "      <td>None</td>\n",
       "      <td>None</td>\n",
       "      <td>None</td>\n",
       "      <td>IC</td>\n",
       "      <td>0</td>\n",
       "    </tr>\n",
       "    <tr>\n",
       "      <th>3</th>\n",
       "      <td>142630</td>\n",
       "      <td>171266.0</td>\n",
       "      <td>HR</td>\n",
       "      <td>None</td>\n",
       "      <td>MM</td>\n",
       "      <td>None</td>\n",
       "      <td>None</td>\n",
       "      <td>None</td>\n",
       "      <td>None</td>\n",
       "      <td>MM</td>\n",
       "      <td>16</td>\n",
       "    </tr>\n",
       "    <tr>\n",
       "      <th>4</th>\n",
       "      <td>72711</td>\n",
       "      <td>198240.0</td>\n",
       "      <td>sales</td>\n",
       "      <td>IC</td>\n",
       "      <td>None</td>\n",
       "      <td>None</td>\n",
       "      <td>None</td>\n",
       "      <td>None</td>\n",
       "      <td>None</td>\n",
       "      <td>IC</td>\n",
       "      <td>0</td>\n",
       "    </tr>\n",
       "  </tbody>\n",
       "</table>\n",
       "</div>"
      ],
      "text/plain": [
       "   employee_id   boss_id   dept    IC    MM     D    VP     E   CEO level  \\\n",
       "0        46456  175361.0  sales    IC  None  None  None  None  None    IC   \n",
       "1       104708   29733.0     HR    IC  None  None  None  None  None    IC   \n",
       "2       120853   41991.0  sales    IC  None  None  None  None  None    IC   \n",
       "3       142630  171266.0     HR  None    MM  None  None  None  None    MM   \n",
       "4        72711  198240.0  sales    IC  None  None  None  None  None    IC   \n",
       "\n",
       "   managing  \n",
       "0         0  \n",
       "1         0  \n",
       "2         0  \n",
       "3        16  \n",
       "4         0  "
      ]
     },
     "execution_count": 147,
     "metadata": {},
     "output_type": "execute_result"
    }
   ],
   "source": [
    "co.head()"
   ]
  },
  {
   "cell_type": "code",
   "execution_count": 406,
   "metadata": {
    "collapsed": false
   },
   "outputs": [],
   "source": [
    "df = pd.merge(left=co, right=emp, on='employee_id')"
   ]
  },
  {
   "cell_type": "code",
   "execution_count": 407,
   "metadata": {
    "collapsed": false
   },
   "outputs": [
    {
     "data": {
      "text/html": [
       "<div>\n",
       "<table border=\"1\" class=\"dataframe\">\n",
       "  <thead>\n",
       "    <tr style=\"text-align: right;\">\n",
       "      <th></th>\n",
       "      <th>employee_id</th>\n",
       "      <th>boss_id</th>\n",
       "      <th>dept</th>\n",
       "      <th>IC</th>\n",
       "      <th>MM</th>\n",
       "      <th>D</th>\n",
       "      <th>VP</th>\n",
       "      <th>E</th>\n",
       "      <th>CEO</th>\n",
       "      <th>level</th>\n",
       "      <th>managing</th>\n",
       "      <th>signing_bonus</th>\n",
       "      <th>salary</th>\n",
       "      <th>degree_level</th>\n",
       "      <th>sex</th>\n",
       "      <th>yrs_experience</th>\n",
       "    </tr>\n",
       "  </thead>\n",
       "  <tbody>\n",
       "    <tr>\n",
       "      <th>0</th>\n",
       "      <td>46456</td>\n",
       "      <td>175361.0</td>\n",
       "      <td>sales</td>\n",
       "      <td>IC</td>\n",
       "      <td>None</td>\n",
       "      <td>None</td>\n",
       "      <td>None</td>\n",
       "      <td>None</td>\n",
       "      <td>None</td>\n",
       "      <td>IC</td>\n",
       "      <td>0</td>\n",
       "      <td>0</td>\n",
       "      <td>213000.0</td>\n",
       "      <td>Bachelor</td>\n",
       "      <td>M</td>\n",
       "      <td>5</td>\n",
       "    </tr>\n",
       "    <tr>\n",
       "      <th>1</th>\n",
       "      <td>104708</td>\n",
       "      <td>29733.0</td>\n",
       "      <td>HR</td>\n",
       "      <td>IC</td>\n",
       "      <td>None</td>\n",
       "      <td>None</td>\n",
       "      <td>None</td>\n",
       "      <td>None</td>\n",
       "      <td>None</td>\n",
       "      <td>IC</td>\n",
       "      <td>0</td>\n",
       "      <td>0</td>\n",
       "      <td>79000.0</td>\n",
       "      <td>Bachelor</td>\n",
       "      <td>F</td>\n",
       "      <td>3</td>\n",
       "    </tr>\n",
       "    <tr>\n",
       "      <th>2</th>\n",
       "      <td>120853</td>\n",
       "      <td>41991.0</td>\n",
       "      <td>sales</td>\n",
       "      <td>IC</td>\n",
       "      <td>None</td>\n",
       "      <td>None</td>\n",
       "      <td>None</td>\n",
       "      <td>None</td>\n",
       "      <td>None</td>\n",
       "      <td>IC</td>\n",
       "      <td>0</td>\n",
       "      <td>0</td>\n",
       "      <td>199000.0</td>\n",
       "      <td>High_School</td>\n",
       "      <td>M</td>\n",
       "      <td>5</td>\n",
       "    </tr>\n",
       "    <tr>\n",
       "      <th>3</th>\n",
       "      <td>142630</td>\n",
       "      <td>171266.0</td>\n",
       "      <td>HR</td>\n",
       "      <td>None</td>\n",
       "      <td>MM</td>\n",
       "      <td>None</td>\n",
       "      <td>None</td>\n",
       "      <td>None</td>\n",
       "      <td>None</td>\n",
       "      <td>MM</td>\n",
       "      <td>16</td>\n",
       "      <td>0</td>\n",
       "      <td>143000.0</td>\n",
       "      <td>PhD</td>\n",
       "      <td>F</td>\n",
       "      <td>13</td>\n",
       "    </tr>\n",
       "    <tr>\n",
       "      <th>4</th>\n",
       "      <td>72711</td>\n",
       "      <td>198240.0</td>\n",
       "      <td>sales</td>\n",
       "      <td>IC</td>\n",
       "      <td>None</td>\n",
       "      <td>None</td>\n",
       "      <td>None</td>\n",
       "      <td>None</td>\n",
       "      <td>None</td>\n",
       "      <td>IC</td>\n",
       "      <td>0</td>\n",
       "      <td>0</td>\n",
       "      <td>235000.0</td>\n",
       "      <td>Master</td>\n",
       "      <td>M</td>\n",
       "      <td>1</td>\n",
       "    </tr>\n",
       "  </tbody>\n",
       "</table>\n",
       "</div>"
      ],
      "text/plain": [
       "   employee_id   boss_id   dept    IC    MM     D    VP     E   CEO level  \\\n",
       "0        46456  175361.0  sales    IC  None  None  None  None  None    IC   \n",
       "1       104708   29733.0     HR    IC  None  None  None  None  None    IC   \n",
       "2       120853   41991.0  sales    IC  None  None  None  None  None    IC   \n",
       "3       142630  171266.0     HR  None    MM  None  None  None  None    MM   \n",
       "4        72711  198240.0  sales    IC  None  None  None  None  None    IC   \n",
       "\n",
       "   managing  signing_bonus    salary degree_level sex  yrs_experience  \n",
       "0         0              0  213000.0     Bachelor   M               5  \n",
       "1         0              0   79000.0     Bachelor   F               3  \n",
       "2         0              0  199000.0  High_School   M               5  \n",
       "3        16              0  143000.0          PhD   F              13  \n",
       "4         0              0  235000.0       Master   M               1  "
      ]
     },
     "execution_count": 407,
     "metadata": {},
     "output_type": "execute_result"
    }
   ],
   "source": [
    "df.head()"
   ]
  },
  {
   "cell_type": "code",
   "execution_count": 408,
   "metadata": {
    "collapsed": false
   },
   "outputs": [],
   "source": [
    "df = df.drop(['IC','MM','D','VP','E','CEO'], axis=1)"
   ]
  },
  {
   "cell_type": "code",
   "execution_count": 409,
   "metadata": {
    "collapsed": false
   },
   "outputs": [
    {
     "data": {
      "text/html": [
       "<div>\n",
       "<table border=\"1\" class=\"dataframe\">\n",
       "  <thead>\n",
       "    <tr style=\"text-align: right;\">\n",
       "      <th></th>\n",
       "      <th>employee_id</th>\n",
       "      <th>boss_id</th>\n",
       "      <th>dept</th>\n",
       "      <th>level</th>\n",
       "      <th>managing</th>\n",
       "      <th>signing_bonus</th>\n",
       "      <th>salary</th>\n",
       "      <th>degree_level</th>\n",
       "      <th>sex</th>\n",
       "      <th>yrs_experience</th>\n",
       "    </tr>\n",
       "  </thead>\n",
       "  <tbody>\n",
       "    <tr>\n",
       "      <th>0</th>\n",
       "      <td>46456</td>\n",
       "      <td>175361.0</td>\n",
       "      <td>sales</td>\n",
       "      <td>IC</td>\n",
       "      <td>0</td>\n",
       "      <td>0</td>\n",
       "      <td>213000.0</td>\n",
       "      <td>Bachelor</td>\n",
       "      <td>M</td>\n",
       "      <td>5</td>\n",
       "    </tr>\n",
       "    <tr>\n",
       "      <th>1</th>\n",
       "      <td>104708</td>\n",
       "      <td>29733.0</td>\n",
       "      <td>HR</td>\n",
       "      <td>IC</td>\n",
       "      <td>0</td>\n",
       "      <td>0</td>\n",
       "      <td>79000.0</td>\n",
       "      <td>Bachelor</td>\n",
       "      <td>F</td>\n",
       "      <td>3</td>\n",
       "    </tr>\n",
       "    <tr>\n",
       "      <th>2</th>\n",
       "      <td>120853</td>\n",
       "      <td>41991.0</td>\n",
       "      <td>sales</td>\n",
       "      <td>IC</td>\n",
       "      <td>0</td>\n",
       "      <td>0</td>\n",
       "      <td>199000.0</td>\n",
       "      <td>High_School</td>\n",
       "      <td>M</td>\n",
       "      <td>5</td>\n",
       "    </tr>\n",
       "    <tr>\n",
       "      <th>3</th>\n",
       "      <td>142630</td>\n",
       "      <td>171266.0</td>\n",
       "      <td>HR</td>\n",
       "      <td>MM</td>\n",
       "      <td>16</td>\n",
       "      <td>0</td>\n",
       "      <td>143000.0</td>\n",
       "      <td>PhD</td>\n",
       "      <td>F</td>\n",
       "      <td>13</td>\n",
       "    </tr>\n",
       "    <tr>\n",
       "      <th>4</th>\n",
       "      <td>72711</td>\n",
       "      <td>198240.0</td>\n",
       "      <td>sales</td>\n",
       "      <td>IC</td>\n",
       "      <td>0</td>\n",
       "      <td>0</td>\n",
       "      <td>235000.0</td>\n",
       "      <td>Master</td>\n",
       "      <td>M</td>\n",
       "      <td>1</td>\n",
       "    </tr>\n",
       "  </tbody>\n",
       "</table>\n",
       "</div>"
      ],
      "text/plain": [
       "   employee_id   boss_id   dept level  managing  signing_bonus    salary  \\\n",
       "0        46456  175361.0  sales    IC         0              0  213000.0   \n",
       "1       104708   29733.0     HR    IC         0              0   79000.0   \n",
       "2       120853   41991.0  sales    IC         0              0  199000.0   \n",
       "3       142630  171266.0     HR    MM        16              0  143000.0   \n",
       "4        72711  198240.0  sales    IC         0              0  235000.0   \n",
       "\n",
       "  degree_level sex  yrs_experience  \n",
       "0     Bachelor   M               5  \n",
       "1     Bachelor   F               3  \n",
       "2  High_School   M               5  \n",
       "3          PhD   F              13  \n",
       "4       Master   M               1  "
      ]
     },
     "execution_count": 409,
     "metadata": {},
     "output_type": "execute_result"
    }
   ],
   "source": [
    "df.head()"
   ]
  },
  {
   "cell_type": "code",
   "execution_count": 410,
   "metadata": {
    "collapsed": true
   },
   "outputs": [],
   "source": [
    "# Build basic regression model\n",
    "# Make dummy variables out of text (dept, level, degree_level (maybe not), sex)\n",
    "# plot variables and outputs"
   ]
  },
  {
   "cell_type": "code",
   "execution_count": 411,
   "metadata": {
    "collapsed": false
   },
   "outputs": [],
   "source": [
    "df['sex'] = df['sex'].apply(lambda x: 1 if x is 'F' else 0)"
   ]
  },
  {
   "cell_type": "code",
   "execution_count": 412,
   "metadata": {
    "collapsed": false
   },
   "outputs": [
    {
     "data": {
      "text/html": [
       "<div>\n",
       "<table border=\"1\" class=\"dataframe\">\n",
       "  <thead>\n",
       "    <tr style=\"text-align: right;\">\n",
       "      <th></th>\n",
       "      <th>employee_id</th>\n",
       "      <th>boss_id</th>\n",
       "      <th>dept</th>\n",
       "      <th>level</th>\n",
       "      <th>managing</th>\n",
       "      <th>signing_bonus</th>\n",
       "      <th>salary</th>\n",
       "      <th>degree_level</th>\n",
       "      <th>sex</th>\n",
       "      <th>yrs_experience</th>\n",
       "    </tr>\n",
       "  </thead>\n",
       "  <tbody>\n",
       "    <tr>\n",
       "      <th>0</th>\n",
       "      <td>46456</td>\n",
       "      <td>175361.0</td>\n",
       "      <td>sales</td>\n",
       "      <td>IC</td>\n",
       "      <td>0</td>\n",
       "      <td>0</td>\n",
       "      <td>213000.0</td>\n",
       "      <td>Bachelor</td>\n",
       "      <td>0</td>\n",
       "      <td>5</td>\n",
       "    </tr>\n",
       "    <tr>\n",
       "      <th>1</th>\n",
       "      <td>104708</td>\n",
       "      <td>29733.0</td>\n",
       "      <td>HR</td>\n",
       "      <td>IC</td>\n",
       "      <td>0</td>\n",
       "      <td>0</td>\n",
       "      <td>79000.0</td>\n",
       "      <td>Bachelor</td>\n",
       "      <td>1</td>\n",
       "      <td>3</td>\n",
       "    </tr>\n",
       "    <tr>\n",
       "      <th>2</th>\n",
       "      <td>120853</td>\n",
       "      <td>41991.0</td>\n",
       "      <td>sales</td>\n",
       "      <td>IC</td>\n",
       "      <td>0</td>\n",
       "      <td>0</td>\n",
       "      <td>199000.0</td>\n",
       "      <td>High_School</td>\n",
       "      <td>0</td>\n",
       "      <td>5</td>\n",
       "    </tr>\n",
       "    <tr>\n",
       "      <th>3</th>\n",
       "      <td>142630</td>\n",
       "      <td>171266.0</td>\n",
       "      <td>HR</td>\n",
       "      <td>MM</td>\n",
       "      <td>16</td>\n",
       "      <td>0</td>\n",
       "      <td>143000.0</td>\n",
       "      <td>PhD</td>\n",
       "      <td>1</td>\n",
       "      <td>13</td>\n",
       "    </tr>\n",
       "    <tr>\n",
       "      <th>4</th>\n",
       "      <td>72711</td>\n",
       "      <td>198240.0</td>\n",
       "      <td>sales</td>\n",
       "      <td>IC</td>\n",
       "      <td>0</td>\n",
       "      <td>0</td>\n",
       "      <td>235000.0</td>\n",
       "      <td>Master</td>\n",
       "      <td>0</td>\n",
       "      <td>1</td>\n",
       "    </tr>\n",
       "  </tbody>\n",
       "</table>\n",
       "</div>"
      ],
      "text/plain": [
       "   employee_id   boss_id   dept level  managing  signing_bonus    salary  \\\n",
       "0        46456  175361.0  sales    IC         0              0  213000.0   \n",
       "1       104708   29733.0     HR    IC         0              0   79000.0   \n",
       "2       120853   41991.0  sales    IC         0              0  199000.0   \n",
       "3       142630  171266.0     HR    MM        16              0  143000.0   \n",
       "4        72711  198240.0  sales    IC         0              0  235000.0   \n",
       "\n",
       "  degree_level  sex  yrs_experience  \n",
       "0     Bachelor    0               5  \n",
       "1     Bachelor    1               3  \n",
       "2  High_School    0               5  \n",
       "3          PhD    1              13  \n",
       "4       Master    0               1  "
      ]
     },
     "execution_count": 412,
     "metadata": {},
     "output_type": "execute_result"
    }
   ],
   "source": [
    "df.head()"
   ]
  },
  {
   "cell_type": "code",
   "execution_count": 413,
   "metadata": {
    "collapsed": false
   },
   "outputs": [],
   "source": [
    "dct = {'High_School': 1, 'Bachelor': 2, 'Master': 3, 'PhD': 4}\n",
    "df['degree_level'] = df['degree_level'].map(dct)"
   ]
  },
  {
   "cell_type": "code",
   "execution_count": 414,
   "metadata": {
    "collapsed": false
   },
   "outputs": [
    {
     "data": {
      "text/html": [
       "<div>\n",
       "<table border=\"1\" class=\"dataframe\">\n",
       "  <thead>\n",
       "    <tr style=\"text-align: right;\">\n",
       "      <th></th>\n",
       "      <th>employee_id</th>\n",
       "      <th>boss_id</th>\n",
       "      <th>dept</th>\n",
       "      <th>level</th>\n",
       "      <th>managing</th>\n",
       "      <th>signing_bonus</th>\n",
       "      <th>salary</th>\n",
       "      <th>degree_level</th>\n",
       "      <th>sex</th>\n",
       "      <th>yrs_experience</th>\n",
       "    </tr>\n",
       "  </thead>\n",
       "  <tbody>\n",
       "    <tr>\n",
       "      <th>0</th>\n",
       "      <td>46456</td>\n",
       "      <td>175361.0</td>\n",
       "      <td>sales</td>\n",
       "      <td>IC</td>\n",
       "      <td>0</td>\n",
       "      <td>0</td>\n",
       "      <td>213000.0</td>\n",
       "      <td>2</td>\n",
       "      <td>0</td>\n",
       "      <td>5</td>\n",
       "    </tr>\n",
       "    <tr>\n",
       "      <th>1</th>\n",
       "      <td>104708</td>\n",
       "      <td>29733.0</td>\n",
       "      <td>HR</td>\n",
       "      <td>IC</td>\n",
       "      <td>0</td>\n",
       "      <td>0</td>\n",
       "      <td>79000.0</td>\n",
       "      <td>2</td>\n",
       "      <td>1</td>\n",
       "      <td>3</td>\n",
       "    </tr>\n",
       "    <tr>\n",
       "      <th>2</th>\n",
       "      <td>120853</td>\n",
       "      <td>41991.0</td>\n",
       "      <td>sales</td>\n",
       "      <td>IC</td>\n",
       "      <td>0</td>\n",
       "      <td>0</td>\n",
       "      <td>199000.0</td>\n",
       "      <td>1</td>\n",
       "      <td>0</td>\n",
       "      <td>5</td>\n",
       "    </tr>\n",
       "    <tr>\n",
       "      <th>3</th>\n",
       "      <td>142630</td>\n",
       "      <td>171266.0</td>\n",
       "      <td>HR</td>\n",
       "      <td>MM</td>\n",
       "      <td>16</td>\n",
       "      <td>0</td>\n",
       "      <td>143000.0</td>\n",
       "      <td>4</td>\n",
       "      <td>1</td>\n",
       "      <td>13</td>\n",
       "    </tr>\n",
       "    <tr>\n",
       "      <th>4</th>\n",
       "      <td>72711</td>\n",
       "      <td>198240.0</td>\n",
       "      <td>sales</td>\n",
       "      <td>IC</td>\n",
       "      <td>0</td>\n",
       "      <td>0</td>\n",
       "      <td>235000.0</td>\n",
       "      <td>3</td>\n",
       "      <td>0</td>\n",
       "      <td>1</td>\n",
       "    </tr>\n",
       "  </tbody>\n",
       "</table>\n",
       "</div>"
      ],
      "text/plain": [
       "   employee_id   boss_id   dept level  managing  signing_bonus    salary  \\\n",
       "0        46456  175361.0  sales    IC         0              0  213000.0   \n",
       "1       104708   29733.0     HR    IC         0              0   79000.0   \n",
       "2       120853   41991.0  sales    IC         0              0  199000.0   \n",
       "3       142630  171266.0     HR    MM        16              0  143000.0   \n",
       "4        72711  198240.0  sales    IC         0              0  235000.0   \n",
       "\n",
       "   degree_level  sex  yrs_experience  \n",
       "0             2    0               5  \n",
       "1             2    1               3  \n",
       "2             1    0               5  \n",
       "3             4    1              13  \n",
       "4             3    0               1  "
      ]
     },
     "execution_count": 414,
     "metadata": {},
     "output_type": "execute_result"
    }
   ],
   "source": [
    "df.head()"
   ]
  },
  {
   "cell_type": "code",
   "execution_count": 415,
   "metadata": {
    "collapsed": false
   },
   "outputs": [
    {
     "data": {
      "text/plain": [
       "level\n",
       "CEO    700000.000000\n",
       "D      213301.886792\n",
       "E      562500.000000\n",
       "IC     187909.222222\n",
       "MM     192473.750000\n",
       "VP     258028.571429\n",
       "Name: salary, dtype: float64"
      ]
     },
     "execution_count": 415,
     "metadata": {},
     "output_type": "execute_result"
    }
   ],
   "source": [
    "df['salary'].groupby(df['level']).mean()"
   ]
  },
  {
   "cell_type": "code",
   "execution_count": 416,
   "metadata": {
    "collapsed": false
   },
   "outputs": [
    {
     "data": {
      "text/html": [
       "<div>\n",
       "<table border=\"1\" class=\"dataframe\">\n",
       "  <thead>\n",
       "    <tr style=\"text-align: right;\">\n",
       "      <th></th>\n",
       "      <th>employee_id</th>\n",
       "      <th>boss_id</th>\n",
       "      <th>managing</th>\n",
       "      <th>signing_bonus</th>\n",
       "      <th>salary</th>\n",
       "      <th>degree_level</th>\n",
       "      <th>sex</th>\n",
       "      <th>yrs_experience</th>\n",
       "    </tr>\n",
       "  </thead>\n",
       "  <tbody>\n",
       "    <tr>\n",
       "      <th>count</th>\n",
       "      <td>9999.000000</td>\n",
       "      <td>9998.000000</td>\n",
       "      <td>9999.000000</td>\n",
       "      <td>9999.000000</td>\n",
       "      <td>9999.000000</td>\n",
       "      <td>9999.000000</td>\n",
       "      <td>9999.000000</td>\n",
       "      <td>9999.000000</td>\n",
       "    </tr>\n",
       "    <tr>\n",
       "      <th>mean</th>\n",
       "      <td>100011.009601</td>\n",
       "      <td>103307.706741</td>\n",
       "      <td>4.875588</td>\n",
       "      <td>0.301430</td>\n",
       "      <td>189124.712471</td>\n",
       "      <td>2.677368</td>\n",
       "      <td>0.356136</td>\n",
       "      <td>3.873287</td>\n",
       "    </tr>\n",
       "    <tr>\n",
       "      <th>std</th>\n",
       "      <td>57496.077137</td>\n",
       "      <td>57506.485012</td>\n",
       "      <td>114.474408</td>\n",
       "      <td>0.458902</td>\n",
       "      <td>88968.875684</td>\n",
       "      <td>1.055719</td>\n",
       "      <td>0.478880</td>\n",
       "      <td>3.101672</td>\n",
       "    </tr>\n",
       "    <tr>\n",
       "      <th>min</th>\n",
       "      <td>40.000000</td>\n",
       "      <td>79.000000</td>\n",
       "      <td>0.000000</td>\n",
       "      <td>0.000000</td>\n",
       "      <td>60000.000000</td>\n",
       "      <td>1.000000</td>\n",
       "      <td>0.000000</td>\n",
       "      <td>1.000000</td>\n",
       "    </tr>\n",
       "    <tr>\n",
       "      <th>25%</th>\n",
       "      <td>50589.000000</td>\n",
       "      <td>55883.000000</td>\n",
       "      <td>0.000000</td>\n",
       "      <td>0.000000</td>\n",
       "      <td>110000.000000</td>\n",
       "      <td>2.000000</td>\n",
       "      <td>0.000000</td>\n",
       "      <td>2.000000</td>\n",
       "    </tr>\n",
       "    <tr>\n",
       "      <th>50%</th>\n",
       "      <td>99258.000000</td>\n",
       "      <td>102712.000000</td>\n",
       "      <td>0.000000</td>\n",
       "      <td>0.000000</td>\n",
       "      <td>182000.000000</td>\n",
       "      <td>3.000000</td>\n",
       "      <td>0.000000</td>\n",
       "      <td>3.000000</td>\n",
       "    </tr>\n",
       "    <tr>\n",
       "      <th>75%</th>\n",
       "      <td>149752.000000</td>\n",
       "      <td>152394.000000</td>\n",
       "      <td>0.000000</td>\n",
       "      <td>1.000000</td>\n",
       "      <td>255000.000000</td>\n",
       "      <td>4.000000</td>\n",
       "      <td>1.000000</td>\n",
       "      <td>5.000000</td>\n",
       "    </tr>\n",
       "    <tr>\n",
       "      <th>max</th>\n",
       "      <td>199956.000000</td>\n",
       "      <td>199950.000000</td>\n",
       "      <td>9998.000000</td>\n",
       "      <td>1.000000</td>\n",
       "      <td>700000.000000</td>\n",
       "      <td>4.000000</td>\n",
       "      <td>1.000000</td>\n",
       "      <td>34.000000</td>\n",
       "    </tr>\n",
       "  </tbody>\n",
       "</table>\n",
       "</div>"
      ],
      "text/plain": [
       "         employee_id        boss_id     managing  signing_bonus  \\\n",
       "count    9999.000000    9998.000000  9999.000000    9999.000000   \n",
       "mean   100011.009601  103307.706741     4.875588       0.301430   \n",
       "std     57496.077137   57506.485012   114.474408       0.458902   \n",
       "min        40.000000      79.000000     0.000000       0.000000   \n",
       "25%     50589.000000   55883.000000     0.000000       0.000000   \n",
       "50%     99258.000000  102712.000000     0.000000       0.000000   \n",
       "75%    149752.000000  152394.000000     0.000000       1.000000   \n",
       "max    199956.000000  199950.000000  9998.000000       1.000000   \n",
       "\n",
       "              salary  degree_level          sex  yrs_experience  \n",
       "count    9999.000000   9999.000000  9999.000000     9999.000000  \n",
       "mean   189124.712471      2.677368     0.356136        3.873287  \n",
       "std     88968.875684      1.055719     0.478880        3.101672  \n",
       "min     60000.000000      1.000000     0.000000        1.000000  \n",
       "25%    110000.000000      2.000000     0.000000        2.000000  \n",
       "50%    182000.000000      3.000000     0.000000        3.000000  \n",
       "75%    255000.000000      4.000000     1.000000        5.000000  \n",
       "max    700000.000000      4.000000     1.000000       34.000000  "
      ]
     },
     "execution_count": 416,
     "metadata": {},
     "output_type": "execute_result"
    }
   ],
   "source": [
    "df.describe()"
   ]
  },
  {
   "cell_type": "code",
   "execution_count": 417,
   "metadata": {
    "collapsed": false
   },
   "outputs": [
    {
     "name": "stdout",
     "output_type": "stream",
     "text": [
      "<class 'pandas.core.frame.DataFrame'>\n",
      "Int64Index: 9999 entries, 0 to 9998\n",
      "Data columns (total 10 columns):\n",
      "employee_id       9999 non-null int64\n",
      "boss_id           9998 non-null float64\n",
      "dept              9999 non-null object\n",
      "level             9999 non-null object\n",
      "managing          9999 non-null int64\n",
      "signing_bonus     9999 non-null int64\n",
      "salary            9999 non-null float64\n",
      "degree_level      9999 non-null int64\n",
      "sex               9999 non-null int64\n",
      "yrs_experience    9999 non-null int64\n",
      "dtypes: float64(2), int64(6), object(2)\n",
      "memory usage: 859.3+ KB\n"
     ]
    }
   ],
   "source": [
    "df.info()"
   ]
  },
  {
   "cell_type": "code",
   "execution_count": 418,
   "metadata": {
    "collapsed": false
   },
   "outputs": [
    {
     "data": {
      "text/plain": [
       "array(['sales', 'HR', 'engineering', 'marketing', 'CEO'], dtype=object)"
      ]
     },
     "execution_count": 418,
     "metadata": {},
     "output_type": "execute_result"
    }
   ],
   "source": [
    "df['dept'].unique()"
   ]
  },
  {
   "cell_type": "code",
   "execution_count": 419,
   "metadata": {
    "collapsed": false
   },
   "outputs": [],
   "source": [
    "df = pd.concat([df, pd.get_dummies(df['dept'])], axis=1)"
   ]
  },
  {
   "cell_type": "code",
   "execution_count": 420,
   "metadata": {
    "collapsed": false
   },
   "outputs": [
    {
     "data": {
      "text/html": [
       "<div>\n",
       "<table border=\"1\" class=\"dataframe\">\n",
       "  <thead>\n",
       "    <tr style=\"text-align: right;\">\n",
       "      <th></th>\n",
       "      <th>employee_id</th>\n",
       "      <th>boss_id</th>\n",
       "      <th>dept</th>\n",
       "      <th>level</th>\n",
       "      <th>managing</th>\n",
       "      <th>signing_bonus</th>\n",
       "      <th>salary</th>\n",
       "      <th>degree_level</th>\n",
       "      <th>sex</th>\n",
       "      <th>yrs_experience</th>\n",
       "      <th>CEO</th>\n",
       "      <th>HR</th>\n",
       "      <th>engineering</th>\n",
       "      <th>marketing</th>\n",
       "      <th>sales</th>\n",
       "    </tr>\n",
       "  </thead>\n",
       "  <tbody>\n",
       "    <tr>\n",
       "      <th>0</th>\n",
       "      <td>46456</td>\n",
       "      <td>175361.0</td>\n",
       "      <td>sales</td>\n",
       "      <td>IC</td>\n",
       "      <td>0</td>\n",
       "      <td>0</td>\n",
       "      <td>213000.0</td>\n",
       "      <td>2</td>\n",
       "      <td>0</td>\n",
       "      <td>5</td>\n",
       "      <td>0.0</td>\n",
       "      <td>0.0</td>\n",
       "      <td>0.0</td>\n",
       "      <td>0.0</td>\n",
       "      <td>1.0</td>\n",
       "    </tr>\n",
       "    <tr>\n",
       "      <th>1</th>\n",
       "      <td>104708</td>\n",
       "      <td>29733.0</td>\n",
       "      <td>HR</td>\n",
       "      <td>IC</td>\n",
       "      <td>0</td>\n",
       "      <td>0</td>\n",
       "      <td>79000.0</td>\n",
       "      <td>2</td>\n",
       "      <td>1</td>\n",
       "      <td>3</td>\n",
       "      <td>0.0</td>\n",
       "      <td>1.0</td>\n",
       "      <td>0.0</td>\n",
       "      <td>0.0</td>\n",
       "      <td>0.0</td>\n",
       "    </tr>\n",
       "    <tr>\n",
       "      <th>2</th>\n",
       "      <td>120853</td>\n",
       "      <td>41991.0</td>\n",
       "      <td>sales</td>\n",
       "      <td>IC</td>\n",
       "      <td>0</td>\n",
       "      <td>0</td>\n",
       "      <td>199000.0</td>\n",
       "      <td>1</td>\n",
       "      <td>0</td>\n",
       "      <td>5</td>\n",
       "      <td>0.0</td>\n",
       "      <td>0.0</td>\n",
       "      <td>0.0</td>\n",
       "      <td>0.0</td>\n",
       "      <td>1.0</td>\n",
       "    </tr>\n",
       "    <tr>\n",
       "      <th>3</th>\n",
       "      <td>142630</td>\n",
       "      <td>171266.0</td>\n",
       "      <td>HR</td>\n",
       "      <td>MM</td>\n",
       "      <td>16</td>\n",
       "      <td>0</td>\n",
       "      <td>143000.0</td>\n",
       "      <td>4</td>\n",
       "      <td>1</td>\n",
       "      <td>13</td>\n",
       "      <td>0.0</td>\n",
       "      <td>1.0</td>\n",
       "      <td>0.0</td>\n",
       "      <td>0.0</td>\n",
       "      <td>0.0</td>\n",
       "    </tr>\n",
       "    <tr>\n",
       "      <th>4</th>\n",
       "      <td>72711</td>\n",
       "      <td>198240.0</td>\n",
       "      <td>sales</td>\n",
       "      <td>IC</td>\n",
       "      <td>0</td>\n",
       "      <td>0</td>\n",
       "      <td>235000.0</td>\n",
       "      <td>3</td>\n",
       "      <td>0</td>\n",
       "      <td>1</td>\n",
       "      <td>0.0</td>\n",
       "      <td>0.0</td>\n",
       "      <td>0.0</td>\n",
       "      <td>0.0</td>\n",
       "      <td>1.0</td>\n",
       "    </tr>\n",
       "  </tbody>\n",
       "</table>\n",
       "</div>"
      ],
      "text/plain": [
       "   employee_id   boss_id   dept level  managing  signing_bonus    salary  \\\n",
       "0        46456  175361.0  sales    IC         0              0  213000.0   \n",
       "1       104708   29733.0     HR    IC         0              0   79000.0   \n",
       "2       120853   41991.0  sales    IC         0              0  199000.0   \n",
       "3       142630  171266.0     HR    MM        16              0  143000.0   \n",
       "4        72711  198240.0  sales    IC         0              0  235000.0   \n",
       "\n",
       "   degree_level  sex  yrs_experience  CEO   HR  engineering  marketing  sales  \n",
       "0             2    0               5  0.0  0.0          0.0        0.0    1.0  \n",
       "1             2    1               3  0.0  1.0          0.0        0.0    0.0  \n",
       "2             1    0               5  0.0  0.0          0.0        0.0    1.0  \n",
       "3             4    1              13  0.0  1.0          0.0        0.0    0.0  \n",
       "4             3    0               1  0.0  0.0          0.0        0.0    1.0  "
      ]
     },
     "execution_count": 420,
     "metadata": {},
     "output_type": "execute_result"
    }
   ],
   "source": [
    "df.head()"
   ]
  },
  {
   "cell_type": "code",
   "execution_count": 421,
   "metadata": {
    "collapsed": true
   },
   "outputs": [],
   "source": [
    "df = df.drop(['dept','level','managing'], axis=1)"
   ]
  },
  {
   "cell_type": "code",
   "execution_count": 422,
   "metadata": {
    "collapsed": false
   },
   "outputs": [
    {
     "data": {
      "text/html": [
       "<div>\n",
       "<table border=\"1\" class=\"dataframe\">\n",
       "  <thead>\n",
       "    <tr style=\"text-align: right;\">\n",
       "      <th></th>\n",
       "      <th>employee_id</th>\n",
       "      <th>boss_id</th>\n",
       "      <th>signing_bonus</th>\n",
       "      <th>salary</th>\n",
       "      <th>degree_level</th>\n",
       "      <th>sex</th>\n",
       "      <th>yrs_experience</th>\n",
       "      <th>CEO</th>\n",
       "      <th>HR</th>\n",
       "      <th>engineering</th>\n",
       "      <th>marketing</th>\n",
       "      <th>sales</th>\n",
       "    </tr>\n",
       "  </thead>\n",
       "  <tbody>\n",
       "    <tr>\n",
       "      <th>0</th>\n",
       "      <td>46456</td>\n",
       "      <td>175361.0</td>\n",
       "      <td>0</td>\n",
       "      <td>213000.0</td>\n",
       "      <td>2</td>\n",
       "      <td>0</td>\n",
       "      <td>5</td>\n",
       "      <td>0.0</td>\n",
       "      <td>0.0</td>\n",
       "      <td>0.0</td>\n",
       "      <td>0.0</td>\n",
       "      <td>1.0</td>\n",
       "    </tr>\n",
       "    <tr>\n",
       "      <th>1</th>\n",
       "      <td>104708</td>\n",
       "      <td>29733.0</td>\n",
       "      <td>0</td>\n",
       "      <td>79000.0</td>\n",
       "      <td>2</td>\n",
       "      <td>1</td>\n",
       "      <td>3</td>\n",
       "      <td>0.0</td>\n",
       "      <td>1.0</td>\n",
       "      <td>0.0</td>\n",
       "      <td>0.0</td>\n",
       "      <td>0.0</td>\n",
       "    </tr>\n",
       "    <tr>\n",
       "      <th>2</th>\n",
       "      <td>120853</td>\n",
       "      <td>41991.0</td>\n",
       "      <td>0</td>\n",
       "      <td>199000.0</td>\n",
       "      <td>1</td>\n",
       "      <td>0</td>\n",
       "      <td>5</td>\n",
       "      <td>0.0</td>\n",
       "      <td>0.0</td>\n",
       "      <td>0.0</td>\n",
       "      <td>0.0</td>\n",
       "      <td>1.0</td>\n",
       "    </tr>\n",
       "    <tr>\n",
       "      <th>3</th>\n",
       "      <td>142630</td>\n",
       "      <td>171266.0</td>\n",
       "      <td>0</td>\n",
       "      <td>143000.0</td>\n",
       "      <td>4</td>\n",
       "      <td>1</td>\n",
       "      <td>13</td>\n",
       "      <td>0.0</td>\n",
       "      <td>1.0</td>\n",
       "      <td>0.0</td>\n",
       "      <td>0.0</td>\n",
       "      <td>0.0</td>\n",
       "    </tr>\n",
       "    <tr>\n",
       "      <th>4</th>\n",
       "      <td>72711</td>\n",
       "      <td>198240.0</td>\n",
       "      <td>0</td>\n",
       "      <td>235000.0</td>\n",
       "      <td>3</td>\n",
       "      <td>0</td>\n",
       "      <td>1</td>\n",
       "      <td>0.0</td>\n",
       "      <td>0.0</td>\n",
       "      <td>0.0</td>\n",
       "      <td>0.0</td>\n",
       "      <td>1.0</td>\n",
       "    </tr>\n",
       "  </tbody>\n",
       "</table>\n",
       "</div>"
      ],
      "text/plain": [
       "   employee_id   boss_id  signing_bonus    salary  degree_level  sex  \\\n",
       "0        46456  175361.0              0  213000.0             2    0   \n",
       "1       104708   29733.0              0   79000.0             2    1   \n",
       "2       120853   41991.0              0  199000.0             1    0   \n",
       "3       142630  171266.0              0  143000.0             4    1   \n",
       "4        72711  198240.0              0  235000.0             3    0   \n",
       "\n",
       "   yrs_experience  CEO   HR  engineering  marketing  sales  \n",
       "0               5  0.0  0.0          0.0        0.0    1.0  \n",
       "1               3  0.0  1.0          0.0        0.0    0.0  \n",
       "2               5  0.0  0.0          0.0        0.0    1.0  \n",
       "3              13  0.0  1.0          0.0        0.0    0.0  \n",
       "4               1  0.0  0.0          0.0        0.0    1.0  "
      ]
     },
     "execution_count": 422,
     "metadata": {},
     "output_type": "execute_result"
    }
   ],
   "source": [
    "df.head()"
   ]
  },
  {
   "cell_type": "code",
   "execution_count": 423,
   "metadata": {
    "collapsed": false
   },
   "outputs": [
    {
     "data": {
      "text/plain": [
       "Index([u'employee_id', u'boss_id', u'signing_bonus', u'salary',\n",
       "       u'degree_level', u'sex', u'yrs_experience', u'CEO', u'HR',\n",
       "       u'engineering', u'marketing', u'sales'],\n",
       "      dtype='object')"
      ]
     },
     "execution_count": 423,
     "metadata": {},
     "output_type": "execute_result"
    }
   ],
   "source": [
    "df.columns"
   ]
  },
  {
   "cell_type": "code",
   "execution_count": 424,
   "metadata": {
    "collapsed": false
   },
   "outputs": [
    {
     "data": {
      "text/plain": [
       "array([0, 1])"
      ]
     },
     "execution_count": 424,
     "metadata": {},
     "output_type": "execute_result"
    }
   ],
   "source": [
    "df['signing_bonus'].unique()"
   ]
  },
  {
   "cell_type": "code",
   "execution_count": 425,
   "metadata": {
    "collapsed": true
   },
   "outputs": [],
   "source": [
    "def scatter(x, y, size=(8,6)):\n",
    "    plt.figure(figsize=size)\n",
    "    plt.scatter(x,y)"
   ]
  },
  {
   "cell_type": "code",
   "execution_count": 426,
   "metadata": {
    "collapsed": false
   },
   "outputs": [
    {
     "data": {
      "image/png": "[encoded data removed]",
      "text/plain": [
       "<matplotlib.figure.Figure at 0x11db1ba10>"
      ]
     },
     "metadata": {},
     "output_type": "display_data"
    }
   ],
   "source": [
    "scatter(df['salary'], df['yrs_experience'])"
   ]
  },
  {
   "cell_type": "code",
   "execution_count": 434,
   "metadata": {
    "collapsed": false
   },
   "outputs": [],
   "source": [
    "# scatter(df['salary'], df['managing'])\n",
    "# plt.xlim([0,420000])\n",
    "# # plt.ylim([0,1000])"
   ]
  },
  {
   "cell_type": "code",
   "execution_count": null,
   "metadata": {
    "collapsed": false
   },
   "outputs": [],
   "source": [
    "# scatter(df['salary'], df['Bachelor'])"
   ]
  },
  {
   "cell_type": "code",
   "execution_count": 433,
   "metadata": {
    "collapsed": false
   },
   "outputs": [],
   "source": [
    "# scatter(df['salary'], df['PhD'])"
   ]
  },
  {
   "cell_type": "code",
   "execution_count": 432,
   "metadata": {
    "collapsed": false
   },
   "outputs": [],
   "source": [
    "# df['salary'].groupby(df['Bachelor']).mean()"
   ]
  },
  {
   "cell_type": "code",
   "execution_count": 431,
   "metadata": {
    "collapsed": false
   },
   "outputs": [],
   "source": [
    "# df['salary'].groupby(df['PhD']).mean()"
   ]
  },
  {
   "cell_type": "code",
   "execution_count": 435,
   "metadata": {
    "collapsed": false
   },
   "outputs": [
    {
     "data": {
      "text/plain": [
       "sex\n",
       "0    198975.924200\n",
       "1    171314.518394\n",
       "Name: salary, dtype: float64"
      ]
     },
     "execution_count": 435,
     "metadata": {},
     "output_type": "execute_result"
    }
   ],
   "source": [
    "df['salary'].groupby(df['sex']).mean()"
   ]
  },
  {
   "cell_type": "code",
   "execution_count": 436,
   "metadata": {
    "collapsed": true
   },
   "outputs": [],
   "source": [
    "def summary_model(X, y):\n",
    "    model = sm.OLS(y, X).fit()\n",
    "    summary = model.summary()\n",
    "    return model, summary"
   ]
  },
  {
   "cell_type": "code",
   "execution_count": 443,
   "metadata": {
    "collapsed": false
   },
   "outputs": [],
   "source": [
    "X = df[[u'signing_bonus',\n",
    "       u'degree_level', u'sex', u'yrs_experience', u'CEO', u'HR',\n",
    "       u'engineering', u'marketing', u'sales']]\n",
    "X = sm.add_constant(X) \n",
    "y = df['salary']"
   ]
  },
  {
   "cell_type": "code",
   "execution_count": 444,
   "metadata": {
    "collapsed": false
   },
   "outputs": [
    {
     "data": {
      "text/html": [
       "<div>\n",
       "<table border=\"1\" class=\"dataframe\">\n",
       "  <thead>\n",
       "    <tr style=\"text-align: right;\">\n",
       "      <th></th>\n",
       "      <th>const</th>\n",
       "      <th>signing_bonus</th>\n",
       "      <th>degree_level</th>\n",
       "      <th>sex</th>\n",
       "      <th>yrs_experience</th>\n",
       "      <th>CEO</th>\n",
       "      <th>HR</th>\n",
       "      <th>engineering</th>\n",
       "      <th>marketing</th>\n",
       "      <th>sales</th>\n",
       "    </tr>\n",
       "  </thead>\n",
       "  <tbody>\n",
       "    <tr>\n",
       "      <th>0</th>\n",
       "      <td>1</td>\n",
       "      <td>0</td>\n",
       "      <td>2</td>\n",
       "      <td>0</td>\n",
       "      <td>5</td>\n",
       "      <td>0.0</td>\n",
       "      <td>0.0</td>\n",
       "      <td>0.0</td>\n",
       "      <td>0.0</td>\n",
       "      <td>1.0</td>\n",
       "    </tr>\n",
       "    <tr>\n",
       "      <th>1</th>\n",
       "      <td>1</td>\n",
       "      <td>0</td>\n",
       "      <td>2</td>\n",
       "      <td>1</td>\n",
       "      <td>3</td>\n",
       "      <td>0.0</td>\n",
       "      <td>1.0</td>\n",
       "      <td>0.0</td>\n",
       "      <td>0.0</td>\n",
       "      <td>0.0</td>\n",
       "    </tr>\n",
       "    <tr>\n",
       "      <th>2</th>\n",
       "      <td>1</td>\n",
       "      <td>0</td>\n",
       "      <td>1</td>\n",
       "      <td>0</td>\n",
       "      <td>5</td>\n",
       "      <td>0.0</td>\n",
       "      <td>0.0</td>\n",
       "      <td>0.0</td>\n",
       "      <td>0.0</td>\n",
       "      <td>1.0</td>\n",
       "    </tr>\n",
       "    <tr>\n",
       "      <th>3</th>\n",
       "      <td>1</td>\n",
       "      <td>0</td>\n",
       "      <td>4</td>\n",
       "      <td>1</td>\n",
       "      <td>13</td>\n",
       "      <td>0.0</td>\n",
       "      <td>1.0</td>\n",
       "      <td>0.0</td>\n",
       "      <td>0.0</td>\n",
       "      <td>0.0</td>\n",
       "    </tr>\n",
       "    <tr>\n",
       "      <th>4</th>\n",
       "      <td>1</td>\n",
       "      <td>0</td>\n",
       "      <td>3</td>\n",
       "      <td>0</td>\n",
       "      <td>1</td>\n",
       "      <td>0.0</td>\n",
       "      <td>0.0</td>\n",
       "      <td>0.0</td>\n",
       "      <td>0.0</td>\n",
       "      <td>1.0</td>\n",
       "    </tr>\n",
       "  </tbody>\n",
       "</table>\n",
       "</div>"
      ],
      "text/plain": [
       "   const  signing_bonus  degree_level  sex  yrs_experience  CEO   HR  \\\n",
       "0      1              0             2    0               5  0.0  0.0   \n",
       "1      1              0             2    1               3  0.0  1.0   \n",
       "2      1              0             1    0               5  0.0  0.0   \n",
       "3      1              0             4    1              13  0.0  1.0   \n",
       "4      1              0             3    0               1  0.0  0.0   \n",
       "\n",
       "   engineering  marketing  sales  \n",
       "0          0.0        0.0    1.0  \n",
       "1          0.0        0.0    0.0  \n",
       "2          0.0        0.0    1.0  \n",
       "3          0.0        0.0    0.0  \n",
       "4          0.0        0.0    1.0  "
      ]
     },
     "execution_count": 444,
     "metadata": {},
     "output_type": "execute_result"
    }
   ],
   "source": [
    "X.head()"
   ]
  },
  {
   "cell_type": "code",
   "execution_count": 445,
   "metadata": {
    "collapsed": true
   },
   "outputs": [],
   "source": [
    "X_train, X_test, y_train, y_test = train_test_split(X, y, test_size=0.33, random_state=12)"
   ]
  },
  {
   "cell_type": "code",
   "execution_count": 446,
   "metadata": {
    "collapsed": false
   },
   "outputs": [],
   "source": [
    "md, summary = summary_model(X_train, y_train)"
   ]
  },
  {
   "cell_type": "code",
   "execution_count": 447,
   "metadata": {
    "collapsed": false
   },
   "outputs": [
    {
     "data": {
      "text/html": [
       "<table class=\"simpletable\">\n",
       "<caption>OLS Regression Results</caption>\n",
       "<tr>\n",
       "  <th>Dep. Variable:</th>         <td>salary</td>      <th>  R-squared:         </th> <td>   0.346</td> \n",
       "</tr>\n",
       "<tr>\n",
       "  <th>Model:</th>                   <td>OLS</td>       <th>  Adj. R-squared:    </th> <td>   0.345</td> \n",
       "</tr>\n",
       "<tr>\n",
       "  <th>Method:</th>             <td>Least Squares</td>  <th>  F-statistic:       </th> <td>   442.0</td> \n",
       "</tr>\n",
       "<tr>\n",
       "  <th>Date:</th>             <td>Tue, 02 Aug 2016</td> <th>  Prob (F-statistic):</th>  <td>  0.00</td>  \n",
       "</tr>\n",
       "<tr>\n",
       "  <th>Time:</th>                 <td>22:43:34</td>     <th>  Log-Likelihood:    </th> <td> -84464.</td> \n",
       "</tr>\n",
       "<tr>\n",
       "  <th>No. Observations:</th>      <td>  6699</td>      <th>  AIC:               </th> <td>1.689e+05</td>\n",
       "</tr>\n",
       "<tr>\n",
       "  <th>Df Residuals:</th>          <td>  6690</td>      <th>  BIC:               </th> <td>1.690e+05</td>\n",
       "</tr>\n",
       "<tr>\n",
       "  <th>Df Model:</th>              <td>     8</td>      <th>                     </th>     <td> </td>    \n",
       "</tr>\n",
       "<tr>\n",
       "  <th>Covariance Type:</th>      <td>nonrobust</td>    <th>                     </th>     <td> </td>    \n",
       "</tr>\n",
       "</table>\n",
       "<table class=\"simpletable\">\n",
       "<tr>\n",
       "         <td></td>           <th>coef</th>     <th>std err</th>      <th>t</th>      <th>P>|t|</th> <th>[95.0% Conf. Int.]</th> \n",
       "</tr>\n",
       "<tr>\n",
       "  <th>const</th>          <td> 2.294e+05</td> <td> 1.23e+04</td> <td>   18.620</td> <td> 0.000</td> <td> 2.05e+05  2.54e+05</td>\n",
       "</tr>\n",
       "<tr>\n",
       "  <th>signing_bonus</th>  <td> -959.0418</td> <td> 1966.771</td> <td>   -0.488</td> <td> 0.626</td> <td>-4814.539  2896.456</td>\n",
       "</tr>\n",
       "<tr>\n",
       "  <th>degree_level</th>   <td> 1039.8686</td> <td>  846.826</td> <td>    1.228</td> <td> 0.220</td> <td> -620.180  2699.918</td>\n",
       "</tr>\n",
       "<tr>\n",
       "  <th>sex</th>            <td> -291.2389</td> <td> 1912.500</td> <td>   -0.152</td> <td> 0.879</td> <td>-4040.349  3457.871</td>\n",
       "</tr>\n",
       "<tr>\n",
       "  <th>yrs_experience</th> <td> 1298.4115</td> <td>  291.776</td> <td>    4.450</td> <td> 0.000</td> <td>  726.438  1870.385</td>\n",
       "</tr>\n",
       "<tr>\n",
       "  <th>CEO</th>            <td> 4.583e+05</td> <td> 6.04e+04</td> <td>    7.590</td> <td> 0.000</td> <td>  3.4e+05  5.77e+05</td>\n",
       "</tr>\n",
       "<tr>\n",
       "  <th>HR</th>             <td> -1.53e+05</td> <td> 1.22e+04</td> <td>  -12.502</td> <td> 0.000</td> <td>-1.77e+05 -1.29e+05</td>\n",
       "</tr>\n",
       "<tr>\n",
       "  <th>engineering</th>    <td> 7529.6130</td> <td> 1.22e+04</td> <td>    0.619</td> <td> 0.536</td> <td>-1.63e+04  3.14e+04</td>\n",
       "</tr>\n",
       "<tr>\n",
       "  <th>marketing</th>      <td>-4.144e+04</td> <td> 1.22e+04</td> <td>   -3.399</td> <td> 0.001</td> <td>-6.53e+04 -1.75e+04</td>\n",
       "</tr>\n",
       "<tr>\n",
       "  <th>sales</th>          <td>-4.191e+04</td> <td> 1.21e+04</td> <td>   -3.450</td> <td> 0.001</td> <td>-6.57e+04 -1.81e+04</td>\n",
       "</tr>\n",
       "</table>\n",
       "<table class=\"simpletable\">\n",
       "<tr>\n",
       "  <th>Omnibus:</th>       <td>25.578</td> <th>  Durbin-Watson:     </th> <td>   1.946</td>\n",
       "</tr>\n",
       "<tr>\n",
       "  <th>Prob(Omnibus):</th> <td> 0.000</td> <th>  Jarque-Bera (JB):  </th> <td>  25.803</td>\n",
       "</tr>\n",
       "<tr>\n",
       "  <th>Skew:</th>          <td> 0.149</td> <th>  Prob(JB):          </th> <td>2.49e-06</td>\n",
       "</tr>\n",
       "<tr>\n",
       "  <th>Kurtosis:</th>      <td> 2.935</td> <th>  Cond. No.          </th> <td>4.71e+16</td>\n",
       "</tr>\n",
       "</table>"
      ],
      "text/plain": [
       "<class 'statsmodels.iolib.summary.Summary'>\n",
       "\"\"\"\n",
       "                            OLS Regression Results                            \n",
       "==============================================================================\n",
       "Dep. Variable:                 salary   R-squared:                       0.346\n",
       "Model:                            OLS   Adj. R-squared:                  0.345\n",
       "Method:                 Least Squares   F-statistic:                     442.0\n",
       "Date:                Tue, 02 Aug 2016   Prob (F-statistic):               0.00\n",
       "Time:                        22:43:34   Log-Likelihood:                -84464.\n",
       "No. Observations:                6699   AIC:                         1.689e+05\n",
       "Df Residuals:                    6690   BIC:                         1.690e+05\n",
       "Df Model:                           8                                         \n",
       "Covariance Type:            nonrobust                                         \n",
       "==================================================================================\n",
       "                     coef    std err          t      P>|t|      [95.0% Conf. Int.]\n",
       "----------------------------------------------------------------------------------\n",
       "const           2.294e+05   1.23e+04     18.620      0.000      2.05e+05  2.54e+05\n",
       "signing_bonus   -959.0418   1966.771     -0.488      0.626     -4814.539  2896.456\n",
       "degree_level    1039.8686    846.826      1.228      0.220      -620.180  2699.918\n",
       "sex             -291.2389   1912.500     -0.152      0.879     -4040.349  3457.871\n",
       "yrs_experience  1298.4115    291.776      4.450      0.000       726.438  1870.385\n",
       "CEO             4.583e+05   6.04e+04      7.590      0.000       3.4e+05  5.77e+05\n",
       "HR              -1.53e+05   1.22e+04    -12.502      0.000     -1.77e+05 -1.29e+05\n",
       "engineering     7529.6130   1.22e+04      0.619      0.536     -1.63e+04  3.14e+04\n",
       "marketing      -4.144e+04   1.22e+04     -3.399      0.001     -6.53e+04 -1.75e+04\n",
       "sales          -4.191e+04   1.21e+04     -3.450      0.001     -6.57e+04 -1.81e+04\n",
       "==============================================================================\n",
       "Omnibus:                       25.578   Durbin-Watson:                   1.946\n",
       "Prob(Omnibus):                  0.000   Jarque-Bera (JB):               25.803\n",
       "Skew:                           0.149   Prob(JB):                     2.49e-06\n",
       "Kurtosis:                       2.935   Cond. No.                     4.71e+16\n",
       "==============================================================================\n",
       "\n",
       "Warnings:\n",
       "[1] Standard Errors assume that the covariance matrix of the errors is correctly specified.\n",
       "[2] The smallest eigenvalue is 9.26e-29. This might indicate that there are\n",
       "strong multicollinearity problems or that the design matrix is singular.\n",
       "\"\"\""
      ]
     },
     "execution_count": 447,
     "metadata": {},
     "output_type": "execute_result"
    }
   ],
   "source": [
    "summary"
   ]
  },
  {
   "cell_type": "code",
   "execution_count": 449,
   "metadata": {
    "collapsed": false
   },
   "outputs": [
    {
     "data": {
      "text/plain": [
       "16905520494875.117"
      ]
     },
     "execution_count": 449,
     "metadata": {},
     "output_type": "execute_result"
    }
   ],
   "source": [
    "np.sum((md.predict(X_test) - y_test)**2)"
   ]
  },
  {
   "cell_type": "code",
   "execution_count": 450,
   "metadata": {
    "collapsed": false
   },
   "outputs": [
    {
     "data": {
      "text/plain": [
       "35080288333797.633"
      ]
     },
     "execution_count": 450,
     "metadata": {},
     "output_type": "execute_result"
    }
   ],
   "source": [
    "np.sum((md.predict(X_train) - y_train)**2)"
   ]
  },
  {
   "cell_type": "code",
   "execution_count": null,
   "metadata": {
    "collapsed": true
   },
   "outputs": [],
   "source": []
  }
 ],
 "metadata": {
  "kernelspec": {
   "display_name": "Python 2",
   "language": "python",
   "name": "python2"
  },
  "language_info": {
   "codemirror_mode": {
    "name": "ipython",
    "version": 2
   },
   "file_extension": ".py",
   "mimetype": "text/x-python",
   "name": "python",
   "nbconvert_exporter": "python",
   "pygments_lexer": "ipython2",
   "version": "2.7.12"
  }
 },
 "nbformat": 4,
 "nbformat_minor": 0
}

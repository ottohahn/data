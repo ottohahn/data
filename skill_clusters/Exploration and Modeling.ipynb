{
 "cells": [
  {
   "cell_type": "code",
   "execution_count": 98,
   "metadata": {
    "collapsed": false
   },
   "outputs": [],
   "source": [
    "import pandas as pd\n",
    "import numpy as np\n",
    "from sklearn.feature_extraction.text import CountVectorizer, TfidfVectorizer\n",
    "from sklearn.decomposition import NMF, LatentDirichletAllocation"
   ]
  },
  {
   "cell_type": "code",
   "execution_count": 75,
   "metadata": {
    "collapsed": true
   },
   "outputs": [],
   "source": [
    "df = pd.read_csv('data/skill_cluster_df.csv', index_col=False)"
   ]
  },
  {
   "cell_type": "code",
   "execution_count": 76,
   "metadata": {
    "collapsed": false
   },
   "outputs": [],
   "source": [
    "df.drop('Unnamed: 0', axis=1, inplace=True)\n",
    "df['name'] = df['name'].apply(lambda x: x.lower())"
   ]
  },
  {
   "cell_type": "code",
   "execution_count": 77,
   "metadata": {
    "collapsed": false
   },
   "outputs": [
    {
     "data": {
      "text/html": [
       "<div>\n",
       "<table border=\"1\" class=\"dataframe\">\n",
       "  <thead>\n",
       "    <tr style=\"text-align: right;\">\n",
       "      <th></th>\n",
       "      <th>id</th>\n",
       "      <th>roles</th>\n",
       "      <th>trend_id</th>\n",
       "      <th>name</th>\n",
       "      <th>kind</th>\n",
       "    </tr>\n",
       "  </thead>\n",
       "  <tbody>\n",
       "    <tr>\n",
       "      <th>0</th>\n",
       "      <td>550246</td>\n",
       "      <td>['engineering']</td>\n",
       "      <td>81</td>\n",
       "      <td>iis</td>\n",
       "      <td>Software systems</td>\n",
       "    </tr>\n",
       "    <tr>\n",
       "      <th>1</th>\n",
       "      <td>550246</td>\n",
       "      <td>['engineering']</td>\n",
       "      <td>134814</td>\n",
       "      <td>c #sh%</td>\n",
       "      <td>Software systems</td>\n",
       "    </tr>\n",
       "    <tr>\n",
       "      <th>2</th>\n",
       "      <td>550246</td>\n",
       "      <td>['engineering']</td>\n",
       "      <td>41</td>\n",
       "      <td>matlab</td>\n",
       "      <td>Software systems</td>\n",
       "    </tr>\n",
       "    <tr>\n",
       "      <th>3</th>\n",
       "      <td>550246</td>\n",
       "      <td>['engineering']</td>\n",
       "      <td>323</td>\n",
       "      <td>jquery</td>\n",
       "      <td>Software systems</td>\n",
       "    </tr>\n",
       "    <tr>\n",
       "      <th>4</th>\n",
       "      <td>550246</td>\n",
       "      <td>['engineering']</td>\n",
       "      <td>35</td>\n",
       "      <td>javascript</td>\n",
       "      <td>Software systems</td>\n",
       "    </tr>\n",
       "  </tbody>\n",
       "</table>\n",
       "</div>"
      ],
      "text/plain": [
       "       id            roles  trend_id        name              kind\n",
       "0  550246  ['engineering']        81         iis  Software systems\n",
       "1  550246  ['engineering']    134814      c #sh%  Software systems\n",
       "2  550246  ['engineering']        41      matlab  Software systems\n",
       "3  550246  ['engineering']       323      jquery  Software systems\n",
       "4  550246  ['engineering']        35  javascript  Software systems"
      ]
     },
     "execution_count": 77,
     "metadata": {},
     "output_type": "execute_result"
    }
   ],
   "source": [
    "df.head()"
   ]
  },
  {
   "cell_type": "code",
   "execution_count": 78,
   "metadata": {
    "collapsed": true
   },
   "outputs": [],
   "source": [
    "word_list = df['name'].unique()"
   ]
  },
  {
   "cell_type": "code",
   "execution_count": 79,
   "metadata": {
    "collapsed": false
   },
   "outputs": [],
   "source": [
    "word_len = []\n",
    "for word in word_list:\n",
    "    word_len.append(len(word.split()))"
   ]
  },
  {
   "cell_type": "code",
   "execution_count": 80,
   "metadata": {
    "collapsed": false
   },
   "outputs": [
    {
     "data": {
      "text/plain": [
       "28"
      ]
     },
     "execution_count": 80,
     "metadata": {},
     "output_type": "execute_result"
    }
   ],
   "source": [
    "max(word_len)"
   ]
  },
  {
   "cell_type": "code",
   "execution_count": 81,
   "metadata": {
    "collapsed": false
   },
   "outputs": [],
   "source": [
    "word_dict_cnt = {}\n",
    "for word in df['name']:\n",
    "    if word in word_dict_cnt:\n",
    "        word_dict_cnt[word] = word_dict_cnt[word] + 1\n",
    "    else:\n",
    "        word_dict_cnt[word] = 1"
   ]
  },
  {
   "cell_type": "code",
   "execution_count": 82,
   "metadata": {
    "collapsed": false
   },
   "outputs": [
    {
     "data": {
      "text/plain": [
       "[('java', 14585),\n",
       " ('javascript', 10981),\n",
       " ('python', 10678),\n",
       " ('c++', 10323),\n",
       " ('css', 8400),\n",
       " ('computer science', 8366),\n",
       " ('mysql', 8130),\n",
       " ('linux', 7549),\n",
       " ('sql', 6881),\n",
       " ('android', 6389)]"
      ]
     },
     "execution_count": 82,
     "metadata": {},
     "output_type": "execute_result"
    }
   ],
   "source": [
    "sorted(word_dict_cnt.items(), key=lambda x: x[1], reverse=True)[:10]"
   ]
  },
  {
   "cell_type": "code",
   "execution_count": 83,
   "metadata": {
    "collapsed": false
   },
   "outputs": [],
   "source": [
    "word_dict_ord = {}\n",
    "for word, ind in zip(sorted(word_list), xrange(len(word_list))):\n",
    "    word_dict_ord[word] = ind"
   ]
  },
  {
   "cell_type": "code",
   "execution_count": 84,
   "metadata": {
    "collapsed": false
   },
   "outputs": [
    {
     "data": {
      "text/plain": [
       "(52497, 457816)"
      ]
     },
     "execution_count": 84,
     "metadata": {},
     "output_type": "execute_result"
    }
   ],
   "source": [
    "len(word_list), len(df)"
   ]
  },
  {
   "cell_type": "code",
   "execution_count": 85,
   "metadata": {
    "collapsed": true
   },
   "outputs": [],
   "source": [
    "df_txt = df.groupby(['id'])['name'].apply(lambda x: ' '.join(x)).reset_index()"
   ]
  },
  {
   "cell_type": "code",
   "execution_count": 86,
   "metadata": {
    "collapsed": false
   },
   "outputs": [
    {
     "data": {
      "text/html": [
       "<div>\n",
       "<table border=\"1\" class=\"dataframe\">\n",
       "  <thead>\n",
       "    <tr style=\"text-align: right;\">\n",
       "      <th></th>\n",
       "      <th>id</th>\n",
       "      <th>name</th>\n",
       "    </tr>\n",
       "  </thead>\n",
       "  <tbody>\n",
       "    <tr>\n",
       "      <th>0</th>\n",
       "      <td>531968</td>\n",
       "      <td>postgres java jquery javascript ios linux tech...</td>\n",
       "    </tr>\n",
       "    <tr>\n",
       "      <th>1</th>\n",
       "      <td>531982</td>\n",
       "      <td>objective-c mysql computer science developer f...</td>\n",
       "    </tr>\n",
       "    <tr>\n",
       "      <th>2</th>\n",
       "      <td>532069</td>\n",
       "      <td>c++ ios stanford university catlin gabel schoo...</td>\n",
       "    </tr>\n",
       "    <tr>\n",
       "      <th>3</th>\n",
       "      <td>532082</td>\n",
       "      <td>php gni</td>\n",
       "    </tr>\n",
       "    <tr>\n",
       "      <th>4</th>\n",
       "      <td>532092</td>\n",
       "      <td>php mysql css python java jquery javascript co...</td>\n",
       "    </tr>\n",
       "  </tbody>\n",
       "</table>\n",
       "</div>"
      ],
      "text/plain": [
       "       id                                               name\n",
       "0  531968  postgres java jquery javascript ios linux tech...\n",
       "1  531982  objective-c mysql computer science developer f...\n",
       "2  532069  c++ ios stanford university catlin gabel schoo...\n",
       "3  532082                                            php gni\n",
       "4  532092  php mysql css python java jquery javascript co..."
      ]
     },
     "execution_count": 86,
     "metadata": {},
     "output_type": "execute_result"
    }
   ],
   "source": [
    "df_txt.head()"
   ]
  },
  {
   "cell_type": "code",
   "execution_count": 104,
   "metadata": {
    "collapsed": false
   },
   "outputs": [],
   "source": [
    "cv = CountVectorizer(vocabulary=word_dict_ord, ngram_range=(1,10))\n",
    "tf = TfidfVectorizer(vocabulary=word_dict_ord, ngram_range=(1,10))"
   ]
  },
  {
   "cell_type": "code",
   "execution_count": 105,
   "metadata": {
    "collapsed": false
   },
   "outputs": [],
   "source": [
    "count = cv.fit_transform(df_txt['name'])\n",
    "tfidf = tf.fit_transform(df_txt['name'])"
   ]
  },
  {
   "cell_type": "code",
   "execution_count": 107,
   "metadata": {
    "collapsed": false
   },
   "outputs": [
    {
     "data": {
      "text/plain": [
       "(20234, 52497)"
      ]
     },
     "execution_count": 107,
     "metadata": {},
     "output_type": "execute_result"
    }
   ],
   "source": [
    "count.shape"
   ]
  },
  {
   "cell_type": "code",
   "execution_count": 108,
   "metadata": {
    "collapsed": false
   },
   "outputs": [
    {
     "data": {
      "text/plain": [
       "(20234, 52497)"
      ]
     },
     "execution_count": 108,
     "metadata": {},
     "output_type": "execute_result"
    }
   ],
   "source": [
    "tfidf.shape"
   ]
  },
  {
   "cell_type": "code",
   "execution_count": 109,
   "metadata": {
    "collapsed": true
   },
   "outputs": [],
   "source": [
    "nmf1 = NMF(n_components=10, random_state=1, alpha=.1, l1_ratio=.5).fit(count)\n",
    "nmf2 = NMF(n_components=10, random_state=1, alpha=.1, l1_ratio=.5).fit(tfidf)"
   ]
  },
  {
   "cell_type": "code",
   "execution_count": 106,
   "metadata": {
    "collapsed": true
   },
   "outputs": [],
   "source": [
    "def print_top_words(model, feature_names, n_top_words):\n",
    "    for topic_idx, topic in enumerate(model.components_):\n",
    "        print(\"Topic #%d:\" % topic_idx)\n",
    "        print(\" \".join([feature_names[i]\n",
    "                        for i in topic.argsort()[:-n_top_words - 1:-1]]))\n",
    "    print()"
   ]
  },
  {
   "cell_type": "code",
   "execution_count": 114,
   "metadata": {
    "collapsed": false
   },
   "outputs": [
    {
     "name": "stdout",
     "output_type": "stream",
     "text": [
      "\n",
      "Topics in NMF model:\n",
      "Topic #0:\n",
      "university university of university of california matlab python university of texas computer science java university of southern university of southern california\n",
      "Topic #1:\n",
      "engineer software engineer senior software senior software engineer software development engineer software systems development engineer principal consultant\n",
      "Topic #2:\n",
      "sql sql server xml asp java javascript analyst microsoft sql server mysql jsp\n",
      "Topic #3:\n",
      "institute institute of institute of technology indian institute indian institute of indian institute of technology matlab java computer science python\n",
      "Topic #4:\n",
      "developer software developer web developer jquery javascript php web applications ios developer intern team\n",
      "Topic #5:\n",
      "assistant research assistant teaching assistant department matlab python computer science department of java systems\n",
      "Topic #6:\n",
      "windows linux system unix systems os ubuntu mac os java operating system\n",
      "Topic #7:\n",
      "university state state university java matlab system department stanford python data mining\n",
      "Topic #8:\n",
      "intern school computer science python java high software engineering engineering intern high school college\n",
      "Topic #9:\n",
      "javascript css android java mysql php ruby jquery python computer science\n",
      "()\n"
     ]
    }
   ],
   "source": [
    "print(\"\\nTopics in NMF model:\")\n",
    "count_feature_names = cv.get_feature_names()\n",
    "print_top_words(nmf1, count_feature_names, 10)"
   ]
  },
  {
   "cell_type": "code",
   "execution_count": 111,
   "metadata": {
    "collapsed": false
   },
   "outputs": [
    {
     "name": "stdout",
     "output_type": "stream",
     "text": [
      "\n",
      "Topics in NMF model:\n",
      "Topic #0:\n",
      "javascript jquery css mysql python php java sql postgresql xml\n",
      "Topic #1:\n",
      "engineer software engineer senior software senior software engineer engineer software software development development engineer principal software development engineer engineer intern\n",
      "Topic #2:\n",
      "institute of institute institute of technology indian institute indian institute of indian institute of technology georgia institute georgia institute of georgia institute of technology national institute\n",
      "Topic #3:\n",
      "assistant research assistant teaching assistant university department matlab department of assistant computer science computer science graduate teaching assistant\n",
      "Topic #4:\n",
      "ruby rails ruby on rails postgresql jquery css javascript sql web applications ec2\n",
      "Topic #5:\n",
      "state state university jose state university san jose state san jose state university university state university of new state university of new york university of new york web services\n",
      "Topic #6:\n",
      "university of university intern university of california computer science software engineering engineering intern python software engineering intern matlab\n",
      "Topic #7:\n",
      "developer software developer web developer ios developer intern android software developer intern web applications php intern\n",
      "Topic #8:\n",
      "windows sql sql server linux system android xml unix university java\n",
      "Topic #9:\n",
      "school high high school school of school of engineering college computer science president excel university\n",
      "()\n"
     ]
    }
   ],
   "source": [
    "print(\"\\nTopics in NMF model:\")\n",
    "tfidf_feature_names = tf.get_feature_names()\n",
    "print_top_words(nmf2, tfidf_feature_names, 10)"
   ]
  },
  {
   "cell_type": "code",
   "execution_count": null,
   "metadata": {
    "collapsed": true
   },
   "outputs": [],
   "source": []
  }
 ],
 "metadata": {
  "kernelspec": {
   "display_name": "Python 2",
   "language": "python",
   "name": "python2"
  },
  "language_info": {
   "codemirror_mode": {
    "name": "ipython",
    "version": 2
   },
   "file_extension": ".py",
   "mimetype": "text/x-python",
   "name": "python",
   "nbconvert_exporter": "python",
   "pygments_lexer": "ipython2",
   "version": "2.7.12"
  }
 },
 "nbformat": 4,
 "nbformat_minor": 0
}

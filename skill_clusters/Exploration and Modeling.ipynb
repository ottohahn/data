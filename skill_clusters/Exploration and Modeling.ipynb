{
 "cells": [
  {
   "cell_type": "code",
   "execution_count": 1,
   "metadata": {
    "collapsed": false
   },
   "outputs": [],
   "source": [
    "import pandas as pd\n",
    "import numpy as np\n",
    "from sklearn.feature_extraction.text import CountVectorizer, TfidfVectorizer\n",
    "from sklearn.decomposition import NMF, LatentDirichletAllocation"
   ]
  },
  {
   "cell_type": "code",
   "execution_count": 2,
   "metadata": {
    "collapsed": true
   },
   "outputs": [],
   "source": [
    "df = pd.read_csv('data/skill_cluster_df.csv', index_col=False)"
   ]
  },
  {
   "cell_type": "code",
   "execution_count": 3,
   "metadata": {
    "collapsed": false
   },
   "outputs": [],
   "source": [
    "df.drop('Unnamed: 0', axis=1, inplace=True)\n",
    "df['name'] = df['name'].apply(lambda x: x.lower())"
   ]
  },
  {
   "cell_type": "code",
   "execution_count": 4,
   "metadata": {
    "collapsed": false
   },
   "outputs": [
    {
     "data": {
      "text/html": [
       "<div>\n",
       "<table border=\"1\" class=\"dataframe\">\n",
       "  <thead>\n",
       "    <tr style=\"text-align: right;\">\n",
       "      <th></th>\n",
       "      <th>id</th>\n",
       "      <th>roles</th>\n",
       "      <th>trend_id</th>\n",
       "      <th>name</th>\n",
       "      <th>kind</th>\n",
       "    </tr>\n",
       "  </thead>\n",
       "  <tbody>\n",
       "    <tr>\n",
       "      <th>0</th>\n",
       "      <td>550246</td>\n",
       "      <td>['engineering']</td>\n",
       "      <td>81</td>\n",
       "      <td>iis</td>\n",
       "      <td>Software systems</td>\n",
       "    </tr>\n",
       "    <tr>\n",
       "      <th>1</th>\n",
       "      <td>550246</td>\n",
       "      <td>['engineering']</td>\n",
       "      <td>134814</td>\n",
       "      <td>c #sh%</td>\n",
       "      <td>Software systems</td>\n",
       "    </tr>\n",
       "    <tr>\n",
       "      <th>2</th>\n",
       "      <td>550246</td>\n",
       "      <td>['engineering']</td>\n",
       "      <td>41</td>\n",
       "      <td>matlab</td>\n",
       "      <td>Software systems</td>\n",
       "    </tr>\n",
       "    <tr>\n",
       "      <th>3</th>\n",
       "      <td>550246</td>\n",
       "      <td>['engineering']</td>\n",
       "      <td>323</td>\n",
       "      <td>jquery</td>\n",
       "      <td>Software systems</td>\n",
       "    </tr>\n",
       "    <tr>\n",
       "      <th>4</th>\n",
       "      <td>550246</td>\n",
       "      <td>['engineering']</td>\n",
       "      <td>35</td>\n",
       "      <td>javascript</td>\n",
       "      <td>Software systems</td>\n",
       "    </tr>\n",
       "  </tbody>\n",
       "</table>\n",
       "</div>"
      ],
      "text/plain": [
       "       id            roles  trend_id        name              kind\n",
       "0  550246  ['engineering']        81         iis  Software systems\n",
       "1  550246  ['engineering']    134814      c #sh%  Software systems\n",
       "2  550246  ['engineering']        41      matlab  Software systems\n",
       "3  550246  ['engineering']       323      jquery  Software systems\n",
       "4  550246  ['engineering']        35  javascript  Software systems"
      ]
     },
     "execution_count": 4,
     "metadata": {},
     "output_type": "execute_result"
    }
   ],
   "source": [
    "df.head()"
   ]
  },
  {
   "cell_type": "code",
   "execution_count": 5,
   "metadata": {
    "collapsed": true
   },
   "outputs": [],
   "source": [
    "word_list = df['name'].unique()"
   ]
  },
  {
   "cell_type": "code",
   "execution_count": 6,
   "metadata": {
    "collapsed": false
   },
   "outputs": [
    {
     "data": {
      "text/plain": [
       "array(['iis', 'c #sh%', 'matlab', 'jquery', 'javascript', 'php', 'python',\n",
       "       'unix', 'assistant', 'java'], dtype=object)"
      ]
     },
     "execution_count": 6,
     "metadata": {},
     "output_type": "execute_result"
    }
   ],
   "source": [
    "word_list[:10]"
   ]
  },
  {
   "cell_type": "code",
   "execution_count": 7,
   "metadata": {
    "collapsed": false
   },
   "outputs": [],
   "source": [
    "word_len = []\n",
    "for word in word_list:\n",
    "    word_len.append(len(word.split()))"
   ]
  },
  {
   "cell_type": "code",
   "execution_count": 8,
   "metadata": {
    "collapsed": false
   },
   "outputs": [
    {
     "data": {
      "text/plain": [
       "28"
      ]
     },
     "execution_count": 8,
     "metadata": {},
     "output_type": "execute_result"
    }
   ],
   "source": [
    "max(word_len)"
   ]
  },
  {
   "cell_type": "code",
   "execution_count": 9,
   "metadata": {
    "collapsed": false
   },
   "outputs": [],
   "source": [
    "word_dict_cnt = {}\n",
    "for word in df['name']:\n",
    "    if word in word_dict_cnt:\n",
    "        word_dict_cnt[word] = word_dict_cnt[word] + 1\n",
    "    else:\n",
    "        word_dict_cnt[word] = 1"
   ]
  },
  {
   "cell_type": "code",
   "execution_count": 10,
   "metadata": {
    "collapsed": false
   },
   "outputs": [],
   "source": [
    "# sorted(word_dict_cnt.items(), key=lambda x: x[1], reverse=True)[:10]"
   ]
  },
  {
   "cell_type": "code",
   "execution_count": 11,
   "metadata": {
    "collapsed": false
   },
   "outputs": [],
   "source": [
    "word_dict_ord = {}\n",
    "for word, ind in zip(sorted(word_list), xrange(len(word_list))):\n",
    "    word_dict_ord[word] = ind"
   ]
  },
  {
   "cell_type": "code",
   "execution_count": 12,
   "metadata": {
    "collapsed": true
   },
   "outputs": [],
   "source": [
    "word_dict_nord = {}\n",
    "for word, ind in zip(word_list, xrange(len(word_list))):\n",
    "    word_dict_nord[word] = ind"
   ]
  },
  {
   "cell_type": "code",
   "execution_count": 26,
   "metadata": {
    "collapsed": false
   },
   "outputs": [
    {
     "data": {
      "text/plain": [
       "{'collegearizona state university': 31154,\n",
       " 'construction intern': 15529,\n",
       " 'electronics and communications': 15265,\n",
       " 'financial services assurance senior associate': 7213,\n",
       " 'outdoors club': 27829,\n",
       " 'product management club': 38574,\n",
       " 'programmer analyst/': 8466,\n",
       " 'software developer intern toronto': 20570,\n",
       " 'ui automation tester': 26243,\n",
       " 'world academy platform': 2236}"
      ]
     },
     "execution_count": 26,
     "metadata": {},
     "output_type": "execute_result"
    }
   ],
   "source": [
    "{k: word_dict_nord[k] for k in word_dict_nord.keys()[:10]}"
   ]
  },
  {
   "cell_type": "code",
   "execution_count": 27,
   "metadata": {
    "collapsed": false
   },
   "outputs": [
    {
     "data": {
      "text/plain": [
       "{'collegearizona state university': 8941,\n",
       " 'construction intern': 10027,\n",
       " 'coo and marketing d epartment': 10296,\n",
       " 'electronics and communications': 14921,\n",
       " 'financial services assurance senior associate': 16917,\n",
       " 'product management club': 35146,\n",
       " 'programmer analyst/': 35443,\n",
       " 'software developer intern toronto': 41435,\n",
       " 'technology university of changsha': 45784,\n",
       " 'ui automation tester': 47400}"
      ]
     },
     "execution_count": 27,
     "metadata": {},
     "output_type": "execute_result"
    }
   ],
   "source": [
    "{k: word_dict_ord[k] for k in word_dict_ord.keys()[:10]}"
   ]
  },
  {
   "cell_type": "code",
   "execution_count": 15,
   "metadata": {
    "collapsed": true
   },
   "outputs": [],
   "source": [
    "df_txt = df.groupby(['id'])['name'].apply(lambda x: ' '.join(x)).reset_index()"
   ]
  },
  {
   "cell_type": "code",
   "execution_count": 16,
   "metadata": {
    "collapsed": false
   },
   "outputs": [
    {
     "data": {
      "text/html": [
       "<div>\n",
       "<table border=\"1\" class=\"dataframe\">\n",
       "  <thead>\n",
       "    <tr style=\"text-align: right;\">\n",
       "      <th></th>\n",
       "      <th>id</th>\n",
       "      <th>name</th>\n",
       "    </tr>\n",
       "  </thead>\n",
       "  <tbody>\n",
       "    <tr>\n",
       "      <th>0</th>\n",
       "      <td>531968</td>\n",
       "      <td>postgres java jquery javascript ios linux tech...</td>\n",
       "    </tr>\n",
       "    <tr>\n",
       "      <th>1</th>\n",
       "      <td>531982</td>\n",
       "      <td>objective-c mysql computer science developer f...</td>\n",
       "    </tr>\n",
       "    <tr>\n",
       "      <th>2</th>\n",
       "      <td>532069</td>\n",
       "      <td>c++ ios stanford university catlin gabel schoo...</td>\n",
       "    </tr>\n",
       "    <tr>\n",
       "      <th>3</th>\n",
       "      <td>532082</td>\n",
       "      <td>php gni</td>\n",
       "    </tr>\n",
       "    <tr>\n",
       "      <th>4</th>\n",
       "      <td>532092</td>\n",
       "      <td>php mysql css python java jquery javascript co...</td>\n",
       "    </tr>\n",
       "  </tbody>\n",
       "</table>\n",
       "</div>"
      ],
      "text/plain": [
       "       id                                               name\n",
       "0  531968  postgres java jquery javascript ios linux tech...\n",
       "1  531982  objective-c mysql computer science developer f...\n",
       "2  532069  c++ ios stanford university catlin gabel schoo...\n",
       "3  532082                                            php gni\n",
       "4  532092  php mysql css python java jquery javascript co..."
      ]
     },
     "execution_count": 16,
     "metadata": {},
     "output_type": "execute_result"
    }
   ],
   "source": [
    "df_txt.head()"
   ]
  },
  {
   "cell_type": "code",
   "execution_count": 17,
   "metadata": {
    "collapsed": false
   },
   "outputs": [],
   "source": [
    "cv = CountVectorizer(vocabulary=word_dict_ord, ngram_range=(1,10))\n",
    "tf = TfidfVectorizer(vocabulary=word_dict_ord, ngram_range=(1,10))"
   ]
  },
  {
   "cell_type": "code",
   "execution_count": 18,
   "metadata": {
    "collapsed": true
   },
   "outputs": [],
   "source": [
    "cvn = CountVectorizer(vocabulary=word_dict_nord, ngram_range=(1,10))\n",
    "tfn = TfidfVectorizer(vocabulary=word_dict_nord, ngram_range=(1,10))"
   ]
  },
  {
   "cell_type": "code",
   "execution_count": 21,
   "metadata": {
    "collapsed": false
   },
   "outputs": [],
   "source": [
    "count = cv.fit_transform(df_txt['name'])\n",
    "tfidf = tf.fit_transform(df_txt['name'])"
   ]
  },
  {
   "cell_type": "code",
   "execution_count": 22,
   "metadata": {
    "collapsed": false
   },
   "outputs": [],
   "source": [
    "countn = cvn.fit_transform(df_txt['name'])\n",
    "tfidfn = tfn.fit_transform(df_txt['name'])"
   ]
  },
  {
   "cell_type": "code",
   "execution_count": 29,
   "metadata": {
    "collapsed": false
   },
   "outputs": [
    {
     "data": {
      "text/plain": [
       "((20234, 52497), (20234, 52497))"
      ]
     },
     "execution_count": 29,
     "metadata": {},
     "output_type": "execute_result"
    }
   ],
   "source": [
    "count.shape, countn.shape"
   ]
  },
  {
   "cell_type": "code",
   "execution_count": 32,
   "metadata": {
    "collapsed": true
   },
   "outputs": [],
   "source": [
    "nmf1 = NMF(n_components=10, random_state=1, alpha=.1, l1_ratio=.5).fit(count)\n",
    "nmf2 = NMF(n_components=10, random_state=1, alpha=.1, l1_ratio=.5).fit(countn)"
   ]
  },
  {
   "cell_type": "code",
   "execution_count": 36,
   "metadata": {
    "collapsed": true
   },
   "outputs": [],
   "source": [
    "def print_top_words(model, feature_names, n_top_words):\n",
    "    for topic_idx, topic in enumerate(model.components_):\n",
    "        print(\"Topic #%d:\" % topic_idx)\n",
    "        print(\", \".join([feature_names[i]\n",
    "                        for i in topic.argsort()[:-n_top_words - 1:-1]]))\n",
    "    print()"
   ]
  },
  {
   "cell_type": "code",
   "execution_count": 37,
   "metadata": {
    "collapsed": false
   },
   "outputs": [
    {
     "name": "stdout",
     "output_type": "stream",
     "text": [
      "\n",
      "Topics in NMF model:\n",
      "Topic #0:\n",
      "university, university of, university of california, matlab, python, university of texas, computer science, java, university of southern, university of southern california\n",
      "Topic #1:\n",
      "engineer, software engineer, senior software, senior software engineer, software development, engineer software, systems, development engineer, principal, consultant\n",
      "Topic #2:\n",
      "sql, sql server, xml, asp, java, javascript, analyst, microsoft sql server, mysql, jsp\n",
      "Topic #3:\n",
      "institute, institute of, institute of technology, indian institute, indian institute of, indian institute of technology, matlab, java, computer science, python\n",
      "Topic #4:\n",
      "developer, software developer, web developer, jquery, javascript, php, web applications, ios, developer intern, team\n",
      "Topic #5:\n",
      "assistant, research assistant, teaching assistant, department, matlab, python, computer science, department of, java, systems\n",
      "Topic #6:\n",
      "windows, linux, system, unix, systems, os, ubuntu, mac os, java, operating system\n",
      "Topic #7:\n",
      "university, state, state university, java, matlab, system, department, stanford, python, data mining\n",
      "Topic #8:\n",
      "intern, school, computer science, python, java, high, software engineering, engineering intern, high school, college\n",
      "Topic #9:\n",
      "javascript, css, android, java, mysql, php, ruby, jquery, python, computer science\n",
      "()\n"
     ]
    }
   ],
   "source": [
    "print(\"\\nTopics in NMF model:\")\n",
    "count_feature_names = cv.get_feature_names()\n",
    "print_top_words(nmf1, count_feature_names, 10)"
   ]
  },
  {
   "cell_type": "code",
   "execution_count": 53,
   "metadata": {
    "collapsed": false
   },
   "outputs": [
    {
     "name": "stdout",
     "output_type": "stream",
     "text": [
      "\n",
      "Topics in NMF model:\n",
      "Topic #0:\n",
      "university, university of, university of california, matlab, python, university of texas, computer science, java, university of southern, university of southern california\n",
      "Topic #1:\n",
      "engineer, software engineer, senior software, senior software engineer, software development, engineer software, systems, development engineer, principal, consultant\n",
      "Topic #2:\n",
      "sql, sql server, xml, asp, java, javascript, analyst, microsoft sql server, mysql, jsp\n",
      "Topic #3:\n",
      "institute, institute of, institute of technology, indian institute, indian institute of, indian institute of technology, matlab, java, computer science, python\n",
      "Topic #4:\n",
      "developer, software developer, web developer, jquery, javascript, php, web applications, ios, developer intern, team\n",
      "Topic #5:\n",
      "assistant, research assistant, teaching assistant, department, matlab, python, computer science, department of, java, systems\n",
      "Topic #6:\n",
      "windows, linux, system, unix, systems, os, ubuntu, mac os, java, operating system\n",
      "Topic #7:\n",
      "university, state, state university, java, matlab, system, department, stanford, python, data mining\n",
      "Topic #8:\n",
      "intern, school, computer science, python, java, high, software engineering, engineering intern, high school, college\n",
      "Topic #9:\n",
      "javascript, css, android, java, mysql, php, ruby, jquery, python, computer science\n",
      "()\n"
     ]
    }
   ],
   "source": [
    "print(\"\\nTopics in NMF model:\")\n",
    "count_feature_names = cvn.get_feature_names()\n",
    "print_top_words(nmf2, count_feature_names, 10)"
   ]
  }
 ],
 "metadata": {
  "kernelspec": {
   "display_name": "Python 2",
   "language": "python",
   "name": "python2"
  },
  "language_info": {
   "codemirror_mode": {
    "name": "ipython",
    "version": 2
   },
   "file_extension": ".py",
   "mimetype": "text/x-python",
   "name": "python",
   "nbconvert_exporter": "python",
   "pygments_lexer": "ipython2",
   "version": "2.7.12"
  }
 },
 "nbformat": 4,
 "nbformat_minor": 0
}

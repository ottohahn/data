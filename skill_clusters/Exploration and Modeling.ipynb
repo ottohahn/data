{
 "cells": [
  {
   "cell_type": "code",
   "execution_count": 1,
   "metadata": {
    "collapsed": true
   },
   "outputs": [],
   "source": [
    "import pandas as pd\n",
    "import numpy as np"
   ]
  },
  {
   "cell_type": "code",
   "execution_count": 16,
   "metadata": {
    "collapsed": true
   },
   "outputs": [],
   "source": [
    "df = pd.read_csv('data/skill_cluster_df.csv', index_col=False)"
   ]
  },
  {
   "cell_type": "code",
   "execution_count": 17,
   "metadata": {
    "collapsed": false
   },
   "outputs": [],
   "source": [
    "df.drop('Unnamed: 0', axis=1, inplace=True)\n",
    "df['name'] = df['name'].apply(lambda x: x.lower())"
   ]
  },
  {
   "cell_type": "code",
   "execution_count": 18,
   "metadata": {
    "collapsed": false
   },
   "outputs": [
    {
     "data": {
      "text/html": [
       "<div>\n",
       "<table border=\"1\" class=\"dataframe\">\n",
       "  <thead>\n",
       "    <tr style=\"text-align: right;\">\n",
       "      <th></th>\n",
       "      <th>id</th>\n",
       "      <th>roles</th>\n",
       "      <th>trend_id</th>\n",
       "      <th>name</th>\n",
       "      <th>kind</th>\n",
       "    </tr>\n",
       "  </thead>\n",
       "  <tbody>\n",
       "    <tr>\n",
       "      <th>0</th>\n",
       "      <td>550246</td>\n",
       "      <td>['engineering']</td>\n",
       "      <td>81</td>\n",
       "      <td>iis</td>\n",
       "      <td>Software systems</td>\n",
       "    </tr>\n",
       "    <tr>\n",
       "      <th>1</th>\n",
       "      <td>550246</td>\n",
       "      <td>['engineering']</td>\n",
       "      <td>134814</td>\n",
       "      <td>c #sh%</td>\n",
       "      <td>Software systems</td>\n",
       "    </tr>\n",
       "    <tr>\n",
       "      <th>2</th>\n",
       "      <td>550246</td>\n",
       "      <td>['engineering']</td>\n",
       "      <td>41</td>\n",
       "      <td>matlab</td>\n",
       "      <td>Software systems</td>\n",
       "    </tr>\n",
       "    <tr>\n",
       "      <th>3</th>\n",
       "      <td>550246</td>\n",
       "      <td>['engineering']</td>\n",
       "      <td>323</td>\n",
       "      <td>jquery</td>\n",
       "      <td>Software systems</td>\n",
       "    </tr>\n",
       "    <tr>\n",
       "      <th>4</th>\n",
       "      <td>550246</td>\n",
       "      <td>['engineering']</td>\n",
       "      <td>35</td>\n",
       "      <td>javascript</td>\n",
       "      <td>Software systems</td>\n",
       "    </tr>\n",
       "  </tbody>\n",
       "</table>\n",
       "</div>"
      ],
      "text/plain": [
       "       id            roles  trend_id        name              kind\n",
       "0  550246  ['engineering']        81         iis  Software systems\n",
       "1  550246  ['engineering']    134814      c #sh%  Software systems\n",
       "2  550246  ['engineering']        41      matlab  Software systems\n",
       "3  550246  ['engineering']       323      jquery  Software systems\n",
       "4  550246  ['engineering']        35  javascript  Software systems"
      ]
     },
     "execution_count": 18,
     "metadata": {},
     "output_type": "execute_result"
    }
   ],
   "source": [
    "df.head()"
   ]
  },
  {
   "cell_type": "code",
   "execution_count": 21,
   "metadata": {
    "collapsed": true
   },
   "outputs": [],
   "source": [
    "df_txt = df.groupby(['id'])['name'].apply(lambda x: ', '.join(x)).reset_index()"
   ]
  }
 ],
 "metadata": {
  "kernelspec": {
   "display_name": "Python 2",
   "language": "python",
   "name": "python2"
  },
  "language_info": {
   "codemirror_mode": {
    "name": "ipython",
    "version": 2
   },
   "file_extension": ".py",
   "mimetype": "text/x-python",
   "name": "python",
   "nbconvert_exporter": "python",
   "pygments_lexer": "ipython2",
   "version": "2.7.12"
  }
 },
 "nbformat": 4,
 "nbformat_minor": 0
}

{
 "cells": [
  {
   "cell_type": "code",
   "execution_count": 1,
   "metadata": {
    "collapsed": false
   },
   "outputs": [],
   "source": [
    "import pandas as pd\n",
    "import numpy as np\n",
    "from sklearn.feature_extraction.text import CountVectorizer, TfidfVectorizer\n",
    "from sklearn.decomposition import NMF, LatentDirichletAllocation"
   ]
  },
  {
   "cell_type": "code",
   "execution_count": 2,
   "metadata": {
    "collapsed": true
   },
   "outputs": [],
   "source": [
    "df = pd.read_csv('data/skill_cluster_df.csv', index_col=False)"
   ]
  },
  {
   "cell_type": "code",
   "execution_count": 3,
   "metadata": {
    "collapsed": false
   },
   "outputs": [],
   "source": [
    "df.drop('Unnamed: 0', axis=1, inplace=True)\n",
    "df['name'] = df['name'].apply(lambda x: x.lower())"
   ]
  },
  {
   "cell_type": "code",
   "execution_count": 4,
   "metadata": {
    "collapsed": false
   },
   "outputs": [
    {
     "data": {
      "text/html": [
       "<div>\n",
       "<table border=\"1\" class=\"dataframe\">\n",
       "  <thead>\n",
       "    <tr style=\"text-align: right;\">\n",
       "      <th></th>\n",
       "      <th>id</th>\n",
       "      <th>roles</th>\n",
       "      <th>trend_id</th>\n",
       "      <th>name</th>\n",
       "      <th>kind</th>\n",
       "    </tr>\n",
       "  </thead>\n",
       "  <tbody>\n",
       "    <tr>\n",
       "      <th>0</th>\n",
       "      <td>550246</td>\n",
       "      <td>['engineering']</td>\n",
       "      <td>81</td>\n",
       "      <td>iis</td>\n",
       "      <td>Software systems</td>\n",
       "    </tr>\n",
       "    <tr>\n",
       "      <th>1</th>\n",
       "      <td>550246</td>\n",
       "      <td>['engineering']</td>\n",
       "      <td>134814</td>\n",
       "      <td>c #sh%</td>\n",
       "      <td>Software systems</td>\n",
       "    </tr>\n",
       "    <tr>\n",
       "      <th>2</th>\n",
       "      <td>550246</td>\n",
       "      <td>['engineering']</td>\n",
       "      <td>41</td>\n",
       "      <td>matlab</td>\n",
       "      <td>Software systems</td>\n",
       "    </tr>\n",
       "    <tr>\n",
       "      <th>3</th>\n",
       "      <td>550246</td>\n",
       "      <td>['engineering']</td>\n",
       "      <td>323</td>\n",
       "      <td>jquery</td>\n",
       "      <td>Software systems</td>\n",
       "    </tr>\n",
       "    <tr>\n",
       "      <th>4</th>\n",
       "      <td>550246</td>\n",
       "      <td>['engineering']</td>\n",
       "      <td>35</td>\n",
       "      <td>javascript</td>\n",
       "      <td>Software systems</td>\n",
       "    </tr>\n",
       "  </tbody>\n",
       "</table>\n",
       "</div>"
      ],
      "text/plain": [
       "       id            roles  trend_id        name              kind\n",
       "0  550246  ['engineering']        81         iis  Software systems\n",
       "1  550246  ['engineering']    134814      c #sh%  Software systems\n",
       "2  550246  ['engineering']        41      matlab  Software systems\n",
       "3  550246  ['engineering']       323      jquery  Software systems\n",
       "4  550246  ['engineering']        35  javascript  Software systems"
      ]
     },
     "execution_count": 4,
     "metadata": {},
     "output_type": "execute_result"
    }
   ],
   "source": [
    "df.head()"
   ]
  },
  {
   "cell_type": "code",
   "execution_count": 5,
   "metadata": {
    "collapsed": true
   },
   "outputs": [],
   "source": [
    "word_list = df['name'].unique()"
   ]
  },
  {
   "cell_type": "code",
   "execution_count": 6,
   "metadata": {
    "collapsed": false
   },
   "outputs": [
    {
     "data": {
      "text/plain": [
       "array(['iis', 'c #sh%', 'matlab', 'jquery', 'javascript', 'php', 'python',\n",
       "       'unix', 'assistant', 'java'], dtype=object)"
      ]
     },
     "execution_count": 6,
     "metadata": {},
     "output_type": "execute_result"
    }
   ],
   "source": [
    "word_list[:10]"
   ]
  },
  {
   "cell_type": "code",
   "execution_count": 7,
   "metadata": {
    "collapsed": false
   },
   "outputs": [],
   "source": [
    "word_len = []\n",
    "for word in word_list:\n",
    "    word_len.append(len(word.split()))"
   ]
  },
  {
   "cell_type": "code",
   "execution_count": 8,
   "metadata": {
    "collapsed": false
   },
   "outputs": [
    {
     "data": {
      "text/plain": [
       "28"
      ]
     },
     "execution_count": 8,
     "metadata": {},
     "output_type": "execute_result"
    }
   ],
   "source": [
    "max(word_len)"
   ]
  },
  {
   "cell_type": "code",
   "execution_count": 9,
   "metadata": {
    "collapsed": false
   },
   "outputs": [],
   "source": [
    "word_dict_cnt = {}\n",
    "for word in df['name']:\n",
    "    if word in word_dict_cnt:\n",
    "        word_dict_cnt[word] = word_dict_cnt[word] + 1\n",
    "    else:\n",
    "        word_dict_cnt[word] = 1"
   ]
  },
  {
   "cell_type": "code",
   "execution_count": 10,
   "metadata": {
    "collapsed": false
   },
   "outputs": [],
   "source": [
    "# sorted(word_dict_cnt.items(), key=lambda x: x[1], reverse=True)[:10]"
   ]
  },
  {
   "cell_type": "code",
   "execution_count": 12,
   "metadata": {
    "collapsed": false
   },
   "outputs": [],
   "source": [
    "word_dict_ord = {}\n",
    "for word, ind in zip(sorted(word_list), xrange(len(word_list))):\n",
    "    word_dict_ord[word] = ind"
   ]
  },
  {
   "cell_type": "code",
   "execution_count": 13,
   "metadata": {
    "collapsed": false
   },
   "outputs": [
    {
     "data": {
      "text/plain": [
       "{'collegearizona state university': 8941,\n",
       " 'construction intern': 10027,\n",
       " 'coo and marketing d epartment': 10296,\n",
       " 'electronics and communications': 14921,\n",
       " 'financial services assurance senior associate': 16917,\n",
       " 'product management club': 35146,\n",
       " 'programmer analyst/': 35443,\n",
       " 'software developer intern toronto': 41435,\n",
       " 'technology university of changsha': 45784,\n",
       " 'ui automation tester': 47400}"
      ]
     },
     "execution_count": 13,
     "metadata": {},
     "output_type": "execute_result"
    }
   ],
   "source": [
    "{k: word_dict_ord[k] for k in word_dict_ord.keys()[:10]}"
   ]
  },
  {
   "cell_type": "code",
   "execution_count": 14,
   "metadata": {
    "collapsed": true
   },
   "outputs": [],
   "source": [
    "df_txt = df.groupby(['id'])['name'].apply(lambda x: ' '.join(x)).reset_index()"
   ]
  },
  {
   "cell_type": "code",
   "execution_count": 15,
   "metadata": {
    "collapsed": false
   },
   "outputs": [
    {
     "data": {
      "text/html": [
       "<div>\n",
       "<table border=\"1\" class=\"dataframe\">\n",
       "  <thead>\n",
       "    <tr style=\"text-align: right;\">\n",
       "      <th></th>\n",
       "      <th>id</th>\n",
       "      <th>name</th>\n",
       "    </tr>\n",
       "  </thead>\n",
       "  <tbody>\n",
       "    <tr>\n",
       "      <th>0</th>\n",
       "      <td>531968</td>\n",
       "      <td>postgres java jquery javascript ios linux tech...</td>\n",
       "    </tr>\n",
       "    <tr>\n",
       "      <th>1</th>\n",
       "      <td>531982</td>\n",
       "      <td>objective-c mysql computer science developer f...</td>\n",
       "    </tr>\n",
       "    <tr>\n",
       "      <th>2</th>\n",
       "      <td>532069</td>\n",
       "      <td>c++ ios stanford university catlin gabel schoo...</td>\n",
       "    </tr>\n",
       "    <tr>\n",
       "      <th>3</th>\n",
       "      <td>532082</td>\n",
       "      <td>php gni</td>\n",
       "    </tr>\n",
       "    <tr>\n",
       "      <th>4</th>\n",
       "      <td>532092</td>\n",
       "      <td>php mysql css python java jquery javascript co...</td>\n",
       "    </tr>\n",
       "  </tbody>\n",
       "</table>\n",
       "</div>"
      ],
      "text/plain": [
       "       id                                               name\n",
       "0  531968  postgres java jquery javascript ios linux tech...\n",
       "1  531982  objective-c mysql computer science developer f...\n",
       "2  532069  c++ ios stanford university catlin gabel schoo...\n",
       "3  532082                                            php gni\n",
       "4  532092  php mysql css python java jquery javascript co..."
      ]
     },
     "execution_count": 15,
     "metadata": {},
     "output_type": "execute_result"
    }
   ],
   "source": [
    "df_txt.head()"
   ]
  },
  {
   "cell_type": "code",
   "execution_count": 16,
   "metadata": {
    "collapsed": false
   },
   "outputs": [],
   "source": [
    "cv = CountVectorizer(vocabulary=word_dict_ord, ngram_range=(1,10))\n",
    "tf = TfidfVectorizer(vocabulary=word_dict_ord, ngram_range=(1,10))"
   ]
  },
  {
   "cell_type": "code",
   "execution_count": 17,
   "metadata": {
    "collapsed": false
   },
   "outputs": [],
   "source": [
    "count = cv.fit_transform(df_txt['name'])\n",
    "tfidf = tf.fit_transform(df_txt['name'])"
   ]
  },
  {
   "cell_type": "code",
   "execution_count": 19,
   "metadata": {
    "collapsed": false
   },
   "outputs": [
    {
     "data": {
      "text/plain": [
       "((20234, 52497), (20234, 52497))"
      ]
     },
     "execution_count": 19,
     "metadata": {},
     "output_type": "execute_result"
    }
   ],
   "source": [
    "count.shape, tfidf.shape"
   ]
  },
  {
   "cell_type": "code",
   "execution_count": 28,
   "metadata": {
    "collapsed": true
   },
   "outputs": [],
   "source": [
    "nmf_cv = NMF(n_components=15, random_state=1, alpha=.1, l1_ratio=.5).fit(count)\n",
    "nmf_tf = NMF(n_components=15, random_state=1, alpha=.1, l1_ratio=.5).fit(tfidf)"
   ]
  },
  {
   "cell_type": "code",
   "execution_count": 34,
   "metadata": {
    "collapsed": false
   },
   "outputs": [],
   "source": [
    "lda_cv = LatentDirichletAllocation(n_topics=15, max_iter=5,\n",
    "                                learning_method='online', learning_offset=50.,\n",
    "                                random_state=0).fit(count)\n",
    "lda_tf = LatentDirichletAllocation(n_topics=15, max_iter=5,\n",
    "                                learning_method='online', learning_offset=50.,\n",
    "                                random_state=0).fit(tfidf)"
   ]
  },
  {
   "cell_type": "code",
   "execution_count": 29,
   "metadata": {
    "collapsed": true
   },
   "outputs": [],
   "source": [
    "def print_top_words(model, feature_names, n_top_words):\n",
    "    for topic_idx, topic in enumerate(model.components_):\n",
    "        print(\"Topic #%d:\" % topic_idx)\n",
    "        print(\", \".join([feature_names[i]\n",
    "                        for i in topic.argsort()[:-n_top_words - 1:-1]]))\n",
    "        print \"\\n\""
   ]
  },
  {
   "cell_type": "code",
   "execution_count": 31,
   "metadata": {
    "collapsed": false
   },
   "outputs": [
    {
     "name": "stdout",
     "output_type": "stream",
     "text": [
      "\n",
      "Topics in NMF model using count vectorizer:\n",
      "Topic #0:\n",
      "university, matlab, python, java, stanford, mellon, mellon university, carnegie mellon university, department, stanford university\n",
      "\n",
      "\n",
      "Topic #1:\n",
      "engineer, software engineer, senior software, senior software engineer, software development, engineer software, systems, development engineer, principal, consultant\n",
      "\n",
      "\n",
      "Topic #2:\n",
      "developer, software developer, web developer, ios, web applications, developer intern, team, jquery, lead developer, php\n",
      "\n",
      "\n",
      "Topic #3:\n",
      "ruby, rails, ruby on rails, javascript, css, jquery, postgresql, python, ios, founder\n",
      "\n",
      "\n",
      "Topic #4:\n",
      "assistant, research assistant, teaching assistant, department, matlab, computer science, python, department of, java, ieee\n",
      "\n",
      "\n",
      "Topic #5:\n",
      "sql, sql server, asp, xml, analyst, microsoft sql server, java, ms sql server, web services, data mining\n",
      "\n",
      "\n",
      "Topic #6:\n",
      "institute, institute of, institute of technology, indian institute, indian institute of, indian institute of technology, matlab, python, computer science, georgia institute\n",
      "\n",
      "\n",
      "Topic #7:\n",
      "windows, linux, os, mac os, xp, ubuntu, unix, windows xp, windows server, windows phone\n",
      "\n",
      "\n",
      "Topic #8:\n",
      "android, java, sdk, ios, android sdk, xml, sqlite, mobile application, computer science, android software\n",
      "\n",
      "\n",
      "Topic #9:\n",
      "state, state university, university, jose state university, san jose state, san jose state university, college, web services, state university of new, university of new york\n",
      "\n",
      "\n",
      "Topic #10:\n",
      "system, systems, linux, operating system, unix, java, management system, python, administrator, data structures\n",
      "\n",
      "\n",
      "Topic #11:\n",
      "javascript, css, mysql, php, java, jquery, python, computer science, xml, linux\n",
      "\n",
      "\n",
      "Topic #12:\n",
      "school, high, high school, school of, college, computer science, school of engineering, department, python, java\n",
      "\n",
      "\n",
      "Topic #13:\n",
      "intern, computer science, python, java, software engineering, engineering intern, software engineering intern, engineer intern, data structures, software development\n",
      "\n",
      "\n",
      "Topic #14:\n",
      "university of, university, university of california, matlab, university of texas, python, computer science, university of southern, university of southern california, university of technology\n",
      "\n",
      "\n"
     ]
    }
   ],
   "source": [
    "print(\"\\nTopics in NMF model using count vectorizer:\")\n",
    "count_feature_names = cv.get_feature_names()\n",
    "print_top_words(nmf_cv, count_feature_names, 10)"
   ]
  },
  {
   "cell_type": "code",
   "execution_count": 35,
   "metadata": {
    "collapsed": false
   },
   "outputs": [
    {
     "name": "stdout",
     "output_type": "stream",
     "text": [
      "\n",
      "Topics in NMF model using tfidf:\n",
      "Topic #0:\n",
      "jquery, css, javascript, mysql, php, postgresql, sql, photoshop, xml, jsp\n",
      "\n",
      "\n",
      "Topic #1:\n",
      "engineer, software engineer, senior software, senior software engineer, engineer software, software development, development engineer, principal, software development engineer, engineer intern\n",
      "\n",
      "\n",
      "Topic #2:\n",
      "ruby, rails, ruby on rails, postgresql, javascript, sql, css, jquery, founder, web applications\n",
      "\n",
      "\n",
      "Topic #3:\n",
      "university of, university, intern, university of california, software engineering, engineering intern, computer science, software engineering intern, data structures, engineer intern\n",
      "\n",
      "\n",
      "Topic #4:\n",
      "developer, software developer, web developer, developer intern, software developer intern, web applications, ios, php, lead developer, intern\n",
      "\n",
      "\n",
      "Topic #5:\n",
      "sql server, sql, asp, microsoft sql server, xml, ms sql server, analyst, university, web services, jsp\n",
      "\n",
      "\n",
      "Topic #6:\n",
      "institute of, institute, institute of technology, indian institute, indian institute of, indian institute of technology, georgia institute, georgia institute of, georgia institute of technology, national institute\n",
      "\n",
      "\n",
      "Topic #7:\n",
      "system, operating system, management system, university, database management system, data structure, system software, unix, linux, bachelor of engineering\n",
      "\n",
      "\n",
      "Topic #8:\n",
      "state, state university, jose state university, san jose state, san jose state university, university, state university of new, state university of new york, university of new york, web services\n",
      "\n",
      "\n",
      "Topic #9:\n",
      "python, java, matlab, unix, javascript, mysql, linux, sql, php, perl\n",
      "\n",
      "\n",
      "Topic #10:\n",
      "ec2, amazon ec2, web services, cloud computing, mysql, s3, amazon s3, apis, postgresql, systems\n",
      "\n",
      "\n",
      "Topic #11:\n",
      "windows, linux, os, mac os, ubuntu, unix, systems, xp, windows xp, administrator\n",
      "\n",
      "\n",
      "Topic #12:\n",
      "android, ios, sdk, android sdk, sqlite, java, xml, mobile application, android software, android java\n",
      "\n",
      "\n",
      "Topic #13:\n",
      "school, high, high school, school of, school of engineering, college, university, computer science, mellon, mellon university\n",
      "\n",
      "\n",
      "Topic #14:\n",
      "assistant, research assistant, teaching assistant, university, department, department of, matlab, assistant computer science, computer science, graduate teaching assistant\n",
      "\n",
      "\n"
     ]
    }
   ],
   "source": [
    "print(\"\\nTopics in NMF model using tfidf:\")\n",
    "tfidf_feature_names = tf.get_feature_names()\n",
    "print_top_words(nmf_tf, tfidf_feature_names, 10)"
   ]
  },
  {
   "cell_type": "code",
   "execution_count": 36,
   "metadata": {
    "collapsed": false
   },
   "outputs": [
    {
     "name": "stdout",
     "output_type": "stream",
     "text": [
      "\n",
      "Topics in LDA model using count vectorizer:\n",
      "Topic #0:\n",
      "university of hawaii, epa, integrated system, clark university, domain controller, national competition, constant contact, service management, foreman, central michigan university\n",
      "\n",
      "\n",
      "Topic #1:\n",
      "public school, public, university of management, consultant developer, mca, master of computer applications, major league, independent consultant, maharishi university, maharishi university of\n",
      "\n",
      "\n",
      "Topic #2:\n",
      "harvard, school, high, harvard university, high school, college, national merit, corps, network engineer, ocaml\n",
      "\n",
      "\n",
      "Topic #3:\n",
      "indian institute, indian institute of, indian institute of technology, cornell, cornell university, fudan, pennsylvania state, pennsylvania state university, fudan university, state college\n",
      "\n",
      "\n",
      "Topic #4:\n",
      "berkeley, university of california, uc, alpha, softwaredeveloper, illinois institute, illinois institute of technology, intern university, engineering intern university of california, university of california berkeley\n",
      "\n",
      "\n",
      "Topic #5:\n",
      "director, board, york university, new york university, education, carleton, university new york, army, carleton college, syracuse university\n",
      "\n",
      "\n",
      "Topic #6:\n",
      "assistant, school, university, department, department of, research assistant, institute, matlab, school of, mellon\n",
      "\n",
      "\n",
      "Topic #7:\n",
      "university, engineer, java, developer, sql, javascript, university of, python, intern, software engineer\n",
      "\n",
      "\n",
      "Topic #8:\n",
      "mit, kansas, ucsb, product engineer, decision support system, university of kansas, ncaa, uml, kansas state, kansas state university\n",
      "\n",
      "\n",
      "Topic #9:\n",
      "institute of, institute, institute of technology, rochester institute, rochester institute of, rochester institute of technology, engineering and technology, institute of engineering, rit, college of engineering and technology\n",
      "\n",
      "\n",
      "Topic #10:\n",
      "boston, duke, duke university, princeton, boston university, princeton university, tong university, jiao tong university, shanghai jiao tong university, teachingassistant\n",
      "\n",
      "\n",
      "Topic #11:\n",
      "ohio state, ohio state university, state, state university, content manager, osu, base programmer, computer science engineer, university columbus, thomas jefferson high school\n",
      "\n",
      "\n",
      "Topic #12:\n",
      "graduate school of business, city university of new, city university of new york, university of north texas, center operations, baylor, engineering team lead, shanghai university of finance, po, global network\n",
      "\n",
      "\n",
      "Topic #13:\n",
      "computerscience, softwareengineer, lead software engineer, datastructures, softwaredevelopment, objectoriented, webservices, cloudcomputing, userinterface, sqlserver\n",
      "\n",
      "\n",
      "Topic #14:\n",
      "foundation, national science, science foundation, national science foundation, president, reserve, aa, science club, national laboratory, executive\n",
      "\n",
      "\n"
     ]
    }
   ],
   "source": [
    "print(\"\\nTopics in LDA model using count vectorizer:\")\n",
    "cv_feature_names = cv.get_feature_names()\n",
    "print_top_words(lda_cv, cv_feature_names, 10)"
   ]
  },
  {
   "cell_type": "code",
   "execution_count": 37,
   "metadata": {
    "collapsed": false
   },
   "outputs": [
    {
     "name": "stdout",
     "output_type": "stream",
     "text": [
      "\n",
      "Topics in LDA model using count vectorizer:\n",
      "Topic #0:\n",
      "harvard, university of electronic science, university of electronic, national olympiad, college of computer and information science, harvard university, university of electronic science and technology, electronic science and technology of china, cal poly, university of electronic science and technology of china\n",
      "\n",
      "\n",
      "Topic #1:\n",
      "vit university, bilkent university, american express, minnesota state university, technical design authority, sous chef, information engineering university, dca, senior systems architect, brain sciences\n",
      "\n",
      "\n",
      "Topic #2:\n",
      "colgate university, international science, university of adelaide, indian student organization, security agency, international academy, ms office word, pi honor society, car buyers, national security agency\n",
      "\n",
      "\n",
      "Topic #3:\n",
      "servlets, artificial neural network, crude oil, mutual fund, university of quebec, mma, peace corps, unix os, bank customers, regional contest\n",
      "\n",
      "\n",
      "Topic #4:\n",
      "senior statistical scientist, senior technical associate, advanced programming, integratedcircuit, resources management university of mindanao, university of mindanao bolton, elecrical, election day, unix server, ministry of information technology\n",
      "\n",
      "\n",
      "Topic #5:\n",
      "college of engineering and computer science, smith college of engineering, smith college of engineering and computer science, ipaddresses, siddhartha engineering college, bachelorofcomputerscience, superintendent, education board, financial operations, vmp\n",
      "\n",
      "\n",
      "Topic #6:\n",
      "portable devices, base class, johns hopkins university applied physics laboratory, laude society, engineering trainee, rov, university of jordan, human resources management system, juris doctor, cum laude society\n",
      "\n",
      "\n",
      "Topic #7:\n",
      "university, engineer, developer, java, sql, javascript, software engineer, python, assistant, university of\n",
      "\n",
      "\n",
      "Topic #8:\n",
      "university of chicago chicago, technology advisor, civil rights, department of finance, singapore armed, gni, singapore armed forces, contract management, university of international business and economics, center for talented youth\n",
      "\n",
      "\n",
      "Topic #9:\n",
      "norfolk state university, voorhees college, experience program intern, technology lab assistant, national nuclear security administration, southeast university, national chemistry olympiad, technical staff software engineer, high performance systems, chemistry olympiad\n",
      "\n",
      "\n",
      "Topic #10:\n",
      "minecraft, deans office, data software engineer, bhoomaraddi college of engineering and technology, oberlin college, leadership skills, operating systems and systems programming, cctv, tech analyst, national institute of technology durgapur\n",
      "\n",
      "\n",
      "Topic #11:\n",
      "piper, aip, source code control system, abbey, coursera rice university, la sorbonne, systems engineering team, animal health, french institute, department of sociology\n",
      "\n",
      "\n",
      "Topic #12:\n",
      "ned university of engineering and technology, ncs, la verdad christian college, ognl, bulletin board, university record system, assistant teacher, zee institute of creative art, the north university of china, recreation stevens institute of technology\n",
      "\n",
      "\n",
      "Topic #13:\n",
      "act, mac address, searchqueries, developmentengineer, ecos, americans with disabilities act, brainfuck, wirelesstechnologies, anita borg institute grace, software developmentengineer\n",
      "\n",
      "\n",
      "Topic #14:\n",
      "swarthmore, chi fraternity, swarthmore college, program analyst, bowdoin, development team building, vice president of operations, applied research engineer, component object model, bowdoin college\n",
      "\n",
      "\n"
     ]
    }
   ],
   "source": [
    "print(\"\\nTopics in LDA model using count vectorizer:\")\n",
    "tf_feature_names = tf.get_feature_names()\n",
    "print_top_words(lda_tf, tf_feature_names, 10)"
   ]
  }
 ],
 "metadata": {
  "kernelspec": {
   "display_name": "Python 2",
   "language": "python",
   "name": "python2"
  },
  "language_info": {
   "codemirror_mode": {
    "name": "ipython",
    "version": 2
   },
   "file_extension": ".py",
   "mimetype": "text/x-python",
   "name": "python",
   "nbconvert_exporter": "python",
   "pygments_lexer": "ipython2",
   "version": "2.7.12"
  }
 },
 "nbformat": 4,
 "nbformat_minor": 0
}

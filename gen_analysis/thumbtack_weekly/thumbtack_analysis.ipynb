{
 "cells": [
  {
   "cell_type": "markdown",
   "metadata": {},
   "source": [
    "### Thumbtack Weekly Analysis - 8/3/16\n",
    "Run the following report to get an idea of what kind of use Thumbtack is getting from Atipica."
   ]
  },
  {
   "cell_type": "code",
   "execution_count": 1,
   "metadata": {
    "collapsed": true
   },
   "outputs": [],
   "source": [
    "import datetime\n",
    "import psycopg2\n",
    "import pandas as pd\n",
    "import numpy as np\n",
    "import matplotlib.pyplot as plt\n",
    "%matplotlib inline"
   ]
  },
  {
   "cell_type": "code",
   "execution_count": 2,
   "metadata": {
    "collapsed": true
   },
   "outputs": [],
   "source": [
    "f = open('postgres.txt', 'r')\n",
    "dct = {}\n",
    "keys = ['database', 'user', 'password', 'host', 'port']\n",
    "for key, line in zip(keys, f.readlines()):\n",
    "    dct[key] = line.strip()"
   ]
  },
  {
   "cell_type": "code",
   "execution_count": 3,
   "metadata": {
    "collapsed": false
   },
   "outputs": [],
   "source": [
    "def load_sql(query):\n",
    "    conn = psycopg2.connect(database=dct['database'], user=dct['user'],\n",
    "                            password=dct['password'], host=dct['host'],\n",
    "                            port=dct['port'])\n",
    "    df = pd.read_sql_query(query, conn)\n",
    "    conn.close()\n",
    "    return df"
   ]
  },
  {
   "cell_type": "markdown",
   "metadata": {},
   "source": [
    "### SQL queries to get Thumbtack data from Postgres DB"
   ]
  },
  {
   "cell_type": "code",
   "execution_count": 4,
   "metadata": {
    "collapsed": true
   },
   "outputs": [],
   "source": [
    "query_ct = \"\"\"\n",
    "DROP TABLE IF EXISTS signals;\n",
    "CREATE TEMP TABLE signals as \n",
    "(SELECT \n",
    "\tp.id,\n",
    "\tp.title, \n",
    "\tcount(pi.trend_id) as signals\n",
    "FROM positions p\n",
    "INNER JOIN position_inputs pi\n",
    "ON p.id = pi.position_id\n",
    "WHERE p.company_id = 8\n",
    "GROUP BY 1)\n",
    ";\n",
    "\n",
    "SELECT \n",
    "\tp.title, \n",
    "\tcount(l.id) as leads,\n",
    "\tsum(case when l.is_match = True then 1 else 0 end) as matches,\n",
    "\tsum(case when a.roles @> ARRAY['diverse'] then 1 else 0 end) as diverse,\n",
    "    s.signals\n",
    "FROM positions p\n",
    "INNER JOIN leads l\n",
    "ON p.id = l.position_id\n",
    "INNER JOIN applicants a\n",
    "ON a.id = l.applicant_id\n",
    "INNER JOIN signals s\n",
    "ON p.id = s.id\n",
    "WHERE p.company_id = 8\n",
    "GROUP BY 5,1\n",
    ";\n",
    "\"\"\""
   ]
  },
  {
   "cell_type": "code",
   "execution_count": 5,
   "metadata": {
    "collapsed": false
   },
   "outputs": [],
   "source": [
    "query_le = \"\"\"\n",
    "SELECT \n",
    "\tld.title, round(ld.diverse / ld.leads, 3) as per_leads_div\n",
    "FROM\n",
    "\t(SELECT \n",
    "\t\tp.title as title,\n",
    "\t\tcount(l.id)*1.0 as leads,\n",
    "\t\tsum(case when a.roles @> ARRAY['diverse'] then 1 else 0 end)*1.0 as diverse\n",
    "\tFROM positions p\n",
    "\tINNER JOIN leads l\n",
    "\tON p.id = l.position_id\n",
    "\tINNER JOIN applicants a\n",
    "\tON a.id = l.applicant_id\n",
    "\tWHERE p.company_id = 8\n",
    "\tGROUP BY 1) as ld\n",
    ";\n",
    "\"\"\""
   ]
  },
  {
   "cell_type": "code",
   "execution_count": 6,
   "metadata": {
    "collapsed": true
   },
   "outputs": [],
   "source": [
    "query_ma = \"\"\"\n",
    "SELECT \n",
    "\tld.title, round(ld.diverse / ld.matches, 3) as per_match_div\n",
    "FROM\n",
    "\t(SELECT \n",
    "\t\tp.title as title,\n",
    "\t\tsum(case when l.is_match = True then 1 end) as matches,\n",
    "\t\tsum(case when l.is_match = True\n",
    "\t\t    AND a.roles @> ARRAY['diverse'] then 1 end)*1.0 as diverse\n",
    "\tFROM positions p\n",
    "\tINNER JOIN leads l\n",
    "\tON p.id = l.position_id\n",
    "\tINNER JOIN applicants a\n",
    "\tON a.id = l.applicant_id\n",
    "\tWHERE p.company_id = 8\n",
    "\tGROUP BY 1) as ld\n",
    ";\n",
    "\"\"\""
   ]
  },
  {
   "cell_type": "markdown",
   "metadata": {},
   "source": [
    "### Load and format the data in python"
   ]
  },
  {
   "cell_type": "code",
   "execution_count": 7,
   "metadata": {
    "collapsed": true
   },
   "outputs": [],
   "source": [
    "df_ct = load_sql(query_ct)\n",
    "df_le = load_sql(query_le)\n",
    "df_ma = load_sql(query_ma)"
   ]
  },
  {
   "cell_type": "code",
   "execution_count": 8,
   "metadata": {
    "collapsed": false
   },
   "outputs": [],
   "source": [
    "df_ct = df_ct.sort_values(by='title').reset_index(drop=True)\n",
    "df_le = df_le.sort_values(by='title').reset_index(drop=True)\n",
    "df_ma = df_ma.sort_values(by='title').fillna(0).reset_index(drop=True)"
   ]
  },
  {
   "cell_type": "code",
   "execution_count": 9,
   "metadata": {
    "collapsed": false
   },
   "outputs": [
    {
     "data": {
      "text/html": [
       "<div>\n",
       "<table border=\"1\" class=\"dataframe\">\n",
       "  <thead>\n",
       "    <tr style=\"text-align: right;\">\n",
       "      <th></th>\n",
       "      <th>title</th>\n",
       "      <th>leads</th>\n",
       "      <th>matches</th>\n",
       "      <th>diverse</th>\n",
       "      <th>signals</th>\n",
       "    </tr>\n",
       "  </thead>\n",
       "  <tbody>\n",
       "    <tr>\n",
       "      <th>0</th>\n",
       "      <td>Android Engineer</td>\n",
       "      <td>4872</td>\n",
       "      <td>0</td>\n",
       "      <td>1163</td>\n",
       "      <td>4</td>\n",
       "    </tr>\n",
       "    <tr>\n",
       "      <th>1</th>\n",
       "      <td>Data Scientist</td>\n",
       "      <td>156</td>\n",
       "      <td>0</td>\n",
       "      <td>27</td>\n",
       "      <td>5</td>\n",
       "    </tr>\n",
       "    <tr>\n",
       "      <th>2</th>\n",
       "      <td>Director of IT</td>\n",
       "      <td>67</td>\n",
       "      <td>0</td>\n",
       "      <td>12</td>\n",
       "      <td>6</td>\n",
       "    </tr>\n",
       "    <tr>\n",
       "      <th>3</th>\n",
       "      <td>Engineering Director</td>\n",
       "      <td>315</td>\n",
       "      <td>0</td>\n",
       "      <td>24</td>\n",
       "      <td>5</td>\n",
       "    </tr>\n",
       "    <tr>\n",
       "      <th>4</th>\n",
       "      <td>Front End Engineer</td>\n",
       "      <td>2720</td>\n",
       "      <td>0</td>\n",
       "      <td>645</td>\n",
       "      <td>5</td>\n",
       "    </tr>\n",
       "    <tr>\n",
       "      <th>5</th>\n",
       "      <td>Head of Data Science</td>\n",
       "      <td>343</td>\n",
       "      <td>0</td>\n",
       "      <td>64</td>\n",
       "      <td>5</td>\n",
       "    </tr>\n",
       "    <tr>\n",
       "      <th>6</th>\n",
       "      <td>Security Engineer</td>\n",
       "      <td>80</td>\n",
       "      <td>0</td>\n",
       "      <td>10</td>\n",
       "      <td>6</td>\n",
       "    </tr>\n",
       "    <tr>\n",
       "      <th>7</th>\n",
       "      <td>Site Reliability Engineer</td>\n",
       "      <td>18</td>\n",
       "      <td>0</td>\n",
       "      <td>4</td>\n",
       "      <td>7</td>\n",
       "    </tr>\n",
       "    <tr>\n",
       "      <th>8</th>\n",
       "      <td>Software Engineer</td>\n",
       "      <td>4220</td>\n",
       "      <td>3</td>\n",
       "      <td>909</td>\n",
       "      <td>2</td>\n",
       "    </tr>\n",
       "    <tr>\n",
       "      <th>9</th>\n",
       "      <td>iOS Engineer</td>\n",
       "      <td>780</td>\n",
       "      <td>0</td>\n",
       "      <td>115</td>\n",
       "      <td>3</td>\n",
       "    </tr>\n",
       "  </tbody>\n",
       "</table>\n",
       "</div>"
      ],
      "text/plain": [
       "                       title  leads  matches  diverse  signals\n",
       "0           Android Engineer   4872        0     1163        4\n",
       "1             Data Scientist    156        0       27        5\n",
       "2             Director of IT     67        0       12        6\n",
       "3       Engineering Director    315        0       24        5\n",
       "4         Front End Engineer   2720        0      645        5\n",
       "5       Head of Data Science    343        0       64        5\n",
       "6         Security Engineer      80        0       10        6\n",
       "7  Site Reliability Engineer     18        0        4        7\n",
       "8          Software Engineer   4220        3      909        2\n",
       "9               iOS Engineer    780        0      115        3"
      ]
     },
     "execution_count": 9,
     "metadata": {},
     "output_type": "execute_result"
    }
   ],
   "source": [
    "df_ct"
   ]
  },
  {
   "cell_type": "code",
   "execution_count": 10,
   "metadata": {
    "collapsed": false
   },
   "outputs": [
    {
     "data": {
      "text/html": [
       "<div>\n",
       "<table border=\"1\" class=\"dataframe\">\n",
       "  <thead>\n",
       "    <tr style=\"text-align: right;\">\n",
       "      <th></th>\n",
       "      <th>title</th>\n",
       "      <th>per_leads_div</th>\n",
       "    </tr>\n",
       "  </thead>\n",
       "  <tbody>\n",
       "    <tr>\n",
       "      <th>0</th>\n",
       "      <td>Android Engineer</td>\n",
       "      <td>0.239</td>\n",
       "    </tr>\n",
       "    <tr>\n",
       "      <th>1</th>\n",
       "      <td>Data Scientist</td>\n",
       "      <td>0.173</td>\n",
       "    </tr>\n",
       "    <tr>\n",
       "      <th>2</th>\n",
       "      <td>Director of IT</td>\n",
       "      <td>0.179</td>\n",
       "    </tr>\n",
       "    <tr>\n",
       "      <th>3</th>\n",
       "      <td>Engineering Director</td>\n",
       "      <td>0.076</td>\n",
       "    </tr>\n",
       "    <tr>\n",
       "      <th>4</th>\n",
       "      <td>Front End Engineer</td>\n",
       "      <td>0.237</td>\n",
       "    </tr>\n",
       "    <tr>\n",
       "      <th>5</th>\n",
       "      <td>Head of Data Science</td>\n",
       "      <td>0.187</td>\n",
       "    </tr>\n",
       "    <tr>\n",
       "      <th>6</th>\n",
       "      <td>Security Engineer</td>\n",
       "      <td>0.125</td>\n",
       "    </tr>\n",
       "    <tr>\n",
       "      <th>7</th>\n",
       "      <td>Site Reliability Engineer</td>\n",
       "      <td>0.222</td>\n",
       "    </tr>\n",
       "    <tr>\n",
       "      <th>8</th>\n",
       "      <td>Software Engineer</td>\n",
       "      <td>0.215</td>\n",
       "    </tr>\n",
       "    <tr>\n",
       "      <th>9</th>\n",
       "      <td>iOS Engineer</td>\n",
       "      <td>0.147</td>\n",
       "    </tr>\n",
       "  </tbody>\n",
       "</table>\n",
       "</div>"
      ],
      "text/plain": [
       "                       title  per_leads_div\n",
       "0           Android Engineer          0.239\n",
       "1             Data Scientist          0.173\n",
       "2             Director of IT          0.179\n",
       "3       Engineering Director          0.076\n",
       "4         Front End Engineer          0.237\n",
       "5       Head of Data Science          0.187\n",
       "6         Security Engineer           0.125\n",
       "7  Site Reliability Engineer          0.222\n",
       "8          Software Engineer          0.215\n",
       "9               iOS Engineer          0.147"
      ]
     },
     "execution_count": 10,
     "metadata": {},
     "output_type": "execute_result"
    }
   ],
   "source": [
    "df_le"
   ]
  },
  {
   "cell_type": "code",
   "execution_count": 11,
   "metadata": {
    "collapsed": false
   },
   "outputs": [
    {
     "data": {
      "text/html": [
       "<div>\n",
       "<table border=\"1\" class=\"dataframe\">\n",
       "  <thead>\n",
       "    <tr style=\"text-align: right;\">\n",
       "      <th></th>\n",
       "      <th>title</th>\n",
       "      <th>per_match_div</th>\n",
       "    </tr>\n",
       "  </thead>\n",
       "  <tbody>\n",
       "    <tr>\n",
       "      <th>0</th>\n",
       "      <td>Android Engineer</td>\n",
       "      <td>0.000</td>\n",
       "    </tr>\n",
       "    <tr>\n",
       "      <th>1</th>\n",
       "      <td>Data Scientist</td>\n",
       "      <td>0.000</td>\n",
       "    </tr>\n",
       "    <tr>\n",
       "      <th>2</th>\n",
       "      <td>Director of IT</td>\n",
       "      <td>0.000</td>\n",
       "    </tr>\n",
       "    <tr>\n",
       "      <th>3</th>\n",
       "      <td>Engineering Director</td>\n",
       "      <td>0.000</td>\n",
       "    </tr>\n",
       "    <tr>\n",
       "      <th>4</th>\n",
       "      <td>Front End Engineer</td>\n",
       "      <td>0.000</td>\n",
       "    </tr>\n",
       "    <tr>\n",
       "      <th>5</th>\n",
       "      <td>Head of Data Science</td>\n",
       "      <td>0.000</td>\n",
       "    </tr>\n",
       "    <tr>\n",
       "      <th>6</th>\n",
       "      <td>Security Engineer</td>\n",
       "      <td>0.000</td>\n",
       "    </tr>\n",
       "    <tr>\n",
       "      <th>7</th>\n",
       "      <td>Site Reliability Engineer</td>\n",
       "      <td>0.000</td>\n",
       "    </tr>\n",
       "    <tr>\n",
       "      <th>8</th>\n",
       "      <td>Software Engineer</td>\n",
       "      <td>0.333</td>\n",
       "    </tr>\n",
       "    <tr>\n",
       "      <th>9</th>\n",
       "      <td>iOS Engineer</td>\n",
       "      <td>0.000</td>\n",
       "    </tr>\n",
       "  </tbody>\n",
       "</table>\n",
       "</div>"
      ],
      "text/plain": [
       "                       title  per_match_div\n",
       "0           Android Engineer          0.000\n",
       "1             Data Scientist          0.000\n",
       "2             Director of IT          0.000\n",
       "3       Engineering Director          0.000\n",
       "4         Front End Engineer          0.000\n",
       "5       Head of Data Science          0.000\n",
       "6         Security Engineer           0.000\n",
       "7  Site Reliability Engineer          0.000\n",
       "8          Software Engineer          0.333\n",
       "9               iOS Engineer          0.000"
      ]
     },
     "execution_count": 11,
     "metadata": {},
     "output_type": "execute_result"
    }
   ],
   "source": [
    "df_ma"
   ]
  },
  {
   "cell_type": "code",
   "execution_count": 12,
   "metadata": {
    "collapsed": true
   },
   "outputs": [],
   "source": [
    "df = pd.concat([df_ct, df_le['per_leads_div'], \n",
    "                df_ma['per_match_div']], axis=1)"
   ]
  },
  {
   "cell_type": "code",
   "execution_count": 3,
   "metadata": {
    "collapsed": false
   },
   "outputs": [
    {
     "data": {
      "text/html": [
       "<div>\n",
       "<table border=\"1\" class=\"dataframe\">\n",
       "  <thead>\n",
       "    <tr style=\"text-align: right;\">\n",
       "      <th></th>\n",
       "      <th>title</th>\n",
       "      <th>leads</th>\n",
       "      <th>matches</th>\n",
       "      <th>diverse</th>\n",
       "      <th>signals</th>\n",
       "      <th>per_leads_div</th>\n",
       "      <th>per_match_div</th>\n",
       "    </tr>\n",
       "  </thead>\n",
       "  <tbody>\n",
       "    <tr>\n",
       "      <th>0</th>\n",
       "      <td>Android Engineer</td>\n",
       "      <td>4872</td>\n",
       "      <td>0</td>\n",
       "      <td>1163</td>\n",
       "      <td>4</td>\n",
       "      <td>0.239</td>\n",
       "      <td>0.000</td>\n",
       "    </tr>\n",
       "    <tr>\n",
       "      <th>1</th>\n",
       "      <td>Data Scientist</td>\n",
       "      <td>156</td>\n",
       "      <td>0</td>\n",
       "      <td>27</td>\n",
       "      <td>5</td>\n",
       "      <td>0.173</td>\n",
       "      <td>0.000</td>\n",
       "    </tr>\n",
       "    <tr>\n",
       "      <th>2</th>\n",
       "      <td>Director of IT</td>\n",
       "      <td>67</td>\n",
       "      <td>0</td>\n",
       "      <td>12</td>\n",
       "      <td>6</td>\n",
       "      <td>0.179</td>\n",
       "      <td>0.000</td>\n",
       "    </tr>\n",
       "    <tr>\n",
       "      <th>3</th>\n",
       "      <td>Engineering Director</td>\n",
       "      <td>315</td>\n",
       "      <td>0</td>\n",
       "      <td>24</td>\n",
       "      <td>5</td>\n",
       "      <td>0.076</td>\n",
       "      <td>0.000</td>\n",
       "    </tr>\n",
       "    <tr>\n",
       "      <th>4</th>\n",
       "      <td>Front End Engineer</td>\n",
       "      <td>2720</td>\n",
       "      <td>0</td>\n",
       "      <td>645</td>\n",
       "      <td>5</td>\n",
       "      <td>0.237</td>\n",
       "      <td>0.000</td>\n",
       "    </tr>\n",
       "    <tr>\n",
       "      <th>5</th>\n",
       "      <td>Head of Data Science</td>\n",
       "      <td>343</td>\n",
       "      <td>0</td>\n",
       "      <td>64</td>\n",
       "      <td>5</td>\n",
       "      <td>0.187</td>\n",
       "      <td>0.000</td>\n",
       "    </tr>\n",
       "    <tr>\n",
       "      <th>6</th>\n",
       "      <td>Security Engineer</td>\n",
       "      <td>80</td>\n",
       "      <td>0</td>\n",
       "      <td>10</td>\n",
       "      <td>6</td>\n",
       "      <td>0.125</td>\n",
       "      <td>0.000</td>\n",
       "    </tr>\n",
       "    <tr>\n",
       "      <th>7</th>\n",
       "      <td>Site Reliability Engineer</td>\n",
       "      <td>18</td>\n",
       "      <td>0</td>\n",
       "      <td>4</td>\n",
       "      <td>7</td>\n",
       "      <td>0.222</td>\n",
       "      <td>0.000</td>\n",
       "    </tr>\n",
       "    <tr>\n",
       "      <th>8</th>\n",
       "      <td>Software Engineer</td>\n",
       "      <td>4220</td>\n",
       "      <td>3</td>\n",
       "      <td>909</td>\n",
       "      <td>2</td>\n",
       "      <td>0.215</td>\n",
       "      <td>0.333</td>\n",
       "    </tr>\n",
       "    <tr>\n",
       "      <th>9</th>\n",
       "      <td>iOS Engineer</td>\n",
       "      <td>780</td>\n",
       "      <td>0</td>\n",
       "      <td>115</td>\n",
       "      <td>3</td>\n",
       "      <td>0.147</td>\n",
       "      <td>0.000</td>\n",
       "    </tr>\n",
       "  </tbody>\n",
       "</table>\n",
       "</div>"
      ],
      "text/plain": [
       "                       title  leads  matches  diverse  signals  per_leads_div  \\\n",
       "0           Android Engineer   4872        0     1163        4          0.239   \n",
       "1             Data Scientist    156        0       27        5          0.173   \n",
       "2             Director of IT     67        0       12        6          0.179   \n",
       "3       Engineering Director    315        0       24        5          0.076   \n",
       "4         Front End Engineer   2720        0      645        5          0.237   \n",
       "5       Head of Data Science    343        0       64        5          0.187   \n",
       "6         Security Engineer      80        0       10        6          0.125   \n",
       "7  Site Reliability Engineer     18        0        4        7          0.222   \n",
       "8          Software Engineer   4220        3      909        2          0.215   \n",
       "9               iOS Engineer    780        0      115        3          0.147   \n",
       "\n",
       "   per_match_div  \n",
       "0          0.000  \n",
       "1          0.000  \n",
       "2          0.000  \n",
       "3          0.000  \n",
       "4          0.000  \n",
       "5          0.000  \n",
       "6          0.000  \n",
       "7          0.000  \n",
       "8          0.333  \n",
       "9          0.000  "
      ]
     },
     "execution_count": 3,
     "metadata": {},
     "output_type": "execute_result"
    }
   ],
   "source": [
    "df"
   ]
  },
  {
   "cell_type": "code",
   "execution_count": 4,
   "metadata": {
    "collapsed": true
   },
   "outputs": [],
   "source": [
    "df['date'] = datetime.date.today()\n",
    "cols = df.columns.tolist()\n",
    "df = df[[cols[0]] + [cols[-1]] + cols[1:-1]]"
   ]
  },
  {
   "cell_type": "markdown",
   "metadata": {},
   "source": [
    "#### The below dataframe contains all active positions for Thumbtack with their respective counts for Leads, Matches, Diverse and Signals. We are also looking at the % of diverse leads and the % of diverse matches."
   ]
  },
  {
   "cell_type": "code",
   "execution_count": 5,
   "metadata": {
    "collapsed": false
   },
   "outputs": [
    {
     "data": {
      "text/html": [
       "<div>\n",
       "<table border=\"1\" class=\"dataframe\">\n",
       "  <thead>\n",
       "    <tr style=\"text-align: right;\">\n",
       "      <th></th>\n",
       "      <th>title</th>\n",
       "      <th>date</th>\n",
       "      <th>leads</th>\n",
       "      <th>matches</th>\n",
       "      <th>diverse</th>\n",
       "      <th>signals</th>\n",
       "      <th>per_leads_div</th>\n",
       "      <th>per_match_div</th>\n",
       "    </tr>\n",
       "  </thead>\n",
       "  <tbody>\n",
       "    <tr>\n",
       "      <th>0</th>\n",
       "      <td>Android Engineer</td>\n",
       "      <td>2016-08-03</td>\n",
       "      <td>4872</td>\n",
       "      <td>0</td>\n",
       "      <td>1163</td>\n",
       "      <td>4</td>\n",
       "      <td>0.239</td>\n",
       "      <td>0.000</td>\n",
       "    </tr>\n",
       "    <tr>\n",
       "      <th>1</th>\n",
       "      <td>Data Scientist</td>\n",
       "      <td>2016-08-03</td>\n",
       "      <td>156</td>\n",
       "      <td>0</td>\n",
       "      <td>27</td>\n",
       "      <td>5</td>\n",
       "      <td>0.173</td>\n",
       "      <td>0.000</td>\n",
       "    </tr>\n",
       "    <tr>\n",
       "      <th>2</th>\n",
       "      <td>Director of IT</td>\n",
       "      <td>2016-08-03</td>\n",
       "      <td>67</td>\n",
       "      <td>0</td>\n",
       "      <td>12</td>\n",
       "      <td>6</td>\n",
       "      <td>0.179</td>\n",
       "      <td>0.000</td>\n",
       "    </tr>\n",
       "    <tr>\n",
       "      <th>3</th>\n",
       "      <td>Engineering Director</td>\n",
       "      <td>2016-08-03</td>\n",
       "      <td>315</td>\n",
       "      <td>0</td>\n",
       "      <td>24</td>\n",
       "      <td>5</td>\n",
       "      <td>0.076</td>\n",
       "      <td>0.000</td>\n",
       "    </tr>\n",
       "    <tr>\n",
       "      <th>4</th>\n",
       "      <td>Front End Engineer</td>\n",
       "      <td>2016-08-03</td>\n",
       "      <td>2720</td>\n",
       "      <td>0</td>\n",
       "      <td>645</td>\n",
       "      <td>5</td>\n",
       "      <td>0.237</td>\n",
       "      <td>0.000</td>\n",
       "    </tr>\n",
       "    <tr>\n",
       "      <th>5</th>\n",
       "      <td>Head of Data Science</td>\n",
       "      <td>2016-08-03</td>\n",
       "      <td>343</td>\n",
       "      <td>0</td>\n",
       "      <td>64</td>\n",
       "      <td>5</td>\n",
       "      <td>0.187</td>\n",
       "      <td>0.000</td>\n",
       "    </tr>\n",
       "    <tr>\n",
       "      <th>6</th>\n",
       "      <td>Security Engineer</td>\n",
       "      <td>2016-08-03</td>\n",
       "      <td>80</td>\n",
       "      <td>0</td>\n",
       "      <td>10</td>\n",
       "      <td>6</td>\n",
       "      <td>0.125</td>\n",
       "      <td>0.000</td>\n",
       "    </tr>\n",
       "    <tr>\n",
       "      <th>7</th>\n",
       "      <td>Site Reliability Engineer</td>\n",
       "      <td>2016-08-03</td>\n",
       "      <td>18</td>\n",
       "      <td>0</td>\n",
       "      <td>4</td>\n",
       "      <td>7</td>\n",
       "      <td>0.222</td>\n",
       "      <td>0.000</td>\n",
       "    </tr>\n",
       "    <tr>\n",
       "      <th>8</th>\n",
       "      <td>Software Engineer</td>\n",
       "      <td>2016-08-03</td>\n",
       "      <td>4220</td>\n",
       "      <td>3</td>\n",
       "      <td>909</td>\n",
       "      <td>2</td>\n",
       "      <td>0.215</td>\n",
       "      <td>0.333</td>\n",
       "    </tr>\n",
       "    <tr>\n",
       "      <th>9</th>\n",
       "      <td>iOS Engineer</td>\n",
       "      <td>2016-08-03</td>\n",
       "      <td>780</td>\n",
       "      <td>0</td>\n",
       "      <td>115</td>\n",
       "      <td>3</td>\n",
       "      <td>0.147</td>\n",
       "      <td>0.000</td>\n",
       "    </tr>\n",
       "  </tbody>\n",
       "</table>\n",
       "</div>"
      ],
      "text/plain": [
       "                       title        date  leads  matches  diverse  signals  \\\n",
       "0           Android Engineer  2016-08-03   4872        0     1163        4   \n",
       "1             Data Scientist  2016-08-03    156        0       27        5   \n",
       "2             Director of IT  2016-08-03     67        0       12        6   \n",
       "3       Engineering Director  2016-08-03    315        0       24        5   \n",
       "4         Front End Engineer  2016-08-03   2720        0      645        5   \n",
       "5       Head of Data Science  2016-08-03    343        0       64        5   \n",
       "6         Security Engineer   2016-08-03     80        0       10        6   \n",
       "7  Site Reliability Engineer  2016-08-03     18        0        4        7   \n",
       "8          Software Engineer  2016-08-03   4220        3      909        2   \n",
       "9               iOS Engineer  2016-08-03    780        0      115        3   \n",
       "\n",
       "   per_leads_div  per_match_div  \n",
       "0          0.239          0.000  \n",
       "1          0.173          0.000  \n",
       "2          0.179          0.000  \n",
       "3          0.076          0.000  \n",
       "4          0.237          0.000  \n",
       "5          0.187          0.000  \n",
       "6          0.125          0.000  \n",
       "7          0.222          0.000  \n",
       "8          0.215          0.333  \n",
       "9          0.147          0.000  "
      ]
     },
     "execution_count": 5,
     "metadata": {},
     "output_type": "execute_result"
    }
   ],
   "source": [
    "df"
   ]
  },
  {
   "cell_type": "markdown",
   "metadata": {},
   "source": [
    "#### Save the dataframe on the current date"
   ]
  },
  {
   "cell_type": "code",
   "execution_count": 6,
   "metadata": {
    "collapsed": true
   },
   "outputs": [],
   "source": [
    "df.to_csv(path_or_buf='data/thumbtack_analysis_' + str(datetime.date.today()) + '.csv')"
   ]
  },
  {
   "cell_type": "markdown",
   "metadata": {},
   "source": [
    "#### Averages for each column"
   ]
  },
  {
   "cell_type": "code",
   "execution_count": 15,
   "metadata": {
    "collapsed": false
   },
   "outputs": [
    {
     "data": {
      "text/plain": [
       "leads            1357.1000\n",
       "matches             0.3000\n",
       "diverse           297.3000\n",
       "signals             4.8000\n",
       "per_leads_div       0.1800\n",
       "per_match_div       0.0333\n",
       "dtype: float64"
      ]
     },
     "execution_count": 15,
     "metadata": {},
     "output_type": "execute_result"
    }
   ],
   "source": [
    "df.mean()"
   ]
  },
  {
   "cell_type": "code",
   "execution_count": 16,
   "metadata": {
    "collapsed": true
   },
   "outputs": [],
   "source": [
    "def plot_bar(x, y, x_label, y_label, title, ylim):\n",
    "    fig, ax = plt.subplots(figsize=(9, 7))\n",
    "    lbl = x\n",
    "    x = np.arange(len(x))\n",
    "    pos = x + 0.5\n",
    "    ax.bar(pos, y, align='center', width=0.8, color='g');\n",
    "    ax.set_xticks(pos);\n",
    "    ax.set_xticklabels(labels=lbl, rotation='vertical');\n",
    "    ax.set_xlabel(x_label);\n",
    "    ax.set_ylabel(y_label);\n",
    "    ax.set_title(title);\n",
    "    ax.set_ylim(top=ylim);"
   ]
  },
  {
   "cell_type": "markdown",
   "metadata": {},
   "source": [
    "### Bar plots for each of the activity measures"
   ]
  },
  {
   "cell_type": "code",
   "execution_count": 17,
   "metadata": {
    "collapsed": false
   },
   "outputs": [
    {
     "data": {
      "image/png": "[encoded data removed]",
      "text/plain": [
       "<matplotlib.figure.Figure at 0x114cf0150>"
      ]
     },
     "metadata": {},
     "output_type": "display_data"
    }
   ],
   "source": [
    "plot_bar(df['title'], df['leads'], 'Job Position', 'Leads', 'Job Position vs. Leads', 5000)"
   ]
  },
  {
   "cell_type": "code",
   "execution_count": 18,
   "metadata": {
    "collapsed": false
   },
   "outputs": [
    {
     "data": {
      "image/png": "[encoded data removed]",
      "text/plain": [
       "<matplotlib.figure.Figure at 0x117fb6650>"
      ]
     },
     "metadata": {},
     "output_type": "display_data"
    }
   ],
   "source": [
    "plot_bar(df['title'], df['matches'], 'Job Position', 'Matches', 'Job Position vs. Matches', 5)"
   ]
  },
  {
   "cell_type": "code",
   "execution_count": 19,
   "metadata": {
    "collapsed": false
   },
   "outputs": [
    {
     "data": {
      "image/png": "[encoded data removed]",
      "text/plain": [
       "<matplotlib.figure.Figure at 0x1181da510>"
      ]
     },
     "metadata": {},
     "output_type": "display_data"
    }
   ],
   "source": [
    "plot_bar(df['title'], df['diverse'], 'Job Position', 'Diverse Candidates', 'Job Position vs. Diverse Candidates', 1200)"
   ]
  },
  {
   "cell_type": "code",
   "execution_count": 20,
   "metadata": {
    "collapsed": false
   },
   "outputs": [
    {
     "data": {
      "image/png": "[encoded data removed]",
      "text/plain": [
       "<matplotlib.figure.Figure at 0x118574d10>"
      ]
     },
     "metadata": {},
     "output_type": "display_data"
    }
   ],
   "source": [
    "plot_bar(df['title'], df['signals'], 'Job Position', 'Signals', 'Job Position vs. Signals', 10)"
   ]
  },
  {
   "cell_type": "code",
   "execution_count": 21,
   "metadata": {
    "collapsed": true
   },
   "outputs": [],
   "source": [
    "def dbl_plot_bar(x, y1, y2, x_label, y_label, title, ylim):\n",
    "    fig, ax = plt.subplots(figsize=(9, 7))\n",
    "    lbl = x\n",
    "    x = np.arange(len(x))\n",
    "    pos = x + 0.4\n",
    "    ax.bar(pos-0.2, y1*100, width=0.4, color='g', label='Leads %');\n",
    "    ax.bar(pos+0.2, y2*100, width=0.4, color='r', label='Matches %');\n",
    "    ax.set_xticks(pos+0.2);\n",
    "    ax.set_xticklabels(labels=lbl, rotation='vertical');\n",
    "    ax.set_xlabel(x_label);\n",
    "    ax.set_ylabel(y_label);\n",
    "    ax.set_title(title);\n",
    "    ax.set_ylim(top=ylim);\n",
    "    ax.legend();"
   ]
  },
  {
   "cell_type": "markdown",
   "metadata": {},
   "source": [
    "### Double bar plot comparing diversity % in the leads we provide and the matches that Thumbtack selects"
   ]
  },
  {
   "cell_type": "code",
   "execution_count": 22,
   "metadata": {
    "collapsed": false
   },
   "outputs": [
    {
     "data": {
      "image/png": "[encoded data removed]",
      "text/plain": [
       "<matplotlib.figure.Figure at 0x118926750>"
      ]
     },
     "metadata": {},
     "output_type": "display_data"
    }
   ],
   "source": [
    "dbl_plot_bar(df['title'], df['per_leads_div'], \n",
    "             df['per_match_div'], 'Job Position', 'Diversity %', \n",
    "             'Job Position vs. Diversity (Leads vs Matches)', 50)"
   ]
  }
 ],
 "metadata": {
  "kernelspec": {
   "display_name": "Python 2",
   "language": "python",
   "name": "python2"
  },
  "language_info": {
   "codemirror_mode": {
    "name": "ipython",
    "version": 2
   },
   "file_extension": ".py",
   "mimetype": "text/x-python",
   "name": "python",
   "nbconvert_exporter": "python",
   "pygments_lexer": "ipython2",
   "version": "2.7.12"
  }
 },
 "nbformat": 4,
 "nbformat_minor": 0
}

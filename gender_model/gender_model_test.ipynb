{
 "cells": [
  {
   "cell_type": "code",
   "execution_count": 81,
   "metadata": {
    "collapsed": false
   },
   "outputs": [],
   "source": [
    "import pandas as pd\n",
    "import numpy as np\n",
    "import matplotlib.pyplot as plt\n",
    "# from gender_io_nokey import get_genders\n",
    "from gender_io import get_genders\n",
    "from genderPredictor import genderPredictor\n",
    "% matplotlib inline"
   ]
  },
  {
   "cell_type": "markdown",
   "metadata": {},
   "source": [
    "### Import Name/Gender labeled data from online to use as a validation set\n",
    "Create a new dataframe which combines and shuffles both male and female names from the outside data source."
   ]
  },
  {
   "cell_type": "code",
   "execution_count": 2,
   "metadata": {
    "collapsed": false
   },
   "outputs": [],
   "source": [
    "titles = ['name', 'freq', 'cum_freq', 'rank']\n",
    "fem_names = pd.read_csv(\"http://deron.meranda.us/data/census-dist-female-first.txt\", names=titles, delim_whitespace=True)\n",
    "mal_names = pd.read_csv(\"http://deron.meranda.us/data/census-dist-male-first.txt\", names=titles, delim_whitespace=True)"
   ]
  },
  {
   "cell_type": "code",
   "execution_count": 3,
   "metadata": {
    "collapsed": true
   },
   "outputs": [],
   "source": [
    "fem_new = fem_names.sample(n=500, random_state=24)\n",
    "fem_new['old_index'] = fem_new.index\n",
    "fem_new['sex'] = 1\n",
    "mal_new = mal_names.sample(n=500, random_state=24)\n",
    "mal_new['old_index'] = mal_new.index\n",
    "mal_new['sex'] = 0"
   ]
  },
  {
   "cell_type": "code",
   "execution_count": 4,
   "metadata": {
    "collapsed": false
   },
   "outputs": [],
   "source": [
    "names_all = pd.concat([fem_new, mal_new], ignore_index=True)"
   ]
  },
  {
   "cell_type": "code",
   "execution_count": 5,
   "metadata": {
    "collapsed": false
   },
   "outputs": [
    {
     "data": {
      "text/html": [
       "<div>\n",
       "<table border=\"1\" class=\"dataframe\">\n",
       "  <thead>\n",
       "    <tr style=\"text-align: right;\">\n",
       "      <th></th>\n",
       "      <th>name</th>\n",
       "      <th>freq</th>\n",
       "      <th>cum_freq</th>\n",
       "      <th>rank</th>\n",
       "      <th>old_index</th>\n",
       "      <th>sex</th>\n",
       "    </tr>\n",
       "  </thead>\n",
       "  <tbody>\n",
       "    <tr>\n",
       "      <th>0</th>\n",
       "      <td>ARLEAN</td>\n",
       "      <td>0.001</td>\n",
       "      <td>89.575</td>\n",
       "      <td>3828</td>\n",
       "      <td>3827</td>\n",
       "      <td>1</td>\n",
       "    </tr>\n",
       "    <tr>\n",
       "      <th>1</th>\n",
       "      <td>ELEONORA</td>\n",
       "      <td>0.001</td>\n",
       "      <td>89.642</td>\n",
       "      <td>3890</td>\n",
       "      <td>3889</td>\n",
       "      <td>1</td>\n",
       "    </tr>\n",
       "    <tr>\n",
       "      <th>2</th>\n",
       "      <td>ANGELA</td>\n",
       "      <td>0.468</td>\n",
       "      <td>21.376</td>\n",
       "      <td>29</td>\n",
       "      <td>28</td>\n",
       "      <td>1</td>\n",
       "    </tr>\n",
       "    <tr>\n",
       "      <th>3</th>\n",
       "      <td>MARITZA</td>\n",
       "      <td>0.016</td>\n",
       "      <td>78.186</td>\n",
       "      <td>680</td>\n",
       "      <td>679</td>\n",
       "      <td>1</td>\n",
       "    </tr>\n",
       "    <tr>\n",
       "      <th>4</th>\n",
       "      <td>TAMMIE</td>\n",
       "      <td>0.026</td>\n",
       "      <td>74.593</td>\n",
       "      <td>507</td>\n",
       "      <td>506</td>\n",
       "      <td>1</td>\n",
       "    </tr>\n",
       "  </tbody>\n",
       "</table>\n",
       "</div>"
      ],
      "text/plain": [
       "       name   freq  cum_freq  rank  old_index  sex\n",
       "0    ARLEAN  0.001    89.575  3828       3827    1\n",
       "1  ELEONORA  0.001    89.642  3890       3889    1\n",
       "2    ANGELA  0.468    21.376    29         28    1\n",
       "3   MARITZA  0.016    78.186   680        679    1\n",
       "4    TAMMIE  0.026    74.593   507        506    1"
      ]
     },
     "execution_count": 5,
     "metadata": {},
     "output_type": "execute_result"
    }
   ],
   "source": [
    "names_all.head()"
   ]
  },
  {
   "cell_type": "code",
   "execution_count": 6,
   "metadata": {
    "collapsed": true
   },
   "outputs": [],
   "source": [
    "names_all = names_all.sample(frac=1, random_state=12).reset_index(drop=True)"
   ]
  },
  {
   "cell_type": "code",
   "execution_count": 8,
   "metadata": {
    "collapsed": false
   },
   "outputs": [
    {
     "data": {
      "text/html": [
       "<div>\n",
       "<table border=\"1\" class=\"dataframe\">\n",
       "  <thead>\n",
       "    <tr style=\"text-align: right;\">\n",
       "      <th></th>\n",
       "      <th>name</th>\n",
       "      <th>freq</th>\n",
       "      <th>cum_freq</th>\n",
       "      <th>rank</th>\n",
       "      <th>old_index</th>\n",
       "      <th>sex</th>\n",
       "    </tr>\n",
       "  </thead>\n",
       "  <tbody>\n",
       "    <tr>\n",
       "      <th>0</th>\n",
       "      <td>HOLLIS</td>\n",
       "      <td>0.009</td>\n",
       "      <td>87.170</td>\n",
       "      <td>707</td>\n",
       "      <td>706</td>\n",
       "      <td>0</td>\n",
       "    </tr>\n",
       "    <tr>\n",
       "      <th>1</th>\n",
       "      <td>GRAIG</td>\n",
       "      <td>0.004</td>\n",
       "      <td>89.958</td>\n",
       "      <td>1196</td>\n",
       "      <td>1195</td>\n",
       "      <td>0</td>\n",
       "    </tr>\n",
       "    <tr>\n",
       "      <th>2</th>\n",
       "      <td>LUCIEN</td>\n",
       "      <td>0.007</td>\n",
       "      <td>88.242</td>\n",
       "      <td>844</td>\n",
       "      <td>843</td>\n",
       "      <td>0</td>\n",
       "    </tr>\n",
       "    <tr>\n",
       "      <th>3</th>\n",
       "      <td>CIERRA</td>\n",
       "      <td>0.003</td>\n",
       "      <td>85.738</td>\n",
       "      <td>1751</td>\n",
       "      <td>1750</td>\n",
       "      <td>1</td>\n",
       "    </tr>\n",
       "    <tr>\n",
       "      <th>4</th>\n",
       "      <td>DARCEY</td>\n",
       "      <td>0.001</td>\n",
       "      <td>89.735</td>\n",
       "      <td>3979</td>\n",
       "      <td>3978</td>\n",
       "      <td>1</td>\n",
       "    </tr>\n",
       "  </tbody>\n",
       "</table>\n",
       "</div>"
      ],
      "text/plain": [
       "     name   freq  cum_freq  rank  old_index  sex\n",
       "0  HOLLIS  0.009    87.170   707        706    0\n",
       "1   GRAIG  0.004    89.958  1196       1195    0\n",
       "2  LUCIEN  0.007    88.242   844        843    0\n",
       "3  CIERRA  0.003    85.738  1751       1750    1\n",
       "4  DARCEY  0.001    89.735  3979       3978    1"
      ]
     },
     "execution_count": 8,
     "metadata": {},
     "output_type": "execute_result"
    }
   ],
   "source": [
    "names_all.head()"
   ]
  },
  {
   "cell_type": "markdown",
   "metadata": {},
   "source": [
    "### Get data from Genderize.io to use for model comparison\n",
    "Since genderize.io can only convert 10 names at a time, create a list of lists which contains all the names."
   ]
  },
  {
   "cell_type": "code",
   "execution_count": 9,
   "metadata": {
    "collapsed": false
   },
   "outputs": [],
   "source": [
    "names_only = np.array(names_all['name'])\n",
    "new_list = [names_only[i:i+10] for i in range(0, len(names_only), 10)]"
   ]
  },
  {
   "cell_type": "code",
   "execution_count": 10,
   "metadata": {
    "collapsed": false
   },
   "outputs": [
    {
     "data": {
      "text/html": [
       "<div>\n",
       "<table border=\"1\" class=\"dataframe\">\n",
       "  <thead>\n",
       "    <tr style=\"text-align: right;\">\n",
       "      <th></th>\n",
       "      <th>name</th>\n",
       "      <th>count</th>\n",
       "      <th>prob</th>\n",
       "      <th>sex</th>\n",
       "    </tr>\n",
       "  </thead>\n",
       "  <tbody>\n",
       "  </tbody>\n",
       "</table>\n",
       "</div>"
      ],
      "text/plain": [
       "Empty DataFrame\n",
       "Columns: [name, count, prob, sex]\n",
       "Index: []"
      ]
     },
     "execution_count": 10,
     "metadata": {},
     "output_type": "execute_result"
    }
   ],
   "source": [
    "genderize = pd.DataFrame(columns=['name','count','prob','sex'])\n",
    "genderize"
   ]
  },
  {
   "cell_type": "code",
   "execution_count": 11,
   "metadata": {
    "collapsed": false
   },
   "outputs": [],
   "source": [
    "for names in new_list:\n",
    "    lst_names = get_genders(list(names))\n",
    "    for grp in zip(list(names), lst_names):\n",
    "        genderize = genderize.append({'name': grp[0], 'count': grp[1][2], \n",
    "                                      'prob': grp[1][1], 'sex': grp[1][0]}, ignore_index=True)"
   ]
  },
  {
   "cell_type": "code",
   "execution_count": 12,
   "metadata": {
    "collapsed": false
   },
   "outputs": [
    {
     "data": {
      "text/plain": [
       "(     name  count  prob     sex\n",
       " 0  HOLLIS   11.0  0.55  female\n",
       " 1   GRAIG    5.0  1.00    male\n",
       " 2  LUCIEN   41.0  0.98    male\n",
       " 3  CIERRA   30.0  1.00  female\n",
       " 4  DARCEY   31.0  0.55    male, 1000)"
      ]
     },
     "execution_count": 12,
     "metadata": {},
     "output_type": "execute_result"
    }
   ],
   "source": [
    "genderize.head(), len(genderize)"
   ]
  },
  {
   "cell_type": "code",
   "execution_count": 13,
   "metadata": {
    "collapsed": false
   },
   "outputs": [],
   "source": [
    "genderize['count'] = genderize['count'].astype(float)\n",
    "genderize['prob'] = genderize['prob'].astype(float)"
   ]
  },
  {
   "cell_type": "markdown",
   "metadata": {},
   "source": [
    "#### DO NOT USE ORIGINAL COPY OF GENDERIZE DATAFRAME"
   ]
  },
  {
   "cell_type": "code",
   "execution_count": 33,
   "metadata": {
    "collapsed": true
   },
   "outputs": [],
   "source": [
    "genderize_cp = genderize.copy()"
   ]
  },
  {
   "cell_type": "code",
   "execution_count": 16,
   "metadata": {
    "collapsed": true
   },
   "outputs": [],
   "source": [
    "genderize.to_csv('genderize_orig.csv')"
   ]
  },
  {
   "cell_type": "markdown",
   "metadata": {},
   "source": [
    "### Create the alternate naive bayes model"
   ]
  },
  {
   "cell_type": "code",
   "execution_count": 17,
   "metadata": {
    "collapsed": false
   },
   "outputs": [
    {
     "name": "stdout",
     "output_type": "stream",
     "text": [
      "names.pickle exists, loading data\n",
      "names.pickle loaded\n",
      "32031 male names loaded, 56347 female names loaded\n",
      "Accuracy: 0.968941\n",
      "Most Informative Features\n",
      "\tlast_three = ENA\n",
      "\tlast_three = INA\n",
      "\tlast_three = CIA\n",
      "\tlast_three = LIA\n",
      "\tlast_three = NNA\n",
      "\tlast_two = DO\n",
      "\tlast_three = SIA\n",
      "\tlast_three = TTA\n",
      "\tlast_three = SHA\n",
      "\tlast_three = ISA\n",
      "Enter name to classify: Meena\n",
      "\n",
      "Meena is classified as F\n"
     ]
    }
   ],
   "source": [
    "run genderPredictor.py"
   ]
  },
  {
   "cell_type": "code",
   "execution_count": 18,
   "metadata": {
    "collapsed": false
   },
   "outputs": [],
   "source": [
    "gp = genderPredictor()"
   ]
  },
  {
   "cell_type": "code",
   "execution_count": 19,
   "metadata": {
    "collapsed": false
   },
   "outputs": [
    {
     "name": "stdout",
     "output_type": "stream",
     "text": [
      "names.pickle exists, loading data\n",
      "names.pickle loaded\n",
      "32031 male names loaded, 56347 female names loaded\n"
     ]
    }
   ],
   "source": [
    "accuracy = gp.trainAndTest()"
   ]
  },
  {
   "cell_type": "code",
   "execution_count": 20,
   "metadata": {
    "collapsed": true
   },
   "outputs": [],
   "source": [
    "feats = gp.getMostInformativeFeatures(10)"
   ]
  },
  {
   "cell_type": "markdown",
   "metadata": {},
   "source": [
    "### Create a function to test model accuracy"
   ]
  },
  {
   "cell_type": "code",
   "execution_count": 21,
   "metadata": {
    "collapsed": true
   },
   "outputs": [],
   "source": [
    "def get_acc(actual, pred):\n",
    "    count = 0\n",
    "    for each in zip(actual, pred):\n",
    "        if each[0] == each[1]:\n",
    "            count += 1\n",
    "    return 100 * float(count)/len(actual)"
   ]
  },
  {
   "cell_type": "markdown",
   "metadata": {},
   "source": [
    "Alternate Naive Bayes Model"
   ]
  },
  {
   "cell_type": "code",
   "execution_count": 22,
   "metadata": {
    "collapsed": true
   },
   "outputs": [],
   "source": [
    "gp_preds = [gp.classify(name) for name in names_only]"
   ]
  },
  {
   "cell_type": "code",
   "execution_count": 23,
   "metadata": {
    "collapsed": false
   },
   "outputs": [
    {
     "data": {
      "text/plain": [
       "{'F', 'M'}"
      ]
     },
     "execution_count": 23,
     "metadata": {},
     "output_type": "execute_result"
    }
   ],
   "source": [
    "set(gp_preds)"
   ]
  },
  {
   "cell_type": "code",
   "execution_count": 24,
   "metadata": {
    "collapsed": true
   },
   "outputs": [],
   "source": [
    "anb_pred = [0 if name == 'M' else 1 for name in gp_preds]"
   ]
  },
  {
   "cell_type": "code",
   "execution_count": 48,
   "metadata": {
    "collapsed": false
   },
   "outputs": [],
   "source": [
    "anb_acc = get_acc(list(names_all['sex']), anb_pred)"
   ]
  },
  {
   "cell_type": "code",
   "execution_count": 53,
   "metadata": {
    "collapsed": false
   },
   "outputs": [
    {
     "name": "stdout",
     "output_type": "stream",
     "text": [
      "The Naive Bayes Model accuracy is 79.4%.\n"
     ]
    }
   ],
   "source": [
    "print(\"The Naive Bayes Model accuracy is %s%%.\" % anb_acc)"
   ]
  },
  {
   "cell_type": "markdown",
   "metadata": {},
   "source": [
    "Genderize Model"
   ]
  },
  {
   "cell_type": "code",
   "execution_count": 28,
   "metadata": {
    "collapsed": false
   },
   "outputs": [
    {
     "data": {
      "text/plain": [
       "{u'None', u'female', u'male'}"
      ]
     },
     "execution_count": 28,
     "metadata": {},
     "output_type": "execute_result"
    }
   ],
   "source": [
    "set(genderize['sex'])"
   ]
  },
  {
   "cell_type": "code",
   "execution_count": 29,
   "metadata": {
    "collapsed": false
   },
   "outputs": [],
   "source": [
    "genderize_preds = []\n",
    "for name in genderize['sex']:\n",
    "    if name == 'male':\n",
    "        genderize_preds.append(0)\n",
    "    elif name == 'female':\n",
    "        genderize_preds.append(1)\n",
    "    else:\n",
    "        genderize_preds.append(2)"
   ]
  },
  {
   "cell_type": "code",
   "execution_count": 55,
   "metadata": {
    "collapsed": false
   },
   "outputs": [],
   "source": [
    "gen_acc = get_acc(list(names_all['sex']), genderize_preds)"
   ]
  },
  {
   "cell_type": "code",
   "execution_count": 56,
   "metadata": {
    "collapsed": false
   },
   "outputs": [
    {
     "name": "stdout",
     "output_type": "stream",
     "text": [
      "The Genderize.io model accuracy is 88.5%.\n"
     ]
    }
   ],
   "source": [
    "print(\"The Genderize.io model accuracy is %s%%.\" % gen_acc)"
   ]
  },
  {
   "cell_type": "markdown",
   "metadata": {},
   "source": [
    "### Where the Genderize model can improve"
   ]
  },
  {
   "cell_type": "code",
   "execution_count": 57,
   "metadata": {
    "collapsed": true
   },
   "outputs": [],
   "source": [
    "genderize_exp = genderize.copy()"
   ]
  },
  {
   "cell_type": "code",
   "execution_count": 60,
   "metadata": {
    "collapsed": false
   },
   "outputs": [],
   "source": [
    "genderize_exp['actual_sex'] = names_all['sex']"
   ]
  },
  {
   "cell_type": "code",
   "execution_count": 64,
   "metadata": {
    "collapsed": true
   },
   "outputs": [],
   "source": [
    "genderize_exp['sex'].replace('female', 1, inplace=True)\n",
    "genderize_exp['sex'].replace('male', 0, inplace=True)\n",
    "genderize_exp['sex'].replace('None', 2, inplace=True)"
   ]
  },
  {
   "cell_type": "code",
   "execution_count": 65,
   "metadata": {
    "collapsed": false
   },
   "outputs": [
    {
     "data": {
      "text/html": [
       "<div>\n",
       "<table border=\"1\" class=\"dataframe\">\n",
       "  <thead>\n",
       "    <tr style=\"text-align: right;\">\n",
       "      <th></th>\n",
       "      <th>name</th>\n",
       "      <th>count</th>\n",
       "      <th>prob</th>\n",
       "      <th>sex</th>\n",
       "      <th>actual_sex</th>\n",
       "    </tr>\n",
       "  </thead>\n",
       "  <tbody>\n",
       "    <tr>\n",
       "      <th>0</th>\n",
       "      <td>HOLLIS</td>\n",
       "      <td>11.0</td>\n",
       "      <td>0.55</td>\n",
       "      <td>1</td>\n",
       "      <td>0</td>\n",
       "    </tr>\n",
       "    <tr>\n",
       "      <th>1</th>\n",
       "      <td>GRAIG</td>\n",
       "      <td>5.0</td>\n",
       "      <td>1.00</td>\n",
       "      <td>0</td>\n",
       "      <td>0</td>\n",
       "    </tr>\n",
       "    <tr>\n",
       "      <th>2</th>\n",
       "      <td>LUCIEN</td>\n",
       "      <td>41.0</td>\n",
       "      <td>0.98</td>\n",
       "      <td>0</td>\n",
       "      <td>0</td>\n",
       "    </tr>\n",
       "    <tr>\n",
       "      <th>3</th>\n",
       "      <td>CIERRA</td>\n",
       "      <td>30.0</td>\n",
       "      <td>1.00</td>\n",
       "      <td>1</td>\n",
       "      <td>1</td>\n",
       "    </tr>\n",
       "    <tr>\n",
       "      <th>4</th>\n",
       "      <td>DARCEY</td>\n",
       "      <td>31.0</td>\n",
       "      <td>0.55</td>\n",
       "      <td>0</td>\n",
       "      <td>1</td>\n",
       "    </tr>\n",
       "  </tbody>\n",
       "</table>\n",
       "</div>"
      ],
      "text/plain": [
       "     name  count  prob  sex  actual_sex\n",
       "0  HOLLIS   11.0  0.55    1           0\n",
       "1   GRAIG    5.0  1.00    0           0\n",
       "2  LUCIEN   41.0  0.98    0           0\n",
       "3  CIERRA   30.0  1.00    1           1\n",
       "4  DARCEY   31.0  0.55    0           1"
      ]
     },
     "execution_count": 65,
     "metadata": {},
     "output_type": "execute_result"
    }
   ],
   "source": [
    "genderize_exp.head()"
   ]
  },
  {
   "cell_type": "code",
   "execution_count": 77,
   "metadata": {
    "collapsed": false
   },
   "outputs": [
    {
     "data": {
      "text/plain": [
       "0    512\n",
       "1    462\n",
       "2     26\n",
       "Name: sex, dtype: int64"
      ]
     },
     "execution_count": 77,
     "metadata": {},
     "output_type": "execute_result"
    }
   ],
   "source": [
    "genderize_exp['sex'].value_counts()"
   ]
  },
  {
   "cell_type": "markdown",
   "metadata": {},
   "source": [
    "About 2.6% of names are marked as 'None' using Genderize.io."
   ]
  },
  {
   "cell_type": "code",
   "execution_count": 116,
   "metadata": {
    "collapsed": false
   },
   "outputs": [
    {
     "data": {
      "text/plain": [
       "(460.0, 425.0)"
      ]
     },
     "execution_count": 116,
     "metadata": {},
     "output_type": "execute_result"
    }
   ],
   "source": [
    "corr_m = float(len(genderize_exp[(genderize_exp['actual_sex'] == 0) & (genderize_exp['sex'] == 0)]))\n",
    "corr_f = float(len(genderize_exp[(genderize_exp['actual_sex'] == 1) & (genderize_exp['sex'] == 1)]))\n",
    "total_m = len(genderize_exp[genderize_exp['actual_sex'] == 0])\n",
    "total_f = len(genderize_exp[genderize_exp['actual_sex'] == 1])\n",
    "corr_m, corr_f"
   ]
  },
  {
   "cell_type": "code",
   "execution_count": 98,
   "metadata": {
    "collapsed": false
   },
   "outputs": [
    {
     "data": {
      "text/plain": [
       "(92.0, 85.0)"
      ]
     },
     "execution_count": 98,
     "metadata": {},
     "output_type": "execute_result"
    }
   ],
   "source": [
    "100*corr_m/total_m, 100*corr_f/total_f"
   ]
  },
  {
   "cell_type": "markdown",
   "metadata": {},
   "source": [
    "Genderize does a better job with classification of males names than it does with female names, 92% accurate for male names and 85% accurate for female names."
   ]
  },
  {
   "cell_type": "code",
   "execution_count": 117,
   "metadata": {
    "collapsed": false
   },
   "outputs": [],
   "source": [
    "probs_1 = [0, .56, .61, .66, .71, .76, .81, .86, .91, .96]\n",
    "probs_2 = [.55, .6, .65, .7, .75, .8, .85, .9, .95, 1]\n",
    "pct = []\n",
    "prob_cnt = []\n",
    "for val1, val2 in zip(probs_1, probs_2):\n",
    "    df = genderize_exp[(genderize_exp['prob'] >= val1) & (genderize_exp['prob'] <= val2)]\n",
    "    count = float(sum(df['actual_sex'] == df['sex']))\n",
    "    pct.append(count/len(df))\n",
    "    prob_cnt.append(len(df))"
   ]
  },
  {
   "cell_type": "code",
   "execution_count": 118,
   "metadata": {
    "collapsed": false
   },
   "outputs": [
    {
     "data": {
      "text/plain": [
       "([0.175,\n",
       "  0.5333333333333333,\n",
       "  0.7692307692307693,\n",
       "  0.7692307692307693,\n",
       "  0.6,\n",
       "  0.7307692307692307,\n",
       "  0.8,\n",
       "  0.8157894736842105,\n",
       "  0.8225806451612904,\n",
       "  0.9561752988047809],\n",
       " [40, 15, 13, 13, 15, 26, 25, 38, 62, 753])"
      ]
     },
     "execution_count": 118,
     "metadata": {},
     "output_type": "execute_result"
    }
   ],
   "source": [
    "pct, prob_cnt"
   ]
  },
  {
   "cell_type": "code",
   "execution_count": 137,
   "metadata": {
    "collapsed": false
   },
   "outputs": [
    {
     "data": {
      "text/plain": [
       "<matplotlib.text.Text at 0x119909b10>"
      ]
     },
     "execution_count": 137,
     "metadata": {},
     "output_type": "execute_result"
    },
    {
     "data": {
      "image/png": "[encoded data removed]",
      "text/plain": [
       "<matplotlib.figure.Figure at 0x11f09b050>"
      ]
     },
     "metadata": {},
     "output_type": "display_data"
    }
   ],
   "source": [
    "plt.bar(xrange(10), pct, width=0.8, bottom=None, \n",
    "        tick_label=[.55, .6, .65, .7, .75, .8, .85, .9, .95, 1],\n",
    "        align='center')\n",
    "plt.xlabel(\"Probability of Gender Classification Accuracy (Genderize.io)\")\n",
    "plt.ylabel(\"Accurracy\")"
   ]
  },
  {
   "cell_type": "markdown",
   "metadata": {},
   "source": [
    "Names where the classification score for Genderize.io is less than or equal to 60% confident account for less than 7% of the total sample, but are highly innacurate (two left-most bars)."
   ]
  },
  {
   "cell_type": "markdown",
   "metadata": {},
   "source": [
    "### Ensemble (Combination) Gender Model"
   ]
  },
  {
   "cell_type": "code",
   "execution_count": 35,
   "metadata": {
    "collapsed": true
   },
   "outputs": [],
   "source": [
    "genderize_cp['NB_sex'] = gp_preds\n",
    "genderize_cp['NB_sex'].replace('M', 'male', inplace=True)\n",
    "genderize_cp['NB_sex'].replace('F', 'female', inplace=True)"
   ]
  },
  {
   "cell_type": "code",
   "execution_count": 41,
   "metadata": {
    "collapsed": false
   },
   "outputs": [
    {
     "data": {
      "text/html": [
       "<div>\n",
       "<table border=\"1\" class=\"dataframe\">\n",
       "  <thead>\n",
       "    <tr style=\"text-align: right;\">\n",
       "      <th></th>\n",
       "      <th>name</th>\n",
       "      <th>count</th>\n",
       "      <th>prob</th>\n",
       "      <th>sex</th>\n",
       "      <th>NB_sex</th>\n",
       "    </tr>\n",
       "  </thead>\n",
       "  <tbody>\n",
       "    <tr>\n",
       "      <th>0</th>\n",
       "      <td>HOLLIS</td>\n",
       "      <td>11.0</td>\n",
       "      <td>0.55</td>\n",
       "      <td>female</td>\n",
       "      <td>male</td>\n",
       "    </tr>\n",
       "    <tr>\n",
       "      <th>1</th>\n",
       "      <td>GRAIG</td>\n",
       "      <td>5.0</td>\n",
       "      <td>1.00</td>\n",
       "      <td>male</td>\n",
       "      <td>male</td>\n",
       "    </tr>\n",
       "    <tr>\n",
       "      <th>2</th>\n",
       "      <td>LUCIEN</td>\n",
       "      <td>41.0</td>\n",
       "      <td>0.98</td>\n",
       "      <td>male</td>\n",
       "      <td>male</td>\n",
       "    </tr>\n",
       "    <tr>\n",
       "      <th>3</th>\n",
       "      <td>CIERRA</td>\n",
       "      <td>30.0</td>\n",
       "      <td>1.00</td>\n",
       "      <td>female</td>\n",
       "      <td>female</td>\n",
       "    </tr>\n",
       "    <tr>\n",
       "      <th>4</th>\n",
       "      <td>DARCEY</td>\n",
       "      <td>31.0</td>\n",
       "      <td>0.55</td>\n",
       "      <td>male</td>\n",
       "      <td>female</td>\n",
       "    </tr>\n",
       "  </tbody>\n",
       "</table>\n",
       "</div>"
      ],
      "text/plain": [
       "     name  count  prob     sex  NB_sex\n",
       "0  HOLLIS   11.0  0.55  female    male\n",
       "1   GRAIG    5.0  1.00    male    male\n",
       "2  LUCIEN   41.0  0.98    male    male\n",
       "3  CIERRA   30.0  1.00  female  female\n",
       "4  DARCEY   31.0  0.55    male  female"
      ]
     },
     "execution_count": 41,
     "metadata": {},
     "output_type": "execute_result"
    }
   ],
   "source": [
    "genderize_cp.head()"
   ]
  },
  {
   "cell_type": "code",
   "execution_count": 47,
   "metadata": {
    "collapsed": false
   },
   "outputs": [
    {
     "name": "stdout",
     "output_type": "stream",
     "text": [
      "The cutoff is 0.55, the accuracy is 90.9.\n",
      "The cutoff is 0.6, the accuracy is 91.2.\n",
      "The cutoff is 0.65, the accuracy is 90.9.\n",
      "The cutoff is 0.7, the accuracy is 90.7.\n",
      "The cutoff is 0.75, the accuracy is 90.7.\n",
      "The cutoff is 0.8, the accuracy is 90.4.\n",
      "The cutoff is 0.85, the accuracy is 89.8.\n",
      "The cutoff is 0.9, the accuracy is 89.5.\n",
      "The cutoff is 0.95, the accuracy is 89.2.\n"
     ]
    }
   ],
   "source": [
    "cutoffs = [.55, .6, .65, .7, .75, .8, .85, .9, .95]\n",
    "for value in cutoffs:\n",
    "    df = genderize_cp.copy()\n",
    "    df.ix[df.prob <= value, 'sex'] = df[df['prob'] <= value]['NB_sex']\n",
    "    genderize_df_preds = []\n",
    "    for name in df['sex']:\n",
    "        if name == 'male':\n",
    "            genderize_df_preds.append(0)\n",
    "        elif name == 'female':\n",
    "            genderize_df_preds.append(1)\n",
    "        else:\n",
    "            genderize_df_preds.append(2)\n",
    "    print(\"The cutoff is %s, the accuracy is %s.\" % (value, get_acc(list(names_all['sex']), genderize_df_preds)))"
   ]
  },
  {
   "cell_type": "markdown",
   "metadata": {},
   "source": [
    "By substituting the Naive Bayes model for classifications where the Genderize.io confidence score is less than or equal to 60%, we can achieve a nearly 3% increase in classification accuracy from the Genderize.io model alone."
   ]
  }
 ],
 "metadata": {
  "kernelspec": {
   "display_name": "Python 2",
   "language": "python",
   "name": "python2"
  },
  "language_info": {
   "codemirror_mode": {
    "name": "ipython",
    "version": 2
   },
   "file_extension": ".py",
   "mimetype": "text/x-python",
   "name": "python",
   "nbconvert_exporter": "python",
   "pygments_lexer": "ipython2",
   "version": "2.7.12"
  }
 },
 "nbformat": 4,
 "nbformat_minor": 0
}
